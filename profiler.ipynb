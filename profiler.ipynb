{
 "cells": [
  {
   "cell_type": "code",
   "execution_count": 2,
   "id": "5eb7110f",
   "metadata": {},
   "outputs": [],
   "source": [
    "using HDF5;                     # for .hd5 file manipulation\n",
    "using DifferentialEquations;    # Provides a variety of differential solvers\n",
    "using LinearAlgebra: Diagonal;  # Efficient Diagonal matrixes\n",
    "using Statistics;               # Let's get this fucking bread \n",
    "using DataFrames;               # For succinct data manipulation\n",
    "using CSV;                      # For writing the data to prevent constant re-running\n",
    "using ForwardDiff;              # For profiling the gradients \n",
    "using Gadfly, Fontconfig, Cairo;# For plotting"
   ]
  },
  {
   "cell_type": "code",
   "execution_count": 4,
   "metadata": {},
   "outputs": [
    {
     "data": {
      "text/plain": [
       "bin"
      ]
     },
     "execution_count": 4,
     "metadata": {},
     "output_type": "execute_result"
    }
   ],
   "source": [
    "\"\"\"\n",
    "Takes time series data and calculates the average of each year.\n",
    "\"\"\"\n",
    "function bin(time_series::Vector, solution_vector::Vector)::Vector\n",
    "    local binned_solution = Vector(undef, 0);   # Setting a vector to hold the bins \n",
    "    local whole_times = @.floor(time_series);   # Creating a vector of discrete time.\n",
    "    for whole_time in unique(whole_times)       # Looping over the unique elements discrete times \n",
    "        local indexes = findall(whole_times .== whole_time);        # Getting the indexes\n",
    "        push!(binned_solution, mean(solution_vector[indexes]));   # Appending to binned_solution\n",
    "    end\n",
    "    return binned_solution\n",
    "end"
   ]
  },
  {
   "cell_type": "code",
   "execution_count": 5,
   "metadata": {},
   "outputs": [
    {
     "data": {
      "text/plain": [
       "read_hd5"
      ]
     },
     "execution_count": 5,
     "metadata": {},
     "output_type": "execute_result"
    }
   ],
   "source": [
    "\"\"\"\n",
    "Reads the flux (amounts), production (projection) and reserviour contents from \n",
    "a .hd5 file with file_name. It returns the transfer operator and production \n",
    "projection \n",
    "\"\"\"\n",
    "function read_hd5(file_name::String)::Tuple{Matrix{Float64}, Vector{Float64}}\n",
    "    local hd5 = h5open(file_name);                      # Opening the HDF5 file\n",
    "    local F = hd5[\"fluxes\"][1:end, 1:end];              # Retrieving the flux matrix \n",
    "    local P = hd5[\"production coefficients\"][1:end];    # Retrieving the projection of the production \n",
    "    local N = hd5[\"reservoir content\"][1:end, 1:end];   # The C14 reserviour contents \n",
    "    close(hd5);                                         # Closing the file \n",
    "\n",
    "    local λ = Diagonal([log(2) / 5730 for i in 1:11]);          # Constructing the decay matrix\n",
    "    F = transpose(F) ./ N;                                      # The proportion flux\n",
    "    local TO = transpose(F) - Diagonal(vec(sum(F, dims=2))) - λ;# Construncting the transfer operator\n",
    "    return TO, P                                           \n",
    "end"
   ]
  },
  {
   "cell_type": "code",
   "execution_count": 6,
   "metadata": {},
   "outputs": [
    {
     "data": {
      "text/plain": [
       "run_solver"
      ]
     },
     "execution_count": 6,
     "metadata": {},
     "output_type": "execute_result"
    }
   ],
   "source": [
    "\"\"\"\n",
    "Passed a solver function runs the solver and returns the speed and binned data\n",
    "\"\"\"\n",
    "function run_solver(solver, ∇::Function, U0::Vector, p)::Vector\n",
    "    local problem = ODEProblem(∇, U0, (760.0, 790.0), p);   # Creating the ODEProblem instance\n",
    "    local solution = solve(problem, reltol = 1e-6, solver()); # Solving the ODE  \n",
    "    local time = Array(solution.t);                         # Storing the time sampling \n",
    "    solution = Array(solution)[2, 1:end];   # Storing the solution for troposphere \n",
    "    solution = bin(time, solution);         # Getting the annual means\n",
    "    return solution;                        # Binning the results into years \n",
    "end"
   ]
  },
  {
   "cell_type": "code",
   "execution_count": 7,
   "metadata": {},
   "outputs": [
    {
     "data": {
      "text/plain": [
       "select_gradient_solver"
      ]
     },
     "execution_count": 7,
     "metadata": {},
     "output_type": "execute_result"
    }
   ],
   "source": [
    "\"\"\"\n",
    "Calculates the gradient using a χ² loss function. \n",
    "\"\"\"\n",
    "function select_gradient_solver(solver, ∇::Function, u0::Vector{Float64}, parameters)\n",
    "    function loss_function(params)  \n",
    "        local solution = run_solver(solver, ∇, u0, params); #! Naming\n",
    "        local ΔC14 = (solution .- u0[2]) ./ u0[2] .* 1000;  # Calculating ΔC14\n",
    "        local miyake = DataFrame(CSV.File(\"Miyake12.csv\")); # Reading Miyake data\n",
    "        local ΔC14 .+= mean(miyake.d14c[1:4]);  # Calculates the ticktack offset\n",
    "        local χ² = sum(((miyake.d14c .- ΔC14[1:28]) ./ miyake.sig_d14c) .^ 2);  # Calculating χ² \n",
    "        return -0.5 * χ²\n",
    "    end\n",
    "    return ForwardDiff.gradient(loss_function, parameters);\n",
    "end\n"
   ]
  },
  {
   "cell_type": "code",
   "execution_count": 8,
   "metadata": {},
   "outputs": [
    {
     "data": {
      "text/plain": [
       "speed_vs_accuracy_plot"
      ]
     },
     "execution_count": 8,
     "metadata": {},
     "output_type": "execute_result"
    }
   ],
   "source": [
    "\"\"\"\n",
    "This function constructs a plot of the input data assuming that it has the fields created by the more generalised \n",
    "\"\"\"\n",
    "function speed_vs_accuracy_plot(filename::String)\n",
    "    local r = DataFrame(CSV.File(filename));    # Reading data into the workspace\n",
    "    local datavisual = Gadfly.plot(# Plot object for manipultation \n",
    "        y=r.accuracy, x=r.time_mean, label=r.solver,    # Raw data \n",
    "        Guide.ylabel(\"Accuracy\"), Guide.xlabel(\"Time\"), # X, Y Labels  \n",
    "        # ymin=r.accuracy - r.accuracy_var,   # Y lower error bar\n",
    "        # ymax=r.accuracy + r.accuracy_var,   # Y upper error bar\n",
    "        xmin=r.time_mean - r.time_var,  # X lower error bar\n",
    "        xmax=r.time_mean + r.time_var,  # X upper error bar\n",
    "        Geom.xerrorbar, Geom.point, Geom.label, # Geometries \n",
    "        Scale.x_log10, Scale.y_log10)  # Setting log scales \n",
    "    return datavisual\n",
    "end"
   ]
  },
  {
   "cell_type": "markdown",
   "metadata": {},
   "source": [
    "Instead of taking +- $\\sigma$ you can manually set the tick of the error bars. Basically like a boxplot. I need to have better labels and units.\n",
    "\n",
    "Normailised terms are required."
   ]
  },
  {
   "cell_type": "code",
   "execution_count": null,
   "metadata": {},
   "outputs": [],
   "source": [
    "\"\"\"\n",
    "So this is highly experimental basically I am passing a function into the profile function, which takes only solver as an argument. This done using the wrapper method that I used earlier\n",
    "\"\"\"\n",
    "function profile(solvers::Vector, f::Function, ∇::Function, u0::Vector{Float64}, parameters::Vector, len::Integer)::DataFrame\n",
    "    #! Instead of using a matrix for data I could use a vector and then test the restults of \n",
    "    #! @.median()\n",
    "    local data = Matrix{Float64}(undef, length(solvers), len);    # Creating the storage Matrix \n",
    "    local t_mean = Vector{Float64}(undef, length(solvers));     # For the mean of the times\n",
    "    local t_var = Vector{Float64}(undef, length(solvers));      # For the time varience \n",
    "    local results = DataFrame(solver = @.string(solvers));      # DataFrame of summary Statistics\n",
    "\n",
    "    for (index, solver) in enumerate(solvers)           # Looping over the solvers \n",
    "        local time_sample = Vector{Float64}(undef, 10); # The different run times of each trial \n",
    "        for i in 1:10\n",
    "            local timer = time();               # Starting a timer\n",
    "            solution = f(solver, ∇, u0, parameters);       # Running the solver\n",
    "            time_sample[i] = time() - timer;    # ending the timer \n",
    "\n",
    "            if i == 10                          # Storing final run\n",
    "                data[index, 1:end] = solution;   # filling C14\n",
    "            end\n",
    "        end\n",
    "        t_mean[index] = mean(time_sample[2:end]);   # Storing run time ignoring compile run.\n",
    "        t_var[index] = var(time_sample[2:end]);     # Storing time error\n",
    "    end \n",
    "\n",
    "    data = (data' .- median(data, dims=1)')';       # Calculating deviations from median \n",
    "    data = @.abs(data);                             # Absolute deviations\n",
    "    results.accuracy = vec(mean(data, dims=2));     # Mean deviation from the median \n",
    "    results.accuracy_var = vec(var(data, dims=2));  # Calculating the RMSE error << is better \n",
    "    results.time_mean = t_mean;                     # Storing the mean run time\n",
    "    results.time_var = t_var;                       # Storing the varience of the time sample \n",
    "    \n",
    "    return results\n",
    "end"
   ]
  },
  {
   "cell_type": "code",
   "execution_count": 15,
   "metadata": {},
   "outputs": [
    {
     "ename": "LoadError",
     "evalue": "DimensionMismatch(\"arrays could not be broadcast to a common size; got a dimension with lengths 3 and 31\")",
     "output_type": "error",
     "traceback": [
      "DimensionMismatch(\"arrays could not be broadcast to a common size; got a dimension with lengths 3 and 31\")",
      "",
      "Stacktrace:",
      "  [1] _bcs1",
      "    @ ./broadcast.jl:501 [inlined]",
      "  [2] _bcs(shape::Tuple{Base.OneTo{Int64}, Base.OneTo{Int64}, Base.OneTo{Int64}}, newshape::Tuple{Base.OneTo{Int64}, Base.OneTo{Int64}, Base.OneTo{Int64}})",
      "    @ Base.Broadcast ./broadcast.jl:495",
      "  [3] broadcast_shape",
      "    @ ./broadcast.jl:489 [inlined]",
      "  [4] combine_axes",
      "    @ ./broadcast.jl:484 [inlined]",
      "  [5] _axes",
      "    @ ./broadcast.jl:209 [inlined]",
      "  [6] axes",
      "    @ ./broadcast.jl:207 [inlined]",
      "  [7] combine_axes",
      "    @ ./broadcast.jl:485 [inlined]",
      "  [8] instantiate",
      "    @ ./broadcast.jl:266 [inlined]",
      "  [9] materialize(bc::Base.Broadcast.Broadcasted{Base.Broadcast.DefaultArrayStyle{3}, Nothing, typeof(abs), Tuple{Base.Broadcast.Broadcasted{Base.Broadcast.DefaultArrayStyle{3}, Nothing, typeof(-), Tuple{PermutedDimsArray{Any, 3, (3, 2, 1), (3, 2, 1), Array{Any, 3}}, Array{Float64, 3}}}}})",
      "    @ Base.Broadcast ./broadcast.jl:883",
      " [10] profile(solvers::Vector{Type}, f::typeof(run_solver), ∇::Function, u0::Vector{Float64}, parameters::Vector{Float64})",
      "    @ Main ./In[14]:29",
      " [11] top-level scope",
      "    @ In[15]:38",
      " [12] eval",
      "    @ ./boot.jl:360 [inlined]",
      " [13] include_string(mapexpr::typeof(REPL.softscope), mod::Module, code::String, filename::String)",
      "    @ Base ./loading.jl:1116"
     ]
    }
   ],
   "source": [
    "TO, P = read_hd5(\"Guttler14.hd5\");      # Reading the data into the scope \n",
    "\n",
    "params = Vector{Float64}(undef, 6); # Storing the model params \n",
    "params[1] = 7.044873503263437;      # The mean position of the sinusoid \n",
    "params[2] = 0.18;                   # The modulation of the sinusoid w. r. t the mean\n",
    "params[3] = 11.0;                   # Setting period of the sinusoid \n",
    "params[4] = 1.25;                   # The phase shift of the sinusoid\n",
    "params[5] = 120.05769867244142;     # The height of the super gaussian \n",
    "params[6] = 12.0;                   # Width of the super-gaussian \n",
    "\n",
    "production(t, params) = params[1] * (1 + params[2] * \n",
    "    sin(2 * π / params[3] * t + params[4])) +           # Sinusoidal production \n",
    "    params[5] * exp(- (params[6] * (t - 775)) ^ 16);    # Super Gaussian event\n",
    "derivative(x, params, t) = vec(TO * x + production(t, params) * P);  # The derivative system \n",
    "\n",
    "u0 = TO \\ (- params[1] * P);  # Equilibriating the system\n",
    "\n",
    "burnproblem = ODEProblem(derivative, u0, (-360.0, 760.0), params);  # Burn in problem  \n",
    "burnsolution = solve(burnproblem, reltol=1e-6).u[end];              # Running model \n",
    "\n",
    "solvers = [TRBDF2, BS3, Tsit5, Rosenbrock23, ROS34PW1a, QNDF1, ABDF2, ExplicitRK, DP5, TanYam7, Vern6]\n",
    "\n",
    "#! so the hessian retruns a 6 by 6 array meaning that I get a dimension mismathch. \n",
    "# I need to somehow further generalise the profile function without breaking it on existing cases and without adding more argument passes. Perhaps a structure is what I need here. That way I can defined the shape of the arrays and whatnot be setting elements of the profile structure. This could work quite nicely actually.\n",
    "\n",
    "# time_sample = Vector{Float64}(undef, 10);\n",
    "# for i in 1:10\n",
    "#     timer = time();\n",
    "#     hessians = ForwardDiff.hessian(select_gradient_solver(BS3, derivative, burnsolution), params);\n",
    "#     time_sample[i] = time() - timer;\n",
    "# end\n",
    "\n",
    "# CSV.write(\"hessian_profiles.csv\", hessians);\n",
    "# hessian_plot = speed_vs_accuracy_plot(\"hessian_profiles.csv\");\n",
    "# draw(PDF(\"hessian.pdf\", 10cm, 10cm), hessian_plot);\n",
    "\n",
    "# fgrads = profile(solvers, select_gradient_solver, derivative, burnsolution, params, 6); \n",
    "solvers = profile([BS3, Tsit5, DP5], run_solver, derivative, burnsolution, params);\n",
    "\n",
    "#* I think the process is complete now I need to test it with the others and implement the plot.\n",
    "\n",
    "# CSV.write(\"gradient_profiles.csv\", fgrads); # Writing the data to a CSV\n",
    "# CSV.write(\"solver_profiles.csv\", solvers);  # Writing solver profile to CSV\n",
    "\n",
    "# fgrad_plot = speed_vs_accuracy_plot(\"gradient_profiles.csv\");   # Plot objects \n",
    "# solver_plot = speed_vs_accuracy_plot(\"solver_profiles.csv\");    # Plot object\n",
    "\n",
    "# draw(PDF(\"forwards_mode_gradient.pdf\", 10cm, 10cm), fgrad_plot);\n",
    "# draw(PDF(\"solver.pdf\", 10cm, 10cm), solver_plot);"
   ]
  },
  {
   "cell_type": "code",
   "execution_count": 12,
   "metadata": {},
   "outputs": [
    {
     "data": {
      "text/plain": [
       "31×1×1 Array{Float64, 3}:\n",
       "[:, :, 1] =\n",
       " 709.9903784248754\n",
       " 710.561611623547\n",
       " 710.7344690152225\n",
       " 710.5555966699058\n",
       " 710.063799134401\n",
       " 709.4277958025474\n",
       " 708.8354542743984\n",
       " 708.4831380362316\n",
       " 708.476409350554\n",
       " 708.807369330522\n",
       " 709.3963505462355\n",
       " 710.0678139156195\n",
       " 710.5572436264085\n",
       "   ⋮\n",
       " 716.5444710898129\n",
       " 716.3013610174344\n",
       " 716.3419936861244\n",
       " 716.484476792228\n",
       " 716.5439724656616\n",
       " 716.3550966979514\n",
       " 715.8603409109899\n",
       " 715.109769559736\n",
       " 714.2461245215875\n",
       " 713.4604483958059\n",
       " 712.9288462576691\n",
       " 712.7743900346481"
      ]
     },
     "execution_count": 12,
     "metadata": {},
     "output_type": "execute_result"
    }
   ],
   "source": [
    "solvers[2]"
   ]
  },
  {
   "cell_type": "code",
   "execution_count": 16,
   "metadata": {},
   "outputs": [
    {
     "ename": "LoadError",
     "evalue": "UndefVarError: f not defined",
     "output_type": "error",
     "traceback": [
      "UndefVarError: f not defined",
      "",
      "Stacktrace:",
      " [1] top-level scope",
      "   @ ./In[16]:14",
      " [2] eval",
      "   @ ./boot.jl:360 [inlined]",
      " [3] include_string(mapexpr::typeof(REPL.softscope), mod::Module, code::String, filename::String)",
      "   @ Base ./loading.jl:1116"
     ]
    }
   ],
   "source": [
    "\"\"\"\n",
    "So this is highly experimental basically I am passing a function into the profile function, which takes only solver as an argument. This done using the wrapper method that I used earlier\n",
    "\"\"\"\n",
    "function profile(solvers::Vector, f::Function, ∇::Function, u0::Vector{Float64}, parameters::Vector)\n",
    "    local data = Vector{Any}(undef, length(solvers));       # Creating the storage Matrix \n",
    "    local t_mean = Vector{Float64}(undef, length(solvers)); # For the mean of the times\n",
    "    local t_var = Vector{Float64}(undef, length(solvers));  # For the time varience \n",
    "    # local results = DataFrame(solver = @.string(solvers));  # DataFrame of summary Statistics\n",
    "\n",
    "    for (index, solver) in enumerate(solvers)           # Looping over the solvers \n",
    "        local time_sample = Vector{Float64}(undef, 10); # The different run times of each trial \n",
    "        for i in 1:10\n",
    "            local timer = time();                       # Starting a timer\n",
    "            solution = f(solver, ∇, u0, parameters);    # Running the solver\n",
    "            time_sample[i] = time() - timer;            # ending the timer \n",
    "\n",
    "            if i == 10                  # Storing final run\n",
    "                data[index] = solution; # filling C14\n",
    "            end\n",
    "        end\n",
    "        t_mean[index] = mean(time_sample[2:end]);   # Storing run time ignoring compile run.\n",
    "        t_var[index] = var(time_sample[2:end]);     # Storing time error\n",
    "    end \n",
    "\n",
    "    #? So this is looking very promising but I am not sure that it works yet\n",
    "    data = cat(data..., dims=3);                # Using multidimensional matrixes to store results\n",
    "    meds = median(data, dims=3);                # Calculating the median along the third dimensions\n",
    "    data = PermutedDimsArray(data, (3, 2, 1));  # Switching the dimensions for subtraction\n",
    "    devs = @.abs(data .- meds);                 # Calculating the deviations\n",
    "    devs = devs ./ data;                        # Normailised deviations,\n",
    "\n",
    "    results.accuracy = vec(mean(devs, dims=1));     # Mean deviation from the median \n",
    "    results.accuracy_var = vec(var(devs, dims=1));  # Calculating the RMSE error  \n",
    "    results.time_mean = t_mean;                     # Storing the mean run time\n",
    "    results.time_var = t_var;                       # Storing the varience of time sample \n",
    "    \n",
    "    return results\n",
    "end"
   ]
  }
 ],
 "metadata": {
  "kernelspec": {
   "display_name": "Julia 1.6.3",
   "language": "julia",
   "name": "julia-1.6"
  },
  "language_info": {
   "file_extension": ".jl",
   "mimetype": "application/julia",
   "name": "julia",
   "version": "1.6.3"
  },
  "orig_nbformat": 4
 },
 "nbformat": 4,
 "nbformat_minor": 2
}
