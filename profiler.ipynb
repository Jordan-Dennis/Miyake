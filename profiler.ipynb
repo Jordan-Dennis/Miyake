{
 "cells": [
  {
   "cell_type": "code",
   "execution_count": 93,
   "id": "5eb7110f",
   "metadata": {},
   "outputs": [],
   "source": [
    "using HDF5;                     # for .hd5 file manipulation\n",
    "using DifferentialEquations;    # Provides a variety of differential solvers\n",
    "using LinearAlgebra: Diagonal;  # Efficient Diagonal matrixes\n",
    "using Statistics;               # Let's get this fucking bread \n",
    "using DataFrames;               # For succinct data manipulation\n",
    "using CSV;                      # For writing the data to prevent constant re-running\n",
    "using ForwardDiff;              # For profiling the gradients \n",
    "using Gadfly;                   #! For testing"
   ]
  },
  {
   "cell_type": "code",
   "execution_count": 94,
   "metadata": {},
   "outputs": [
    {
     "data": {
      "text/plain": [
       "bin"
      ]
     },
     "execution_count": 94,
     "metadata": {},
     "output_type": "execute_result"
    }
   ],
   "source": [
    "\"\"\"\n",
    "Takes time series data and calculates the average of each year.\n",
    "\"\"\"\n",
    "function bin(time_series::Vector, solution_vector::Vector)::Vector\n",
    "    local binned_solution = Vector(undef, 0);   # Setting a vector to hold the bins \n",
    "    local whole_times = @.floor(time_series);   # Creating a vector of discrete time.\n",
    "    for whole_time in unique(whole_times)       # Looping over the unique elements discrete times \n",
    "        local indexes = findall(whole_times .== whole_time);        # Getting the indexes\n",
    "        push!(binned_solution, mean(solution_vector[indexes]));   # Appending to binned_solution\n",
    "    end\n",
    "    return binned_solution\n",
    "end"
   ]
  },
  {
   "cell_type": "code",
   "execution_count": 95,
   "metadata": {},
   "outputs": [
    {
     "data": {
      "text/plain": [
       "read_hd5"
      ]
     },
     "execution_count": 95,
     "metadata": {},
     "output_type": "execute_result"
    }
   ],
   "source": [
    "\"\"\"\n",
    "Reads the flux (amounts), production (projection) and reserviour contents from \n",
    "a .hd5 file with file_name. It returns the transfer operator and production \n",
    "projection \n",
    "\"\"\"\n",
    "function read_hd5(file_name::String)::Tuple{Matrix{Float64}, Vector{Float64}}\n",
    "    local hd5 = h5open(file_name);                      # Opening the HDF5 file\n",
    "    local F = hd5[\"fluxes\"][1:end, 1:end];              # Retrieving the flux matrix \n",
    "    local P = hd5[\"production coefficients\"][1:end];    # Retrieving the projection of the production \n",
    "    local N = hd5[\"reservoir content\"][1:end, 1:end];   # The C14 reserviour contents \n",
    "    close(hd5);                                         # Closing the file \n",
    "\n",
    "    local λ = Diagonal([log(2) / 5730 for i in 1:11]);          # Constructing the decay matrix\n",
    "    F = transpose(F) ./ N;                                      # The proportion flux\n",
    "    local TO = transpose(F) - Diagonal(vec(sum(F, dims=2))) - λ;# Construncting the transfer operator\n",
    "    return TO, P                                           \n",
    "end"
   ]
  },
  {
   "cell_type": "code",
   "execution_count": 128,
   "metadata": {},
   "outputs": [
    {
     "data": {
      "text/plain": [
       "run_solver"
      ]
     },
     "execution_count": 128,
     "metadata": {},
     "output_type": "execute_result"
    }
   ],
   "source": [
    "\"\"\"\n",
    "Passed a solver function runs the solver and returns the speed and binned data\n",
    "\"\"\"\n",
    "function run_solver(solver, ∇::Function, U0::Vector, p::Vector)::Vector\n",
    "    local problem = ODEProblem(∇, U0, (760.0, 790.0), p);   # Creating the ODEProblem instance\n",
    "    local solution = solve(problem, reltol = 1e-6, solver()); # Solving the ODE  \n",
    "    local time = Array(solution.t);                         # Storing the time sampling \n",
    "    solution = Array(solution)[2, 1:end];   # Storing the solution for troposphere \n",
    "    solution = bin(time, solution);         # Getting the annual means\n",
    "    return solution;                        # Binning the results into years \n",
    "end"
   ]
  },
  {
   "cell_type": "code",
   "execution_count": 127,
   "metadata": {},
   "outputs": [
    {
     "data": {
      "text/plain": [
       "select_gradient_solver"
      ]
     },
     "execution_count": 127,
     "metadata": {},
     "output_type": "execute_result"
    }
   ],
   "source": [
    "\"\"\"\n",
    "Calculates the gradient using a χ² loss function. \n",
    "\"\"\"\n",
    "function select_gradient_solver(solver, ∇::Function, u0::Vector{Float64}, parameters)\n",
    "    function loss_function(params)  \n",
    "        local solution = run_solver(solver, ∇, u0, params); #! Naming\n",
    "        local ΔC14 = (solution .- u0[2]) ./ u0[2] .* 1000;  # Calculating ΔC14\n",
    "        local miyake = DataFrame(CSV.File(\"Miyake12.csv\")); # Reading Miyake data\n",
    "        local ΔC14 .+= mean(miyake.d14c[1:4]);  # Calculates the ticktack offset\n",
    "        local χ² = sum(((miyake.d14c .- ΔC14[1:28]) ./ miyake.sig_d14c) .^ 2);  # Calculating χ² \n",
    "        return -0.5 * χ²\n",
    "    end\n",
    "    return ForwardDiff.gradient(loss_function, parameters)\n",
    "end\n"
   ]
  },
  {
   "cell_type": "code",
   "execution_count": 105,
   "metadata": {},
   "outputs": [
    {
     "data": {
      "text/plain": [
       "write_csv"
      ]
     },
     "execution_count": 105,
     "metadata": {},
     "output_type": "execute_result"
    }
   ],
   "source": [
    "\"\"\"\n",
    "Writes the results to a CSV file. If mode is set to append then the results are added to an existing CSV file without checking. Else the file is created with `append=false`.\n",
    "\"\"\"\n",
    "function write_csv(mode::String, data::DataFrame, filename::String)\n",
    "    if mode == \"append\";                           # Checking for the .csv file \n",
    "        CSV.write(filename, profiles, append=true);# Adding new solvers to the CSV\n",
    "    else \n",
    "        CSV.write(filename, profiles, append=false);# Creating the file if it does not exist \n",
    "    end\n",
    "end\n",
    "\n",
    "#! work is required here"
   ]
  },
  {
   "cell_type": "code",
   "execution_count": 101,
   "metadata": {},
   "outputs": [
    {
     "data": {
      "text/plain": [
       "speed_vs_accuracy_plot"
      ]
     },
     "execution_count": 101,
     "metadata": {},
     "output_type": "execute_result"
    }
   ],
   "source": [
    "\"\"\"\n",
    "This function constructs a plot of the input data assuming that it has the fields created by the more generalised \n",
    "\"\"\"\n",
    "function speed_vs_accuracy_plot(filename::String)\n",
    "    local r = DataFrame(CSV.File(filename));    # Reading data into the workspace\n",
    "    local datavisual = Gadfly.plot(# Plot object for manipultation \n",
    "        y=r.accuracy, x=r.time_means, label=r.solvers,    # Raw data \n",
    "        Guide.ylabel(\"Accuracy\"), Guide.xlabel(\"Time\"), # X, Y Labels  \n",
    "        ymin=r.accuracy - r.accuracy_var,   # Y lower error bar\n",
    "        ymax=r.accuracy + r.accuracy_var,   # Y upper error bar\n",
    "        xmin=r.time_means - r.time_vars,  # X lower error bar\n",
    "        xmax=r.time_means + r.time_vars,  # X upper error bar\n",
    "        Geom.yerrorbar, Geom.xerrorbar, Geom.point, Geom.label, # Geometries \n",
    "        Scale.x_log10, Scale.y_log10)  # Setting log scales \n",
    "    return datavisual\n",
    "end"
   ]
  },
  {
   "cell_type": "code",
   "execution_count": 129,
   "metadata": {},
   "outputs": [],
   "source": [
    "\"\"\"\n",
    "So this is highly experimental basically I am passing a function into the profile function, which takes only solver as an argument. This done using the wrapper method that I used earlier\n",
    "\"\"\"\n",
    "function profile(solvers::Vector, f::Function, ∇::Function, u0::Vector{Float64}, parameters::Vector, len::Integer)::DataFrame\n",
    "    #! A major challenge is going to be getting the array to be the correct shape.\n",
    "    local data = Matrix{Float64}(undef, length(solvers), len);    # Creating the storage Matrix \n",
    "    local t_mean = Vector{Float64}(undef, length(solvers));     # For the mean of the times\n",
    "    local t_var = Vector{Float64}(undef, length(solvers));      # For the time varience \n",
    "    local results = DataFrame(solver = @.string(solvers));      # DataFrame of summary Statistics\n",
    "\n",
    "    for (index, solver) in enumerate(solvers)           # Looping over the solvers \n",
    "        local time_sample = Vector{Float64}(undef, 10); # The different run times of each trial \n",
    "        for i in 1:10\n",
    "            local timer = time();               # Starting a timer\n",
    "            solution = f(solver, ∇, u0, parameters);       # Running the solver\n",
    "            time_sample[i] = time() - timer;    # ending the timer \n",
    "\n",
    "            if i == 10                          # Storing final run\n",
    "                data[index, 1:end] = solution;   # filling C14\n",
    "            end\n",
    "        end\n",
    "        t_mean[index] = mean(time_sample[2:end]);   # Storing run time ignoring compile run.\n",
    "        t_var[index] = var(time_sample[2:end]);     # Storing time error\n",
    "    end \n",
    "\n",
    "    data = (data' .- median(data, dims=1)')';       # Calculating deviations from median \n",
    "    data = @.abs(data);                             # Absolute deviations\n",
    "    results.accuracy = vec(mean(data, dims=2));     # Mean deviation from the median \n",
    "    results.accuracy_var = vec(var(data, dims=2));  # Calculating the RMSE error << is better \n",
    "    results.time_mean = t_mean;                     # Storing the mean run time\n",
    "    results.time_var = t_var;                       # Storing the varience of the time sample \n",
    "    \n",
    "    return results\n",
    "end"
   ]
  },
  {
   "cell_type": "code",
   "execution_count": 106,
   "metadata": {},
   "outputs": [
    {
     "data": {
      "text/plain": [
       "Plot(...)"
      ]
     },
     "metadata": {},
     "output_type": "display_data"
    }
   ],
   "source": [
    "function main()\n",
    "    TO, P = read_hd5(\"Guttler14.hd5\");      # Reading the data into the scope \n",
    "\n",
    "    params = Vector{Float64}(undef, 6); # Storing the model params \n",
    "    params[1] = 7.044873503263437;      # The mean position of the sinusoid \n",
    "    params[2] = 0.18;                   # The modulation of the sinusoid w. r. t the mean\n",
    "    params[3] = 11.0;                   # Setting period of the sinusoid \n",
    "    params[4] = 1.25;                   # The phase shift of the sinusoid\n",
    "    params[5] = 120.05769867244142;     # The height of the super gaussian \n",
    "    params[6] = 12.0;                   # Width of the super-gaussian \n",
    "\n",
    "    # The parameters to the model must be incorrect\n",
    "    production(t, params) = params[1] * (1 + params[2] * \n",
    "        sin(2 * π / params[3] * t + params[4])) +           # Sinusoidal production \n",
    "        params[5] * exp(- (params[6] * (t - 775)) ^ 16);    # Super Gaussian event\n",
    "    derivative(x, params, t) = vec(TO * x + production(t, params) * P);  # The derivative of the system \n",
    "\n",
    "    u0 = TO \\ (- params[1] * P);  # Equilibriating the system\n",
    "\n",
    "    burnproblem = ODEProblem(derivative, u0, (-360.0, 760.0), params);  # Burn in problem  \n",
    "    burnsolution = solve(burnproblem, reltol=1e-6).u[end];              # Running model \n",
    "\n",
    "    solvers = [TRBDF2, BS3, Tsit5, Rosenbrock23,\n",
    "        ROS34PW1a, QNDF1, ABDF2, ExplicitRK, DP5,\n",
    "        TanYam7, Vern6];\n",
    "    \n",
    "    forward_grads = profile(solvers, select_gradient_solver, derivative, burnsolution, params, 6);  \n",
    "    solvers = profile(solvers, run_solver, derivative, burnsolution, params, 31);\n",
    "    \n",
    "    write_csv(\"\", solvers);    # Writing the data to a CSV\n",
    "    saplot = speed_vs_accuracy_plot(\"gradient_profiles.csv\"); # constructing the plot object\n",
    "    display(saplot)\n",
    "end\n",
    "\n",
    "main()"
   ]
  },
  {
   "cell_type": "markdown",
   "metadata": {},
   "source": [
    "This is an attempt at the general profile function that I wish to use. I also need to improve the write csv function since at the moment it really sucs balls. So I could try and make it that f was a function of only the solver. by using the same wrapping technique that I used earlier. Hmmmmmmm.... I might try this."
   ]
  },
  {
   "cell_type": "code",
   "execution_count": null,
   "metadata": {},
   "outputs": [],
   "source": []
  }
 ],
 "metadata": {
  "kernelspec": {
   "display_name": "Julia 1.6.3",
   "language": "julia",
   "name": "julia-1.6"
  },
  "language_info": {
   "file_extension": ".jl",
   "mimetype": "application/julia",
   "name": "julia",
   "version": "1.6.3"
  },
  "orig_nbformat": 4
 },
 "nbformat": 4,
 "nbformat_minor": 2
}
