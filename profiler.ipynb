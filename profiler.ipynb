{
 "cells": [
  {
   "cell_type": "code",
   "execution_count": 1,
   "id": "5eb7110f",
   "metadata": {},
   "outputs": [],
   "source": [
    "using HDF5;                     # for .hd5 file manipulation\n",
    "using DifferentialEquations;    # Provides a variety of differential solvers\n",
    "using LinearAlgebra: Diagonal;  # Efficient Diagonal matrixes\n",
    "using Statistics;               # Let's get this fucking bread \n",
    "using DataFrames;               # For succinct data manipulation\n",
    "using CSV;                      # For writing the data to prevent constant re-running\n",
    "using ForwardDiff;              # For profiling the gradients "
   ]
  },
  {
   "cell_type": "code",
   "execution_count": 2,
   "metadata": {},
   "outputs": [
    {
     "data": {
      "text/plain": [
       "bin"
      ]
     },
     "execution_count": 2,
     "metadata": {},
     "output_type": "execute_result"
    }
   ],
   "source": [
    "\"\"\"\n",
    "Takes time series data and calculates the average of each year.\n",
    "\"\"\"\n",
    "function bin(time_series::Vector{Float64}, solution_vector::Vector{Float64})::Vector{Float64}\n",
    "    local binned_solution = Vector{Float64}(undef, 0);  # Setting a vector to hold the bins \n",
    "    local whole_times = @.floor(time_series);          # Creating a vector of discrete time.\n",
    "    for whole_time in unique(whole_times)                                           # Looping over the unique elements discrete times \n",
    "        local indexes = findall(whole_times .== whole_time);                        # Getting the indexes of the entries \n",
    "        append!(binned_solution, mean(solution_vector[indexes]));  # Appending to binned_solution\n",
    "    end\n",
    "    return binned_solution\n",
    "end"
   ]
  },
  {
   "cell_type": "code",
   "execution_count": 3,
   "metadata": {},
   "outputs": [
    {
     "data": {
      "text/plain": [
       "read_hd5"
      ]
     },
     "execution_count": 3,
     "metadata": {},
     "output_type": "execute_result"
    }
   ],
   "source": [
    "\"\"\"\n",
    "Reads the flux (amounts), production (projection) and reserviour contents from \n",
    "a .hd5 file with file_name. It returns the transfer operator and production \n",
    "projection \n",
    "\"\"\"\n",
    "function read_hd5(file_name::String)::Tuple{Matrix{Float64}, Vector{Float64}}\n",
    "    local hd5 = h5open(file_name);                      # Opening the HDF5 file\n",
    "    local F = hd5[\"fluxes\"][1:end, 1:end];              # Retrieving the flux matrix \n",
    "    local P = hd5[\"production coefficients\"][1:end];    # Retrieving the projection of the production \n",
    "    local N = hd5[\"reservoir content\"][1:end, 1:end];   # The C14 reserviour contents \n",
    "    close(hd5);                                         # Closing the file \n",
    "\n",
    "    local λ = Diagonal([log(2) / 5730 for i in 1:11]);          # Constructing the decay matrix\n",
    "    F = transpose(F) ./ N;                                      # The proportion flux\n",
    "    local TO = transpose(F) - Diagonal(vec(sum(F, dims=2))) - λ;# Construncting the transfer operator\n",
    "    return TO, P                                           \n",
    "end"
   ]
  },
  {
   "cell_type": "code",
   "execution_count": 4,
   "metadata": {},
   "outputs": [
    {
     "data": {
      "text/plain": [
       "run_solver"
      ]
     },
     "execution_count": 4,
     "metadata": {},
     "output_type": "execute_result"
    }
   ],
   "source": [
    "\"\"\"\n",
    "Passed a solver function runs the solver and returns the speed and binned data\n",
    "\"\"\"\n",
    "function run_solver(solver, ∇::Function, U0::Vector{Float64},\n",
    "        p::Vector{Float64})::Vector{Float64}\n",
    "\n",
    "    local problem = ODEProblem(∇, U0, (760.0, 790.0), p);      # Creating the ODEProblem instance\n",
    "    local solution = solve(problem, reltol = 1e-6, solver); # Solving the ODE over the period of interest \n",
    "    local time = Array(solution.t);                         # Storing the time sampling \n",
    "    \n",
    "    solution = Array(solution)[2, 1:end];   # Storing the solution for troposphere \n",
    "    solution = bin(time, solution);         # Getting the annual means\n",
    "    return solution;                        # Binning the results into years \n",
    "end"
   ]
  },
  {
   "cell_type": "code",
   "execution_count": 5,
   "metadata": {},
   "outputs": [
    {
     "data": {
      "text/plain": [
       "profile_solvers"
      ]
     },
     "execution_count": 5,
     "metadata": {},
     "output_type": "execute_result"
    }
   ],
   "source": [
    "\"\"\"\n",
    "Takes a list of solvers as an input and runs a multithreaded comparison that \n",
    "stores the time information and the binned output of the ODE solver.\n",
    "\"\"\"\n",
    "function profile_solvers(solvers::Vector, ∇::Function, u0::Vector{Float64},\n",
    "        p::Vector)::DataFrame\n",
    "    local C14 = Matrix{Float64}(undef, length(solvers), 31);    # Creating the storage Matrix \n",
    "    local t_mean = Vector{Float64}(undef, length(solvers));     # For the mean of the times\n",
    "    local t_var = Vector{Float64}(undef, length(solvers));      # For the time varience \n",
    "    local results = DataFrame(solver = @.string(solvers));      # DataFrame of summary Statistics\n",
    "\n",
    "    for (index, solver) in enumerate(solvers)           # Looping over the solvers \n",
    "        local time_sample = Vector{Float64}(undef, 10); # A vector to hold the different run times of each trial \n",
    "        for i in 1:10\n",
    "            local timer = time();                       # Starting a timer\n",
    "            solution = run_solver(solver(), ∇, u0, p);  # Running the solver\n",
    "            time_sample[i] = time() - timer;            # ending the timer \n",
    "\n",
    "            if i == 10                          # Storing final run\n",
    "                C14[index, 1:end] = solution;   # filling C14\n",
    "            end\n",
    "        end\n",
    "        t_mean[index] = mean(time_sample[2:end]);   # Storing run time ignoring compile run.\n",
    "        t_var[index] = var(time_sample[2:end]);     # Storing time error\n",
    "    end \n",
    "\n",
    "    C14 = abs((C14' .- median(C14, dims=1)')');     # Calculating deviations from median \n",
    "    results.accuracy = vec(mean(C14, dims=2));      # Calculating the mean of the deviation from the median \n",
    "    results.accuracy_var = vec(var(C14, dims=2));   # Calculating the RMSE error << is better \n",
    "    results.time_mean = t_mean;                     # Storing the mean run time\n",
    "    results.time_var = t_var;                       # Storing the varience of the time sample \n",
    "    return results\n",
    "end\n"
   ]
  },
  {
   "cell_type": "code",
   "execution_count": null,
   "metadata": {},
   "outputs": [],
   "source": [
    "\"\"\"\n",
    "Calculates the gradient using a χ² loss function. \n",
    "\"\"\"\n",
    "function profile_gradients(solver, ∇::Function, u0::Vector{Float64},\n",
    "        parameters::Vector{Float64}, steady_state::Vector{Float64})  \n",
    "    \n",
    "    local solution = run_solver(solver, ∇, u0, parameters);         #! need consistent naming conventions for parameters\n",
    "    local ΔC14 = (solution .- steady_state[2]) ./ steady_state[2] .* 1000; # Calculating the modelled DC14\n",
    "\n",
    "    local miyake = DataFrame(CSV.File(\"Miyake12.csv\"));                     # Reading the Miyake data\n",
    "    local χ² = sum(((miyake.d14c .- ΔC14[1:28]) ./ miyake.sig_d14c) .^ 2);  # calculating a χ² statistic\n",
    "    return -0.5 * χ²\n",
    "\n",
    "    #? For generating the test plot I have the following things \n",
    "    # plot(layer(x=miyake.year, y=miyake.d14c, Geom.point),\n",
    "    #     layer(x=miyake.year, y=ΔC14[1:28], Geom.line));\n",
    "    #! I need to resume from the testing here\n",
    "\n",
    "end"
   ]
  },
  {
   "cell_type": "code",
   "execution_count": 6,
   "metadata": {},
   "outputs": [
    {
     "ename": "LoadError",
     "evalue": "UndefVarError: u0 not defined",
     "output_type": "error",
     "traceback": [
      "UndefVarError: u0 not defined",
      "",
      "Stacktrace:",
      " [1] top-level scope",
      "   @ In[6]:17",
      " [2] eval",
      "   @ ./boot.jl:360 [inlined]",
      " [3] include_string(mapexpr::typeof(REPL.softscope), mod::Module, code::String, filename::String)",
      "   @ Base ./loading.jl:1116"
     ]
    }
   ],
   "source": [
    "TO, P = read_hd5(\"Guttler14.hd5\");      # Reading the data into the scope \n",
    "\n",
    "params = Vector{Float64}(undef, 6); # Storing the model params \n",
    "params[1] = 7.044873503263437;      # The mean position of the sinusoid \n",
    "params[2] = 0.18;                   # The modulation of the sinusoid w. r. t the mean\n",
    "params[3] = 11.0;                   # Setting period of the sinusoid \n",
    "params[4] = 1.25;                   # The phase shift of the sinusoid\n",
    "params[5] = 120.05769867244142;     # The height of the super gaussian \n",
    "params[6] = 12.0;                   # Width of the super-gaussian \n",
    "\n",
    "# The parameters to the model must be incorrect\n",
    "production(t, params) = params[1] * (1 + params[2] * \n",
    "    sin(2 * π / params[3] * t + params[4])) +               # Sinusoidal production \n",
    "    params[5] * exp(- (params[6] * (t - 775)) ^ 16);        # Super Gaussian event\n",
    "derivative(x, params, t) = vec(TO * x - production(t, params) * P);  # The derivative of the system \n",
    "\n",
    "u0 = TO \\ - params[1] * P;  # Equilibriating the system\n",
    "\n",
    "burnproblem = ODEProblem(derivative, u0, (-360.0, 760.0), params); # Burn in problem  \n",
    "burnsolution = solve(burnproblem, reltol=1e-6).u[end];             # Running the model and returning final position\n",
    "\n",
    "solvers = [TRBDF2, BS3, Tsit5, Rosenbrock23,\n",
    "    ROS34PW1a, QNDF1, ABDF2, ExplicitRK, DP5,\n",
    "    TanYam7, Vern6];\n",
    "profiles = profile_solvers(solvers, derivative, position, params); # Running the solvers \n",
    "\n",
    "if isfile(\"solver_profiles.csv\");                           # Checking for the .csv file \n",
    "    CSV.write(\"solver_profiles.csv\", profiles, append=true);# Adding new solvers to the CSV\n",
    "else \n",
    "    CSV.write(\"solver_profiles.csv\", profiles, append=false);# Creating the file if it does not exist \n",
    "end\n",
    "\n",
    "#= Foward and Reverse Autodiff =#\n",
    "# profile_gradients(BS3(), derivative, position, params, u0); #? Confusing position reversal\n"
   ]
  }
 ],
 "metadata": {
  "kernelspec": {
   "display_name": "Julia 1.6.3",
   "language": "julia",
   "name": "julia-1.6"
  },
  "language_info": {
   "file_extension": ".jl",
   "mimetype": "application/julia",
   "name": "julia",
   "version": "1.6.3"
  },
  "orig_nbformat": 4
 },
 "nbformat": 4,
 "nbformat_minor": 2
}
