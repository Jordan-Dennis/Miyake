{
 "cells": [
  {
   "cell_type": "code",
   "execution_count": 29,
   "id": "5eb7110f",
   "metadata": {},
   "outputs": [],
   "source": [
    "using HDF5;                     # for .hd5 file manipulation\n",
    "using DifferentialEquations;    # Provides a variety of differential solvers\n",
    "using LinearAlgebra: Diagonal;  # Efficient Diagonal matrixes\n",
    "using Statistics;               # Let's get this fucking bread \n",
    "using DataFrames;               # For succinct data manipulation\n",
    "using CSV;                      # For writing the data to prevent constant re-running\n",
    "using ForwardDiff;              # For profiling the gradients \n",
    "using Gadfly;                   #! For testing"
   ]
  },
  {
   "cell_type": "code",
   "execution_count": 30,
   "metadata": {},
   "outputs": [
    {
     "data": {
      "text/plain": [
       "bin"
      ]
     },
     "execution_count": 30,
     "metadata": {},
     "output_type": "execute_result"
    }
   ],
   "source": [
    "\"\"\"\n",
    "Takes time series data and calculates the average of each year.\n",
    "\"\"\"\n",
    "function bin(time_series::Vector, solution_vector::Vector)::Vector\n",
    "    local binned_solution = Vector(undef, 0);   # Setting a vector to hold the bins \n",
    "    local whole_times = @.floor(time_series);   # Creating a vector of discrete time.\n",
    "    for whole_time in unique(whole_times)       # Looping over the unique elements discrete times \n",
    "        local indexes = findall(whole_times .== whole_time);        # Getting the indexes\n",
    "        push!(binned_solution, mean(solution_vector[indexes]));   # Appending to binned_solution\n",
    "    end\n",
    "    return binned_solution\n",
    "end"
   ]
  },
  {
   "cell_type": "code",
   "execution_count": 31,
   "metadata": {},
   "outputs": [
    {
     "data": {
      "text/plain": [
       "read_hd5"
      ]
     },
     "execution_count": 31,
     "metadata": {},
     "output_type": "execute_result"
    }
   ],
   "source": [
    "\"\"\"\n",
    "Reads the flux (amounts), production (projection) and reserviour contents from \n",
    "a .hd5 file with file_name. It returns the transfer operator and production \n",
    "projection \n",
    "\"\"\"\n",
    "function read_hd5(file_name::String)::Tuple{Matrix{Float64}, Vector{Float64}}\n",
    "    local hd5 = h5open(file_name);                      # Opening the HDF5 file\n",
    "    local F = hd5[\"fluxes\"][1:end, 1:end];              # Retrieving the flux matrix \n",
    "    local P = hd5[\"production coefficients\"][1:end];    # Retrieving the projection of the production \n",
    "    local N = hd5[\"reservoir content\"][1:end, 1:end];   # The C14 reserviour contents \n",
    "    close(hd5);                                         # Closing the file \n",
    "\n",
    "    local λ = Diagonal([log(2) / 5730 for i in 1:11]);          # Constructing the decay matrix\n",
    "    F = transpose(F) ./ N;                                      # The proportion flux\n",
    "    local TO = transpose(F) - Diagonal(vec(sum(F, dims=2))) - λ;# Construncting the transfer operator\n",
    "    return TO, P                                           \n",
    "end"
   ]
  },
  {
   "cell_type": "code",
   "execution_count": 32,
   "metadata": {},
   "outputs": [
    {
     "data": {
      "text/plain": [
       "run_solver"
      ]
     },
     "execution_count": 32,
     "metadata": {},
     "output_type": "execute_result"
    }
   ],
   "source": [
    "\"\"\"\n",
    "Passed a solver function runs the solver and returns the speed and binned data\n",
    "\"\"\"\n",
    "function run_solver(solver, ∇::Function, U0::Vector, p::Vector)::Vector\n",
    "    local problem = ODEProblem(∇, U0, (760.0, 790.0), p);   # Creating the ODEProblem instance\n",
    "    local solution = solve(problem, reltol = 1e-6, solver); # Solving the ODE  \n",
    "    local time = Array(solution.t);                         # Storing the time sampling \n",
    "    solution = Array(solution)[2, 1:end];   # Storing the solution for troposphere \n",
    "    solution = bin(time, solution);         # Getting the annual means\n",
    "    return solution;                        # Binning the results into years \n",
    "end"
   ]
  },
  {
   "cell_type": "code",
   "execution_count": 33,
   "metadata": {},
   "outputs": [
    {
     "data": {
      "text/plain": [
       "profile_solvers"
      ]
     },
     "execution_count": 33,
     "metadata": {},
     "output_type": "execute_result"
    }
   ],
   "source": [
    "\"\"\"\n",
    "Takes a list of solvers as an input and runs a multithreaded comparison that \n",
    "stores the time information and the binned output of the ODE solver.\n",
    "\"\"\"\n",
    "function profile_solvers(solvers::Vector, ∇::Function, u0::Vector{Float64},\n",
    "        p::Vector)::DataFrame\n",
    "    local C14 = Matrix{Float64}(undef, length(solvers), 31);    # Creating the storage Matrix \n",
    "    local t_mean = Vector{Float64}(undef, length(solvers));     # For the mean of the times\n",
    "    local t_var = Vector{Float64}(undef, length(solvers));      # For the time varience \n",
    "    local results = DataFrame(solver = @.string(solvers));      # DataFrame of summary Statistics\n",
    "\n",
    "    for (index, solver) in enumerate(solvers)           # Looping over the solvers \n",
    "        local time_sample = Vector{Float64}(undef, 10); # A vector to hold the different run times of each trial \n",
    "        for i in 1:10\n",
    "            local timer = time();                       # Starting a timer\n",
    "            solution = run_solver(solver(), ∇, u0, p);  # Running the solver\n",
    "            time_sample[i] = time() - timer;            # ending the timer \n",
    "\n",
    "            if i == 10                          # Storing final run\n",
    "                C14[index, 1:end] = solution;   # filling C14\n",
    "            end\n",
    "        end\n",
    "        t_mean[index] = mean(time_sample[2:end]);   # Storing run time ignoring compile run.\n",
    "        t_var[index] = var(time_sample[2:end]);     # Storing time error\n",
    "    end \n",
    "\n",
    "    C14 = (C14' .- median(C14, dims=1)')';   # Calculating deviations from median \n",
    "    C14 = @.abs(C14);   # Absolute value \n",
    "    results.accuracy = vec(mean(C14, dims=2));      # Calculating the mean of the deviation from the median \n",
    "    results.accuracy_var = vec(var(C14, dims=2));   # Calculating the RMSE error << is better \n",
    "    results.time_mean = t_mean;                     # Storing the mean run time\n",
    "    results.time_var = t_var;                       # Storing the varience of the time sample \n",
    "    return results\n",
    "end\n"
   ]
  },
  {
   "cell_type": "code",
   "execution_count": 58,
   "metadata": {},
   "outputs": [
    {
     "data": {
      "text/plain": [
       "select_gradient_solver"
      ]
     },
     "execution_count": 58,
     "metadata": {},
     "output_type": "execute_result"
    }
   ],
   "source": [
    "\"\"\"\n",
    "Calculates the gradient using a χ² loss function. \n",
    "\"\"\"\n",
    "function select_gradient_solver(solver, ∇::Function, u0::Vector{Float64})\n",
    "    function loss_function(parameters)  \n",
    "        local solution = run_solver(solver(), ∇, u0, parameters); #! Naming\n",
    "        local ΔC14 = (solution .- u0[2]) ./ u0[2] .* 1000;  # Calculating ΔC14\n",
    "        local miyake = DataFrame(CSV.File(\"Miyake12.csv\")); # Reading Miyake data\n",
    "        local ΔC14 .+= mean(miyake.d14c[1:4]);  # Calculates the ticktack offset\n",
    "        local χ² = sum(((miyake.d14c .- ΔC14[1:28]) ./ miyake.sig_d14c) .^ 2);  # Calculating χ² \n",
    "        return -0.5 * χ²\n",
    "    end\n",
    "    return loss_function\n",
    "end"
   ]
  },
  {
   "cell_type": "code",
   "execution_count": 59,
   "metadata": {},
   "outputs": [
    {
     "name": "stdout",
     "output_type": "stream",
     "text": [
      "5.859478950500488\n"
     ]
    }
   ],
   "source": [
    "TO, P = read_hd5(\"Guttler14.hd5\");      # Reading the data into the scope \n",
    "\n",
    "params = Vector{Float64}(undef, 6); # Storing the model params \n",
    "params[1] = 7.044873503263437;      # The mean position of the sinusoid \n",
    "params[2] = 0.18;                   # The modulation of the sinusoid w. r. t the mean\n",
    "params[3] = 11.0;                   # Setting period of the sinusoid \n",
    "params[4] = 1.25;                   # The phase shift of the sinusoid\n",
    "params[5] = 120.05769867244142;     # The height of the super gaussian \n",
    "params[6] = 12.0;                   # Width of the super-gaussian \n",
    "\n",
    "# The parameters to the model must be incorrect\n",
    "production(t, params) = params[1] * (1 + params[2] * \n",
    "    sin(2 * π / params[3] * t + params[4])) +           # Sinusoidal production \n",
    "    params[5] * exp(- (params[6] * (t - 775)) ^ 16);    # Super Gaussian event\n",
    "derivative(x, params, t) = vec(TO * x + production(t, params) * P);  # The derivative of the system \n",
    "\n",
    "u0 = TO \\ (- params[1] * P);  # Equilibriating the system\n",
    "\n",
    "burnproblem = ODEProblem(derivative, u0, (-360.0, 760.0), params);  # Burn in problem  \n",
    "burnsolution = solve(burnproblem, reltol=1e-6).u[end];              # Running model "
   ]
  },
  {
   "cell_type": "code",
   "execution_count": 80,
   "metadata": {},
   "outputs": [
    {
     "data": {
      "text/plain": [
       "profile_forward_gradients (generic function with 2 methods)"
      ]
     },
     "execution_count": 80,
     "metadata": {},
     "output_type": "execute_result"
    }
   ],
   "source": [
    "function profile_forward_gradients(solvers, ∇::Function, u0::Vector{Float64}, params::Vector)\n",
    "    local results = DataFrame(solvers = @.string(solvers));     # Net results\n",
    "    local time_mean = Vector{Float64}(undef, length(solvers));  # Storage for speeds\n",
    "    local time_var = Vector{Float64}(undef, length(solvers));   # Storing speed varience\n",
    "    local gradient_matrix = Matrix{Float64}(undef, length(solvers), length(params)); # Storing gradients\n",
    "    for (index, solver) in enumerate(solvers)\n",
    "        local time_sample = Vector{Float64}(undef, 10);   # Storing the time sample\n",
    "        for i in 1:10\n",
    "            local timer = time();   # Creating a time\n",
    "            local loss = select_gradient_solver(solver, ∇, u0); # Preparing the function\n",
    "            local gradient = ForwardDiff.gradient(loss, params);    # Calculating the parameter gradient\n",
    "            time_sample[i] = time() - timer;    # Appending the time to the time vector\n",
    "            if i == 10  # Storing the gradient of the final run\n",
    "                gradient_matrix[index, 1:end] = gradient;   # Appending the final gradient \n",
    "            end\n",
    "        end\n",
    "        time_mean[index] = mean(time_sample[2:end]);   # Calculating and storing the mean\n",
    "        time_var[index] = var(time_sample[2:end]);     # Calculating and storing the varience\n",
    "    end\n",
    "    gradient_matrix = (gradient_matrix' .- median(gradient_matrix, dims=1)')';   # Deviations \n",
    "    gradient_matrix = @.abs(gradient_matrix); # Absolute deviations\n",
    "\n",
    "    results.time_means = time_mean; # Storing the time means \n",
    "    results.time_vars = time_var;   # Storing the errors\n",
    "    results.accuracy = vec(mean(gradient_matrix, dims=2));      # Accuracy as a mean of the deviations \n",
    "    results.accuracy_var = vec(var(gradient_matrix, dims=2));   # Accuracy error\n",
    "    \n",
    "    return results\n",
    "end\n",
    "\n",
    "# It would be dope to construct this framework only once and then be able to hand it only the two lines that are different. I think there must be a way to do this using macros"
   ]
  },
  {
   "cell_type": "markdown",
   "metadata": {},
   "source": [
    "Profiling the solvers by running each solver over the 30 year period surrounding the Miyake event. Saving the data to a file upon completion. \n",
    "\n",
    "I need to look into `BS5` as well as combinations like `AutoTsit5(Rosenbrook23)`. It may also be more efficient to have a function called write to CSV or something like that since I will be reusing the code in both places. I might just amalglomate the gradient and solver profiling into a single function although it would be much more elegant to have it as a macro or as a function programming element, where I passed a function kernel and retrieved the correct profiling function as the return output.\n",
    "\n",
    "To consolidate my plan. I am going to write a function that returns the correct function code as an output for the profiler allowing me to severely reduce the amount of code that I have. This will be good at the loss of readibility and generality. I don't need either of those things in large amounts so we are good. I will also move the plotting function into this notebook and make it a function so that. I can visualise my results here. Finally, I will make a write CSV file function that will have mutliple modes, for when I want to append additional solvers."
   ]
  },
  {
   "cell_type": "code",
   "execution_count": 81,
   "metadata": {},
   "outputs": [
    {
     "data": {
      "text/plain": [
       "\"gradient_profiles.csv\""
      ]
     },
     "execution_count": 81,
     "metadata": {},
     "output_type": "execute_result"
    }
   ],
   "source": [
    "solvers = [TRBDF2, BS3, Tsit5, Rosenbrock23,\n",
    "    ROS34PW1a, QNDF1, ABDF2, ExplicitRK, DP5,\n",
    "    TanYam7, Vern6];\n",
    "profiles = profile_forward_gradients(solvers, derivative, burnsolution, params); # Running the solvers "
   ]
  },
  {
   "cell_type": "code",
   "execution_count": null,
   "metadata": {},
   "outputs": [],
   "source": [
    "\"\"\"\n",
    "Writes the results to a CSV file. If mode is set to append then the results are added to an existing CSV file without checking. Else the file is created with `append=false`.\n",
    "\"\"\"\n",
    "function write_csv(mode::String, data::DataFrame)::Nothing\n",
    "    if mode == \"append\";                           # Checking for the .csv file \n",
    "        CSV.write(\"gradient_profiles.csv\", profiles, append=true);# Adding new solvers to the CSV\n",
    "    else \n",
    "        CSV.write(\"gradient_profiles.csv\", profiles, append=false);# Creating the file if it does not exist \n",
    "    end\n",
    "end"
   ]
  }
 ],
 "metadata": {
  "kernelspec": {
   "display_name": "Julia 1.6.3",
   "language": "julia",
   "name": "julia-1.6"
  },
  "language_info": {
   "file_extension": ".jl",
   "mimetype": "application/julia",
   "name": "julia",
   "version": "1.6.3"
  },
  "orig_nbformat": 4
 },
 "nbformat": 4,
 "nbformat_minor": 2
}
