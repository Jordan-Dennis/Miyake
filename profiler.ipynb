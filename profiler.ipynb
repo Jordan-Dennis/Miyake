{
 "cells": [
  {
   "cell_type": "code",
   "execution_count": 2,
   "id": "5eb7110f",
   "metadata": {},
   "outputs": [],
   "source": [
    "using HDF5;                     # for .hd5 file manipulation\n",
    "using DifferentialEquations;    # Provides a variety of differential solvers\n",
    "using LinearAlgebra: Diagonal;  # Efficient Diagonal matrixes\n",
    "using Statistics;               # Let's get this fucking bread \n",
    "using DataFrames;               # For succinct data manipulation\n",
    "using CSV;                      # For writing the data to prevent constant re-running\n",
    "using ForwardDiff;              # For profiling the gradients \n",
    "using Gadfly, Fontconfig, Cairo;# For plotting"
   ]
  },
  {
   "cell_type": "code",
   "execution_count": 4,
   "metadata": {},
   "outputs": [
    {
     "data": {
      "text/plain": [
       "bin"
      ]
     },
     "execution_count": 4,
     "metadata": {},
     "output_type": "execute_result"
    }
   ],
   "source": [
    "\"\"\"\n",
    "Takes time series data and calculates the average of each year.\n",
    "\"\"\"\n",
    "function bin(time_series::Vector, solution_vector::Vector)::Vector\n",
    "    local binned_solution = Vector(undef, 0);   # Setting a vector to hold the bins \n",
    "    local whole_times = @.floor(time_series);   # Creating a vector of discrete time.\n",
    "    for whole_time in unique(whole_times)       # Looping over the unique elements discrete times \n",
    "        local indexes = findall(whole_times .== whole_time);        # Getting the indexes\n",
    "        push!(binned_solution, mean(solution_vector[indexes]));   # Appending to binned_solution\n",
    "    end\n",
    "    return binned_solution\n",
    "end"
   ]
  },
  {
   "cell_type": "code",
   "execution_count": 5,
   "metadata": {},
   "outputs": [
    {
     "data": {
      "text/plain": [
       "read_hd5"
      ]
     },
     "execution_count": 5,
     "metadata": {},
     "output_type": "execute_result"
    }
   ],
   "source": [
    "\"\"\"\n",
    "Reads the flux (amounts), production (projection) and reserviour contents from \n",
    "a .hd5 file with file_name. It returns the transfer operator and production \n",
    "projection \n",
    "\"\"\"\n",
    "function read_hd5(file_name::String)::Tuple{Matrix{Float64}, Vector{Float64}}\n",
    "    local hd5 = h5open(file_name);                      # Opening the HDF5 file\n",
    "    local F = hd5[\"fluxes\"][1:end, 1:end];              # Retrieving the flux matrix \n",
    "    local P = hd5[\"production coefficients\"][1:end];    # Retrieving the projection of the production \n",
    "    local N = hd5[\"reservoir content\"][1:end, 1:end];   # The C14 reserviour contents \n",
    "    close(hd5);                                         # Closing the file \n",
    "\n",
    "    local λ = Diagonal([log(2) / 5730 for i in 1:11]);          # Constructing the decay matrix\n",
    "    F = transpose(F) ./ N;                                      # The proportion flux\n",
    "    local TO = transpose(F) - Diagonal(vec(sum(F, dims=2))) - λ;# Construncting the transfer operator\n",
    "    return TO, P                                           \n",
    "end"
   ]
  },
  {
   "cell_type": "code",
   "execution_count": 6,
   "metadata": {},
   "outputs": [
    {
     "data": {
      "text/plain": [
       "run_solver"
      ]
     },
     "execution_count": 6,
     "metadata": {},
     "output_type": "execute_result"
    }
   ],
   "source": [
    "\"\"\"\n",
    "Passed a solver function runs the solver and returns the speed and binned data\n",
    "\"\"\"\n",
    "function run_solver(solver, ∇::Function, U0::Vector, p)::Vector\n",
    "    local problem = ODEProblem(∇, U0, (760.0, 790.0), p);   # Creating the ODEProblem instance\n",
    "    local solution = solve(problem, reltol = 1e-6, solver()); # Solving the ODE  \n",
    "    local time = Array(solution.t);                         # Storing the time sampling \n",
    "    solution = Array(solution)[2, 1:end];   # Storing the solution for troposphere \n",
    "    solution = bin(time, solution);         # Getting the annual means\n",
    "    return solution;                        # Binning the results into years \n",
    "end"
   ]
  },
  {
   "cell_type": "code",
   "execution_count": 13,
   "metadata": {},
   "outputs": [
    {
     "data": {
      "text/plain": [
       "profile"
      ]
     },
     "execution_count": 13,
     "metadata": {},
     "output_type": "execute_result"
    }
   ],
   "source": [
    "\"\"\"\n",
    "So this is highly experimental basically I am passing a function into the profile function, which takes only solver as an argument. This done using the wrapper method that I used earlier\n",
    "\"\"\"\n",
    "function profile(solvers::Vector, f::Function, args::Vector)\n",
    "    local data = Vector{Any}(undef, length(solvers));     # Creating the storage Matrix \n",
    "    local times = Vector{Any}(undef, length(solvers)); # For the mean of the times\n",
    "\n",
    "    for (index, solver) in enumerate(solvers)           # Looping over the solvers \n",
    "        local time_sample = Vector{Float64}(undef, 10); # The different run times of each trial \n",
    "        for i in 1:10\n",
    "            local timer = time();                       # Starting a timer\n",
    "            solution = f(solver, args...);    # Running the solver\n",
    "            time_sample[i] = time() - timer;            # ending the timer \n",
    "\n",
    "            if i == 10                  # Storing final run\n",
    "                data[index] = solution; # filling C14\n",
    "            end\n",
    "        end\n",
    "        times[index] = time_sample;   # Storing run time ignoring compile run.\n",
    "    end \n",
    "    return times, data\n",
    "end"
   ]
  },
  {
   "cell_type": "code",
   "execution_count": 8,
   "metadata": {},
   "outputs": [
    {
     "data": {
      "text/plain": [
       "select_autodiff"
      ]
     },
     "execution_count": 8,
     "metadata": {},
     "output_type": "execute_result"
    }
   ],
   "source": [
    "\n",
    "\"\"\"\n",
    "Calculates the gradient using a χ² loss function. ∇ is the gradient of the differential equations and u0 is the starting position. Parameters are the values of the parameters that the gradient is getting calculated for and f is the function i.e. gradient in forward or reverse or hessian. This means that f tkes two arguments. Man this is sought of shit programing,\n",
    "\"\"\"\n",
    "function select_autodiff(solver, ∇::Function, u0::Vector{Float64}, parameters, f::Function)\n",
    "    function loss_function(params)  \n",
    "        local solution = run_solver(solver, ∇, u0, params); #! Naming\n",
    "        local ΔC14 = (solution .- u0[2]) ./ u0[2] .* 1000;  # Calculating ΔC14\n",
    "        local miyake = DataFrame(CSV.File(\"Miyake12.csv\")); # Reading Miyake data\n",
    "        local ΔC14 .+= mean(miyake.d14c[1:4]);  # Calculates the ticktack offset\n",
    "        local χ² = sum(((miyake.d14c .- ΔC14[1:28]) ./ miyake.sig_d14c) .^ 2);  # Calculating χ² \n",
    "        return -0.5 * χ²\n",
    "    end\n",
    "    return f(loss_function, parameters);\n",
    "end"
   ]
  },
  {
   "cell_type": "code",
   "execution_count": 75,
   "metadata": {},
   "outputs": [
    {
     "data": {
      "text/plain": [
       "time_analysis"
      ]
     },
     "execution_count": 75,
     "metadata": {},
     "output_type": "execute_result"
    }
   ],
   "source": [
    "\"\"\"\n",
    "Given the time ouput of the `profile` function, this function calculates the time statistics and returns the means and variances as two column vectors. \n",
    "\"\"\"\n",
    "function time_analysis(time_data::Vector{Any})::Tuple{Matrix{Float64}, Matrix{Float64}}\n",
    "    times = hcat(time_data...);     # Array construction for ease of manipulation \n",
    "    times = times[2:end, 1:end];    # Removing the compilation run\n",
    "    tmean = mean(times, dims=1);    # Calculating the average time\n",
    "    tvars = var(times, dims=1);     # Caclulating the varience by solver\\\n",
    "    return tmean, tvars\n",
    "end"
   ]
  },
  {
   "cell_type": "code",
   "execution_count": 62,
   "metadata": {},
   "outputs": [],
   "source": [
    "TO, P = read_hd5(\"Guttler14.hd5\");      # Reading the data into the scope \n",
    "\n",
    "params = Vector{Float64}(undef, 6); # Storing the model params \n",
    "params[1] = 7.044873503263437;      # The mean position of the sinusoid \n",
    "params[2] = 0.18;                   # The modulation of the sinusoid w. r. t the mean\n",
    "params[3] = 11.0;                   # Setting period of the sinusoid \n",
    "params[4] = 1.25;                   # The phase shift of the sinusoid\n",
    "params[5] = 120.05769867244142;     # The height of the super gaussian \n",
    "params[6] = 12.0;                   # Width of the super-gaussian \n",
    "\n",
    "production(t, params) = params[1] * (1 + params[2] * \n",
    "    sin(2 * π / params[3] * t + params[4])) +           # Sinusoidal production \n",
    "    params[5] * exp(- (params[6] * (t - 775)) ^ 16);    # Super Gaussian event\n",
    "derivative(x, params, t) = vec(TO * x + production(t, params) * P);  # The derivative system \n",
    "\n",
    "u0 = TO \\ (- params[1] * P);  # Equilibriating the system\n",
    "\n",
    "burnproblem = ODEProblem(derivative, u0, (-360.0, 760.0), params);  # Burn in problem  \n",
    "burnsolution = solve(burnproblem, reltol=1e-6).u[end];              # Running model \n",
    "\n",
    "solvers = [TRBDF2, BS3, Tsit5, Rosenbrock23, ROS34PW1a, QNDF1, ABDF2, ExplicitRK, DP5, TanYam7, Vern6]\n",
    "\n",
    "# f_grad_times, f_grad_data = profile(solvers, select_autodiff,\n",
    "#     [derivative, burnsolution, params, ForwardDiff.gradient]);  # Running the forward mode \n",
    "hessian_times, hessian_data = profile(solvers, select_autodiff,\n",
    "    [derivative, burnsolution, params, ForwardDiff.hessian]);   # Running the hessians \n",
    "# solvers = profile(solvers, run_solver, [derivative, burnsolution, params]); # Running the solvers"
   ]
  },
  {
   "cell_type": "code",
   "execution_count": null,
   "metadata": {},
   "outputs": [],
   "source": [
    "hessian_mean, hessian_vars = time_analysis(hessian_times);  # Time analysis for hessians\n",
    "f_grad_means, f_grad_vars = time_analysis(f_grad_times);    # Time analysis for forward gradients "
   ]
  },
  {
   "cell_type": "code",
   "execution_count": 95,
   "metadata": {},
   "outputs": [
    {
     "data": {
      "text/plain": [
       "11-element Vector{Float64}:\n",
       " -0.30538402290592453\n",
       "  0.00986113502896478\n",
       " -0.008826009121766981\n",
       " -0.001844123113837549\n",
       "  0.003753685512460653\n",
       "  0.0020803881230940405\n",
       " -0.035732105738875496\n",
       " -0.08252977960782096\n",
       " -0.13305103099618648\n",
       " -1.4523526918593928\n",
       " -0.023692657629605318"
      ]
     },
     "execution_count": 95,
     "metadata": {},
     "output_type": "execute_result"
    }
   ],
   "source": [
    "#* Analysis of the data for the hessian calculations\n",
    "data = cat(hessian_data..., dims=3);    # Array construction for ease of use\n",
    "meds = median(data, dims=3);            # Calculating the medians\n",
    "devs = @.abs(data .- meds) ./ data;     # Calculating the normalised deviations\n",
    "\n",
    "accuracy = Vector{Float64}(undef, 11);  # A vector to store solver accuracy\n",
    "varience = Vector{Float64}(undef, 11);  # A vector to store the variences\n",
    "\n",
    "for i in 1:size(devs)[3];   # Looping through the sovler dimension \n",
    "    accuracy[i] = mean(devs[1:end, 1:end, i]);  # Calculating the accuracy\n",
    "    varience[i] = var(devs[1:end, 1:end, i]);   # Calculatinf the varience\n",
    "end\n",
    "\n",
    "accuracy\n"
   ]
  },
  {
   "cell_type": "code",
   "execution_count": 59,
   "metadata": {},
   "outputs": [],
   "source": [
    "#* Analysis of the data values for the forwards mode gradients =\n",
    "data = hcat(f_grad_data...);                        # So these are extremely different\n",
    "gradient_mean = median(data, dims=2);               # Average value of each parameter gradient\n",
    "data = (data .- gradient_mean) ./ gradient_mean;    # Calculating the normalised deviations\n",
    "solver_accuracy = mean(data, dims=1);               # Caclulating the means of the solvers\n",
    "solver_varience = var(data, dims=1);                # Caclulating the variances of the solvers "
   ]
  },
  {
   "cell_type": "markdown",
   "metadata": {},
   "source": [
    "So I need to get the normalised working. I might also pay to change how the results are returned from the profile function. Perhaps if I just return the information that is always the same. This would be the vector of outputs and the time results then I should be able to do each manipulation separately. Yes I like this.\n",
    "\n",
    "So this is from tomorrow onward. I also need the boxplot like thing.\n",
    "\n",
    "Now, the time analysis is going to be pretty constant. I could add this back into the profile function however, I think this breaks up the logic a little bit and the return becomes awkward. I could write a function to do the time analysis or I could just do it manually for the four cases. I will start by doing it manually for the four cases but then I will probably write a function."
   ]
  }
 ],
 "metadata": {
  "kernelspec": {
   "display_name": "Julia 1.6.3",
   "language": "julia",
   "name": "julia-1.6"
  },
  "language_info": {
   "file_extension": ".jl",
   "mimetype": "application/julia",
   "name": "julia",
   "version": "1.6.3"
  },
  "orig_nbformat": 4
 },
 "nbformat": 4,
 "nbformat_minor": 2
}
