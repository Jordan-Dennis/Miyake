{
 "cells": [
  {
   "cell_type": "code",
   "execution_count": 1,
   "id": "f41f7797",
   "metadata": {},
   "outputs": [],
   "source": [
    "using CSV;          # For reading the information \n",
    "using DataFrames;   # For convinient storage \n",
    "using Gadfly;       # for generating the plots"
   ]
  },
  {
   "cell_type": "code",
   "execution_count": 2,
   "id": "1ea2d585",
   "metadata": {},
   "outputs": [],
   "source": [
    "r = DataFrame(CSV.File(\"solver_profiles.csv\"));  # Reading data into the workspace\n",
    "r = r[2:end, 1:end];"
   ]
  },
  {
   "cell_type": "code",
   "execution_count": 3,
   "id": "c82b10db",
   "metadata": {},
   "outputs": [
    {
     "data": {
      "text/plain": [
       "Plot(...)"
      ]
     },
     "execution_count": 3,
     "metadata": {},
     "output_type": "execute_result"
    }
   ],
   "source": [
    "datavisual = Gadfly.plot(# Plot object for manipultation \n",
    "    y=r.accuracy, x=r.time_mean, label=r.solver,    # Raw data \n",
    "    Guide.ylabel(\"Accuracy\"), Guide.xlabel(\"Time\"), # X, Y Labels  \n",
    "    ymin=r.accuracy - r.accuracy_var,   # Y lower error bar\n",
    "    ymax=r.accuracy + r.accuracy_var,   # Y upper error bar\n",
    "    xmin=r.time_mean - r.time_var,  # X lower error bar\n",
    "    xmax=r.time_mean + r.time_var,  # X upper error bar\n",
    "    Geom.yerrorbar, Geom.xerrorbar, Geom.point, Geom.label)  # Geometries  "
   ]
  },
  {
   "cell_type": "code",
   "execution_count": 5,
   "id": "5119a11b",
   "metadata": {},
   "outputs": [
    {
     "data": {
      "text/plain": [
       "Plot(...)"
      ]
     },
     "metadata": {},
     "output_type": "display_data"
    }
   ],
   "source": [
    "display(datavisual)"
   ]
  },
  {
   "cell_type": "code",
   "execution_count": null,
   "id": "9f5819db",
   "metadata": {},
   "outputs": [],
   "source": []
  }
 ],
 "metadata": {
  "kernelspec": {
   "display_name": "Julia 1.6.3",
   "language": "julia",
   "name": "julia-1.6"
  },
  "language_info": {
   "file_extension": ".jl",
   "mimetype": "application/julia",
   "name": "julia",
   "version": "1.6.3"
  }
 },
 "nbformat": 4,
 "nbformat_minor": 5
}
