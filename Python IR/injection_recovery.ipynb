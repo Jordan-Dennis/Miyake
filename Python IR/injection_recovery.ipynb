{
 "cells": [
  {
   "cell_type": "code",
   "execution_count": 63,
   "metadata": {},
   "outputs": [],
   "source": [
    "from jax.numpy import array, transpose\n",
    "from jax.lax import sort \n",
    "from csv import reader"
   ]
  },
  {
   "cell_type": "code",
   "execution_count": 69,
   "metadata": {},
   "outputs": [],
   "source": [
    "with open(\"Annual_datasets.csv\") as intcal20, open(\"template.csv\") as template:\n",
    "    intcal20 = array([list(map(float, row)) for row in list(reader(intcal20))[1:]]) \n",
    "    intcal20 = sort(intcal20, dimension=0, num_keys=1) \n",
    "    intcal20 = transpose(intcal20)[:3]\n",
    "    \n",
    "    template = array([list(map(float, row)) for row in list(reader(template))[1:]])"
   ]
  },
  {
   "cell_type": "code",
   "execution_count": null,
   "metadata": {},
   "outputs": [],
   "source": []
  }
 ],
 "metadata": {
  "interpreter": {
   "hash": "0c4d728f571dc14aecd61e9c5a335d0795680d56501238c7b0344daa2ef0c43f"
  },
  "kernelspec": {
   "display_name": "Python 3.8.12 64-bit ('ticktack': conda)",
   "language": "python",
   "name": "python3"
  },
  "language_info": {
   "codemirror_mode": {
    "name": "ipython",
    "version": 3
   },
   "file_extension": ".py",
   "mimetype": "text/x-python",
   "name": "python",
   "nbconvert_exporter": "python",
   "pygments_lexer": "ipython3",
   "version": "3.8.12"
  },
  "orig_nbformat": 4
 },
 "nbformat": 4,
 "nbformat_minor": 2
}
