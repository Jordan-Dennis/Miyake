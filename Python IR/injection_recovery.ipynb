{
 "cells": [
  {
   "cell_type": "code",
   "execution_count": 1,
   "metadata": {},
   "outputs": [],
   "source": [
    "from pandas import read_csv\n",
    "from ticktack import load_presaved_model\n",
    "from ticktack.fitting import SingleFitter\n",
    "from operator import methodcaller\n",
    "from jax.numpy.linalg import pinv\n",
    "from jax.numpy import where, array, arange, full, exp, vstack\n",
    "from jax.numpy import float32\n",
    "from plotnine import *"
   ]
  },
  {
   "cell_type": "code",
   "execution_count": 2,
   "metadata": {},
   "outputs": [],
   "source": [
    "def super_gaussian(time, start_time):\n",
    "    DURATION = 0.7751569    # From `get_template`\n",
    "    AREA = 5.59385463       # From `get_template`\n",
    "\n",
    "    middle = start_time + DURATION / 2 # Middle of event \n",
    "    height = AREA / DURATION    # Amplitude of event\n",
    "    gauss = height * exp(- ((time - middle) / (DURATION / 2)) ** 16)   # Gaussian pulse\n",
    "\n",
    "    return gauss"
   ]
  },
  {
   "cell_type": "code",
   "execution_count": 3,
   "metadata": {},
   "outputs": [],
   "source": [
    "#! Can possibly get all of this from the fitting object as `jax` types instantly\n",
    "injection_data = read_csv(\"IR_Data.csv\")    # Loading the entire dataset\n",
    "injection_data = injection_data[injection_data[\"year\"] < 825]   # Subsetting into test section\n",
    "injection_data = injection_data[injection_data[\"year\"] > 725]   # Lower bound "
   ]
  },
  {
   "cell_type": "code",
   "execution_count": 4,
   "metadata": {},
   "outputs": [
    {
     "name": "stderr",
     "output_type": "stream",
     "text": [
      "INFO[2022-01-17 08:35:18,344]: Unable to initialize backend 'tpu_driver': NOT_FOUND: Unable to find driver in registry given worker: \n",
      "INFO[2022-01-17 08:35:18,345]: Unable to initialize backend 'gpu': NOT_FOUND: Could not find registered platform with name: \"cuda\". Available platform names are: Host Interpreter\n",
      "INFO[2022-01-17 08:35:18,346]: Unable to initialize backend 'tpu': INVALID_ARGUMENT: TpuPlatform is not available.\n",
      "WARNING[2022-01-17 08:35:18,347]: No GPU/TPU found, falling back to CPU. (Set TF_CPP_MIN_LOG_LEVEL=0 and rerun for more info.)\n"
     ]
    }
   ],
   "source": [
    "carbon_box_model = load_presaved_model(\"Guttler14\", \n",
    "    production_rate_units=\"atoms/cm^2/s\")   # Creating a test model \n",
    "fitting_object = SingleFitter(carbon_box_model) # Test fitting object\n",
    "fitting_object.load_data(\"IR_Data.csv\") #! Reloading the data\n",
    "fitting_object.prepare_function(model=super_gaussian)   \n",
    "dc14 = getattr(fitting_object, \"dc14\")"
   ]
  },
  {
   "cell_type": "code",
   "execution_count": 6,
   "metadata": {},
   "outputs": [],
   "source": [
    "# (ggplot(injection_data, aes(x=\"year\", y=\"d14c\",))\n",
    "#     + theme_bw()\n",
    "#     + geom_point(color=where(injection_data[\"id\"] == \"Intcal20\", \"black\", \"red\")))\n"
   ]
  },
  {
   "cell_type": "code",
   "execution_count": null,
   "metadata": {},
   "outputs": [],
   "source": [
    "for year in range(750, 801):\n",
    "    chunked_data = injection_data[injection_data[\"year\"] > year - 25]\n",
    "    chunked_data = chunked_data[chunked_data[\"year\"] < year + 25]\n",
    "    \n",
    "    chunked_years = chunked_data[\"year\"]\n",
    "    fitting_object.time_data = array([*chunked_years], dtype=float32)\n",
    "    chunked_event = dc14(array([year], dtype=float32))\n",
    "    chunked_const = full(chunked_years.shape, 1.0)\n",
    "    \n",
    "    design_matrix = vstack([chunked_const, chunked_years, chunked_event])\n",
    "    "
   ]
  },
  {
   "cell_type": "markdown",
   "metadata": {},
   "source": [
    "Pick a 100 year block and test the code. So I could fill in the 25 years before and 25 years after with the Intcal20 interpolated curve. Take all of Intcal20 and place the actual data into the interpolated data. This would require rescaling the data with a linear curve or something along those lines. Only test the injection recovery at te real years. "
   ]
  },
  {
   "cell_type": "markdown",
   "metadata": {},
   "source": [
    "Linear combination of the basis vectors provided by the template, linear trend and constant.\n",
    "$Ax = b$ simple linear regression with a 50 by 3 design matrix that is dotted with a 3 long position vector to produce the predicted d14c. The first row is just the template. The second is just rows and the final is just the year."
   ]
  },
  {
   "cell_type": "markdown",
   "metadata": {},
   "source": [
    "Resample the data with gaussian noise of the same magnitude as the error bars. Plot the amplitdues as a histogram. Calculate the chi squared statsitic and then do just trend and mean and calculate the difference in chi squared statistic. I choose the significance threshold of the resulting distribution.This gives the false positive rate."
   ]
  },
  {
   "cell_type": "markdown",
   "metadata": {},
   "source": [
    "Then you inject a number of small events and see if they are detected based on the thresholds you decided. This gives you the false negative rate. "
   ]
  },
  {
   "cell_type": "markdown",
   "metadata": {},
   "source": [
    "Repeating this for every year I can plot the year vs the 50% false positive amplitude of the event. Interpolate over all of the years"
   ]
  },
  {
   "cell_type": "code",
   "execution_count": null,
   "metadata": {},
   "outputs": [],
   "source": []
  }
 ],
 "metadata": {
  "interpreter": {
   "hash": "0c4d728f571dc14aecd61e9c5a335d0795680d56501238c7b0344daa2ef0c43f"
  },
  "kernelspec": {
   "display_name": "Python 3.8.12 64-bit ('ticktack': conda)",
   "language": "python",
   "name": "python3"
  },
  "language_info": {
   "codemirror_mode": {
    "name": "ipython",
    "version": 3
   },
   "file_extension": ".py",
   "mimetype": "text/x-python",
   "name": "python",
   "nbconvert_exporter": "python",
   "pygments_lexer": "ipython3",
   "version": "3.8.12"
  },
  "orig_nbformat": 4
 },
 "nbformat": 4,
 "nbformat_minor": 2
}
