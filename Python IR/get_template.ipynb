{
 "cells": [
  {
   "cell_type": "markdown",
   "metadata": {},
   "source": [
    "# Get_Template: \n",
    "This script constructs a very simple `template` of a miyake event. The sinusoidal component of the production function is ignored resulting in a smooth curve. The template is constructed using the best fitting `model`-`dataset` pair  from the 774AD year. `emcee` is used to fit the parameters of the production function which is then used to generate the `.csv` file containing the `dc14` concentrations over just the event."
   ]
  },
  {
   "cell_type": "code",
   "execution_count": 1,
   "metadata": {},
   "outputs": [
    {
     "name": "stderr",
     "output_type": "stream",
     "text": [
      "<frozen importlib._bootstrap>:219: RuntimeWarning: numpy.ndarray size changed, may indicate binary incompatibility. Expected 80 from C header, got 96 from PyObject\n"
     ]
    }
   ],
   "source": [
    "from os import getcwd\n",
    "from ticktack.fitting import SingleFitter\n",
    "from ticktack import load_presaved_model\n",
    "from jax.numpy import array, mean, exp, sum, inf\n",
    "from jax import jit\n",
    "from csv import writer"
   ]
  },
  {
   "cell_type": "code",
   "execution_count": 2,
   "metadata": {},
   "outputs": [],
   "source": [
    "@jit\n",
    "def super_gaussian(t, *args):\n",
    "    const, start_time, duration, area = array(list(args)).reshape(-1)  # Loading parameters\n",
    "    \n",
    "    middle = start_time + duration / 2 # Middle of event \n",
    "    height = area / duration    # Amplitude of event\n",
    "    gauss = height * exp(- ((t - middle) / (duration / 2)) ** 16)   # Gaussian pulse\n",
    "\n",
    "    return const + gauss\n",
    "\n",
    "@jit \n",
    "def log_likelihood(params, low_bounds, high_bounds):\n",
    "    d14c = fitter.dc14(params)\n",
    "    chi2 = -0.5 * sum(((fitter.d14c_data - d14c) / fitter.d14c_data_error) ** 2)\n",
    "\n",
    "    chi2 += ((params[0] < low_bounds[0]) | (params[0] > high_bounds[0])) * -inf\n",
    "    chi2 += ((params[1] < low_bounds[1]) | (params[1] > high_bounds[1])) * -inf\n",
    "    chi2 += ((params[2] < low_bounds[2]) | (params[2] > high_bounds[2])) * -inf\n",
    "    chi2 += ((params[3] < low_bounds[3]) | (params[3] > high_bounds[3])) * -inf\n",
    "    return chi2"
   ]
  },
  {
   "cell_type": "code",
   "execution_count": 3,
   "metadata": {},
   "outputs": [
    {
     "name": "stderr",
     "output_type": "stream",
     "text": [
      "INFO[2022-01-17 07:28:43,747]: Unable to initialize backend 'tpu_driver': NOT_FOUND: Unable to find driver in registry given worker: \n",
      "INFO[2022-01-17 07:28:43,749]: Unable to initialize backend 'gpu': NOT_FOUND: Could not find registered platform with name: \"cuda\". Available platform names are: Host Interpreter\n",
      "INFO[2022-01-17 07:28:43,750]: Unable to initialize backend 'tpu': INVALID_ARGUMENT: TpuPlatform is not available.\n",
      "WARNING[2022-01-17 07:28:43,751]: No GPU/TPU found, falling back to CPU. (Set TF_CPP_MIN_LOG_LEVEL=0 and rerun for more info.)\n"
     ]
    },
    {
     "name": "stdout",
     "output_type": "stream",
     "text": [
      "Running burn-in...\n"
     ]
    },
    {
     "name": "stderr",
     "output_type": "stream",
     "text": [
      "100%|██████████| 500/500 [00:41<00:00, 11.99it/s]\n"
     ]
    },
    {
     "name": "stdout",
     "output_type": "stream",
     "text": [
      "Running production...\n"
     ]
    },
    {
     "name": "stderr",
     "output_type": "stream",
     "text": [
      "100%|██████████| 1000/1000 [01:28<00:00, 11.27it/s]\n"
     ]
    }
   ],
   "source": [
    "carbon_box_model = load_presaved_model(     # Generating the CarbobBoxModel using ticktack\n",
    "    \"Guttler14\",                            # Selecting an arbitrary model \n",
    "    production_rate_units=\"atoms/cm^2/s\"    # Units of the model\n",
    ")\n",
    "\n",
    "fitter = SingleFitter(carbon_box_model)   # Fitting a model \n",
    "fitter.prepare_function(model=super_gaussian) # Generating the simple sin model\n",
    "fitter.load_data(f\"{getcwd()}/datasets/775AD/NH/Miyake12_Cedar.csv\")   \n",
    "\n",
    "mcmc_samples = fitter.MarkovChainSampler(\n",
    "    array([2.0, 775.0, 0.1, 0.1]),    # Initial guess of the parameters\n",
    "    likelihood=log_likelihood,    \n",
    "    args=(array([0.0, 770.0, 0.0, 0.0]), array([5.0, 780.0, 10.0, 10.0])) # Upper and lower bounds\n",
    ")   "
   ]
  },
  {
   "cell_type": "code",
   "execution_count": 4,
   "metadata": {},
   "outputs": [],
   "source": [
    "event_parameters = mean(mcmc_samples, axis=0)   # The mcmc fitted parameters"
   ]
  }
 ],
 "metadata": {
  "interpreter": {
   "hash": "0c4d728f571dc14aecd61e9c5a335d0795680d56501238c7b0344daa2ef0c43f"
  },
  "kernelspec": {
   "display_name": "Python 3.8.12 64-bit ('ticktack': conda)",
   "language": "python",
   "name": "python3"
  },
  "language_info": {
   "codemirror_mode": {
    "name": "ipython",
    "version": 3
   },
   "file_extension": ".py",
   "mimetype": "text/x-python",
   "name": "python",
   "nbconvert_exporter": "python",
   "pygments_lexer": "ipython3",
   "version": "3.8.12"
  },
  "orig_nbformat": 4
 },
 "nbformat": 4,
 "nbformat_minor": 2
}
