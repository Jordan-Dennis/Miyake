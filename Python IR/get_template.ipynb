{
 "cells": [
  {
   "cell_type": "markdown",
   "metadata": {},
   "source": [
    "# Get_Template: \n",
    "This script constructs a very simple `template` of a miyake event. The sinusoidal component of the production function is ignored resulting in a smooth curve. The template is constructed using the best fitting `model`-`dataset` pair  from the 774AD year. `emcee` is used to fit the parameters of the production function which is then used to generate the `.csv` file containing the `dc14` concentrations over just the event."
   ]
  },
  {
   "cell_type": "code",
   "execution_count": 71,
   "metadata": {},
   "outputs": [],
   "source": [
    "from os import getcwd\n",
    "from ticktack.fitting import SingleFitter\n",
    "from ticktack import load_presaved_model\n",
    "from jax.numpy import array, pi, mean, arange"
   ]
  },
  {
   "cell_type": "code",
   "execution_count": 68,
   "metadata": {},
   "outputs": [
    {
     "name": "stdout",
     "output_type": "stream",
     "text": [
      "Running burn-in...\n"
     ]
    },
    {
     "name": "stderr",
     "output_type": "stream",
     "text": [
      "100%|██████████| 500/500 [00:41<00:00, 11.94it/s]\n"
     ]
    },
    {
     "name": "stdout",
     "output_type": "stream",
     "text": [
      "Running production...\n"
     ]
    },
    {
     "name": "stderr",
     "output_type": "stream",
     "text": [
      "100%|██████████| 1000/1000 [01:27<00:00, 11.38it/s]\n"
     ]
    }
   ],
   "source": [
    "carbon_box_model = load_presaved_model(     # Generating the CarbobBoxModel using ticktack\n",
    "    \"Guttler14\",                            # Selecting an arbitrary model \n",
    "    production_rate_units=\"atoms/cm^2/s\"    # Units of the model\n",
    ")\n",
    "\n",
    "bayesian_model = SingleFitter(carbon_box_model)   # Fitting a model \n",
    "bayesian_model.prepare_function(model=\"simple_sinusoid\") # Generating the simple sin model\n",
    "bayesian_model.load_data(f\"{getcwd()}/datasets/775AD/NH/Miyake12_Cedar.csv\")   \n",
    "\n",
    "mcmc_samples = bayesian_model.MarkovChainSampler(\n",
    "    array([775., 1./12, pi/2., 81./12]),    # Initial guess of the parameters\n",
    "    likelihood=bayesian_model.log_joint_simple_sinusoid,    \n",
    "    args=(array([770., 0., -pi, 0.]), array([780., 5., pi, 15.])) # Upper and lower bounds\n",
    ")   "
   ]
  },
  {
   "cell_type": "code",
   "execution_count": 75,
   "metadata": {},
   "outputs": [
    {
     "data": {
      "text/plain": [
       "(DeviceArray([[ 134.89141868,  709.60871501, 1191.75522842, ...,\n",
       "               1808.40827592,  665.96078961, 7348.8025404 ],\n",
       "              [ 134.89220763,  709.60905505, 1191.75522861, ...,\n",
       "               1808.40827592,  665.96078961, 7348.8025404 ],\n",
       "              [ 134.89295021,  709.60937891, 1191.75522917, ...,\n",
       "               1808.40827592,  665.96078961, 7348.8025404 ],\n",
       "              ...,\n",
       "              [ 135.20188588,  711.95605407, 1196.02857066, ...,\n",
       "               1808.91523182,  666.13008388, 7348.83757498],\n",
       "              [ 135.20764908,  711.95884778, 1196.02676052, ...,\n",
       "               1808.915419  ,  666.13014662, 7348.83758899],\n",
       "              [ 135.21341968,  711.96166807, 1196.02495542, ...,\n",
       "               1808.91560608,  666.13020932, 7348.837603  ]],            dtype=float64),\n",
       " DeviceArray([1.34891419e+02, 7.09608715e+02, 1.19175523e+03,\n",
       "              3.97248139e+00, 4.51603166e+04, 1.55628969e+02,\n",
       "              6.34361837e+02, 4.23744476e+02, 1.80840828e+03,\n",
       "              6.65960790e+02, 7.34880254e+03], dtype=float64))"
      ]
     },
     "execution_count": 75,
     "metadata": {},
     "output_type": "execute_result"
    }
   ],
   "source": [
    "concentrations, final_concentrations = carbon_box_model.run(\n",
    "    time_out=arange(750, 800), \n",
    "    oversample=108, \n",
    "    production=bayesian_model.production, \n",
    "    steady_state_production=1.88,\n",
    "    args = mean(mcmc_samples, axis=0)\n",
    ")"
   ]
  },
  {
   "cell_type": "code",
   "execution_count": null,
   "metadata": {},
   "outputs": [],
   "source": []
  }
 ],
 "metadata": {
  "interpreter": {
   "hash": "0c4d728f571dc14aecd61e9c5a335d0795680d56501238c7b0344daa2ef0c43f"
  },
  "kernelspec": {
   "display_name": "Python 3.8.12 64-bit ('ticktack': conda)",
   "language": "python",
   "name": "python3"
  },
  "language_info": {
   "codemirror_mode": {
    "name": "ipython",
    "version": 3
   },
   "file_extension": ".py",
   "mimetype": "text/x-python",
   "name": "python",
   "nbconvert_exporter": "python",
   "pygments_lexer": "ipython3",
   "version": "3.8.12"
  },
  "orig_nbformat": 4
 },
 "nbformat": 4,
 "nbformat_minor": 2
}
