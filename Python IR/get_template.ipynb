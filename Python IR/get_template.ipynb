{
 "cells": [
  {
   "cell_type": "markdown",
   "metadata": {},
   "source": [
    "# Get_Template: \n",
    "This script constructs a very simple `template` of a miyake event. The sinusoidal component of the production function is ignored resulting in a smooth curve. The template is constructed using the best fitting `model`-`dataset` pair  from the 774AD year. `emcee` is used to fit the parameters of the production function which is then used to generate the `.csv` file containing the `dc14` concentrations over just the event."
   ]
  },
  {
   "cell_type": "code",
   "execution_count": 121,
   "metadata": {},
   "outputs": [],
   "source": [
    "from os import getcwd\n",
    "from numpy import exp, array, append, vectorize, mean, transpose\n",
    "from numpy import float32\n",
    "from scipy.optimize import minimize\n",
    "from scipy.integrate import odeint\n",
    "from plotnine import ggplot, aes, geom_point\n"
   ]
  },
  {
   "cell_type": "code",
   "execution_count": 130,
   "metadata": {},
   "outputs": [],
   "source": [
    "YEAR = 0\n",
    "DC14 = 1\n",
    "SIG_DC14 = 2"
   ]
  },
  {
   "cell_type": "code",
   "execution_count": 131,
   "metadata": {},
   "outputs": [],
   "source": [
    "with open(f\"{getcwd()}/datasets/775AD/NH/Miyake12_Cedar.csv\") as data:\n",
    "    _ = next(data)\n",
    "    data = array([row.strip().split(\",\") for row in data], dtype=float32)\n",
    "    data = transpose(data)"
   ]
  },
  {
   "cell_type": "markdown",
   "metadata": {},
   "source": [
    "So for just modelling the troposphere I will want to set things up so that I have a differential equation where $f(x) = e^{x^{8}}$ is the rate of change. I will then use `scipy.optimize.minimize()` to minimize a loss function with respect to the solution of the ode as determined by the `return` of `ode.odeint`. "
   ]
  },
  {
   "cell_type": "code",
   "execution_count": 64,
   "metadata": {},
   "outputs": [],
   "source": [
    "def production(t, *args):\n",
    "    peak, span, height = args  # Loading parameters\n",
    "    return height * exp(-((t - peak) / (span / 2)) ** 8)   # Gaussian pulse"
   ]
  },
  {
   "cell_type": "code",
   "execution_count": null,
   "metadata": {},
   "outputs": [],
   "source": []
  },
  {
   "cell_type": "code",
   "execution_count": 40,
   "metadata": {},
   "outputs": [],
   "source": [
    "def loss(params=()):\n",
    "    ode.odeint(dydx, mean(data[\"dc14\"][:4]), data[\"year\"], *params,)\n",
    "    \n"
   ]
  },
  {
   "cell_type": "code",
   "execution_count": 138,
   "metadata": {},
   "outputs": [
    {
     "data": {
      "text/plain": [
       "array([[-17.45000076],\n",
       "       [-17.45000076],\n",
       "       [-17.45000076],\n",
       "       [-17.45000076],\n",
       "       [-17.45000076],\n",
       "       [-17.45000076],\n",
       "       [-17.45000076],\n",
       "       [-17.45000076],\n",
       "       [-17.45000076],\n",
       "       [-17.45000076],\n",
       "       [-17.45000076],\n",
       "       [-17.45000076],\n",
       "       [-17.45000076],\n",
       "       [-17.45000076],\n",
       "       [-17.45000076],\n",
       "       [-17.45000076],\n",
       "       [-17.45000076],\n",
       "       [-17.45000076],\n",
       "       [-17.45000076],\n",
       "       [-17.45000076],\n",
       "       [-17.45000076],\n",
       "       [-17.45000076],\n",
       "       [-17.45000076],\n",
       "       [-17.45000076],\n",
       "       [-17.45000076],\n",
       "       [-17.45000076],\n",
       "       [-17.45000076],\n",
       "       [-17.45000076],\n",
       "       [-17.45000076],\n",
       "       [-17.45000076],\n",
       "       [-17.45000076],\n",
       "       [-17.45000076],\n",
       "       [-17.45000076],\n",
       "       [-17.45000076],\n",
       "       [-17.45000076],\n",
       "       [-17.45000076],\n",
       "       [-17.45000076],\n",
       "       [-17.45000076]])"
      ]
     },
     "execution_count": 138,
     "metadata": {},
     "output_type": "execute_result"
    }
   ],
   "source": [
    "odeint(dydx, mean(data[DC14][:4]), data[YEAR], args=(775, 1))\n",
    "\n"
   ]
  },
  {
   "cell_type": "markdown",
   "metadata": {},
   "source": [
    "`pandas.read_csv`: 1.02 ms ± 65.6 µs\n",
    "\n",
    "`list` with `append`: 57.5 µs ± 3.6 µs\n",
    "\n",
    "`ndarray` with `append`: 668 µs ± 60.6 µs \n",
    "\n",
    "`ndarray` with `map`, `numpy.append`: 38.2 µs ± 4.07 µs\n",
    "\n",
    "`ndarray` with `map`, `add_row`: 17.7 µs ± 1.34 µs \n",
    "\n",
    "`list` with `numpy.array` conversion at the end: 53.7 µs ± 3.14 µs"
   ]
  }
 ],
 "metadata": {
  "interpreter": {
   "hash": "0c4d728f571dc14aecd61e9c5a335d0795680d56501238c7b0344daa2ef0c43f"
  },
  "kernelspec": {
   "display_name": "Python 3.8.12 64-bit ('ticktack': conda)",
   "language": "python",
   "name": "python3"
  },
  "language_info": {
   "codemirror_mode": {
    "name": "ipython",
    "version": 3
   },
   "file_extension": ".py",
   "mimetype": "text/x-python",
   "name": "python",
   "nbconvert_exporter": "python",
   "pygments_lexer": "ipython3",
   "version": "3.8.12"
  },
  "orig_nbformat": 4
 },
 "nbformat": 4,
 "nbformat_minor": 2
}
