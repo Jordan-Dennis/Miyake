{
 "cells": [
  {
   "cell_type": "markdown",
   "metadata": {},
   "source": [
    "# Get_Template: \n",
    "This script constructs a very simple `template` of a miyake event. The sinusoidal component of the production function is ignored resulting in a smooth curve. The template is constructed using the best fitting `model`-`dataset` pair  from the 774AD year. `emcee` is used to fit the parameters of the production function which is then used to generate the `.csv` file containing the `dc14` concentrations over just the event."
   ]
  },
  {
   "cell_type": "code",
   "execution_count": 121,
   "metadata": {},
   "outputs": [],
   "source": [
    "from os import getcwd\n",
    "from numpy import exp, array, append, vectorize, mean, transpose\n",
    "from numpy import float32\n",
    "from scipy.optimize import minimize\n",
    "from scipy.integrate import odeint\n",
    "from plotnine import ggplot, aes, geom_point\n"
   ]
  },
  {
   "cell_type": "code",
   "execution_count": 130,
   "metadata": {},
   "outputs": [],
   "source": [
    "YEAR = 0\n",
    "DC14 = 1\n",
    "SIG_DC14 = 2"
   ]
  },
  {
   "cell_type": "code",
   "execution_count": 131,
   "metadata": {},
   "outputs": [],
   "source": [
    "with open(f\"{getcwd()}/datasets/775AD/NH/Miyake12_Cedar.csv\") as data:\n",
    "    _ = next(data)  # Removing the header\n",
    "    data = array([row.strip().split(\",\") for row in data], dtype=float32)\n",
    "    data = transpose(data)"
   ]
  },
  {
   "cell_type": "markdown",
   "metadata": {},
   "source": [
    "So for just modelling the troposphere I will want to set things up so that I have a differential equation where $f(x) = e^{x^{8}}$ is the rate of change. I will then use `scipy.optimize.minimize()` to minimize a loss function with respect to the solution of the ode as determined by the `return` of `ode.odeint`. "
   ]
  },
  {
   "cell_type": "code",
   "execution_count": 139,
   "metadata": {},
   "outputs": [],
   "source": []
  },
  {
   "cell_type": "code",
   "execution_count": 143,
   "metadata": {},
   "outputs": [],
   "source": [
    "def dydx(y, t, *params):\n",
    "    def production(t, *params):\n",
    "        peak, span, height = params  # Loading parameters\n",
    "        return height * exp(-((t - peak) / (span / 2)) ** 8)   # Gaussian pulse\n",
    "    return y + production(t, *params)"
   ]
  },
  {
   "cell_type": "code",
   "execution_count": 40,
   "metadata": {},
   "outputs": [],
   "source": [
    "def loss(params=()):\n",
    "    ode.odeint(dydx, mean(data[\"dc14\"][:4]), data[\"year\"], *params,)\n",
    "    \n"
   ]
  },
  {
   "cell_type": "code",
   "execution_count": 144,
   "metadata": {},
   "outputs": [
    {
     "data": {
      "text/plain": [
       "array([[-1.74500008e+01],\n",
       "       [-1.28939040e+02],\n",
       "       [-7.03983350e+03],\n",
       "       [-5.20177264e+04],\n",
       "       [-3.84361913e+05],\n",
       "       [-2.84007183e+06],\n",
       "       [-2.09854508e+07],\n",
       "       [-1.55062679e+08],\n",
       "       [-1.14576687e+09],\n",
       "       [-8.46613601e+09],\n",
       "       [-6.25567561e+10],\n",
       "       [-4.62235396e+11],\n",
       "       [-1.25648610e+12],\n",
       "       [-3.41548339e+12],\n",
       "       [-9.28424661e+12],\n",
       "       [-2.52371993e+13],\n",
       "       [-6.86018214e+13],\n",
       "       [-1.86479088e+14],\n",
       "       [-1.37790449e+15],\n",
       "       [-1.01814139e+16],\n",
       "       [-7.52310414e+16],\n",
       "       [-5.55886405e+17],\n",
       "       [-4.10747597e+18],\n",
       "       [-3.03503715e+19],\n",
       "       [-2.24260605e+20],\n",
       "       [-1.65707425e+21],\n",
       "       [-1.22442150e+22],\n",
       "       [-9.04731949e+22],\n",
       "       [-6.68511536e+23],\n",
       "       [-4.93966942e+24],\n",
       "       [-3.64994957e+25],\n",
       "       [-2.69696831e+26],\n",
       "       [-1.99280508e+27],\n",
       "       [-1.47249491e+28],\n",
       "       [-1.08803479e+29],\n",
       "       [-8.03955035e+29],\n",
       "       [-5.94046906e+30],\n",
       "       [-4.38944607e+31]])"
      ]
     },
     "execution_count": 144,
     "metadata": {},
     "output_type": "execute_result"
    }
   ],
   "source": [
    "odeint(func=dydx, y0=mean(data[DC14][:4]), t=data[YEAR], args=(775, 1, 5))"
   ]
  },
  {
   "cell_type": "markdown",
   "metadata": {},
   "source": [
    "`pandas.read_csv`: 1.02 ms ± 65.6 µs\n",
    "\n",
    "`list` with `append`: 57.5 µs ± 3.6 µs\n",
    "\n",
    "`ndarray` with `append`: 668 µs ± 60.6 µs \n",
    "\n",
    "`ndarray` with `map`, `numpy.append`: 38.2 µs ± 4.07 µs\n",
    "\n",
    "`ndarray` with `map`, `add_row`: 17.7 µs ± 1.34 µs \n",
    "\n",
    "`list` with `numpy.array` conversion at the end: 53.7 µs ± 3.14 µs"
   ]
  }
 ],
 "metadata": {
  "interpreter": {
   "hash": "0c4d728f571dc14aecd61e9c5a335d0795680d56501238c7b0344daa2ef0c43f"
  },
  "kernelspec": {
   "display_name": "Python 3.8.12 64-bit ('ticktack': conda)",
   "language": "python",
   "name": "python3"
  },
  "language_info": {
   "codemirror_mode": {
    "name": "ipython",
    "version": 3
   },
   "file_extension": ".py",
   "mimetype": "text/x-python",
   "name": "python",
   "nbconvert_exporter": "python",
   "pygments_lexer": "ipython3",
   "version": "3.8.12"
  },
  "orig_nbformat": 4
 },
 "nbformat": 4,
 "nbformat_minor": 2
}
