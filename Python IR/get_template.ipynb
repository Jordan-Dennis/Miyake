{
 "cells": [
  {
   "cell_type": "markdown",
   "metadata": {},
   "source": [
    "# Get_Template: \n",
    "This script constructs a very simple `template` of a miyake event. The sinusoidal component of the production function is ignored resulting in a smooth curve. The template is constructed using the best fitting `model`-`dataset` pair  from the 774AD year. `emcee` is used to fit the parameters of the production function which is then used to generate the `.csv` file containing the `dc14` concentrations over just the event."
   ]
  },
  {
   "cell_type": "code",
   "execution_count": 199,
   "metadata": {},
   "outputs": [],
   "source": [
    "from os import getcwd\n",
    "from numpy import exp, array, append, vectorize, mean, transpose, log\n",
    "from numpy import float32\n",
    "from functools import partial\n",
    "from scipy.optimize import minimize\n",
    "from scipy.integrate import odeint\n",
    "from plotnine import ggplot, aes, geom_point, geom_line\n"
   ]
  },
  {
   "cell_type": "code",
   "execution_count": 130,
   "metadata": {},
   "outputs": [],
   "source": [
    "YEAR = 0\n",
    "DC14 = 1\n",
    "SIG_DC14 = 2"
   ]
  },
  {
   "cell_type": "code",
   "execution_count": 131,
   "metadata": {},
   "outputs": [],
   "source": [
    "with open(f\"{getcwd()}/datasets/775AD/NH/Miyake12_Cedar.csv\") as data:\n",
    "    _ = next(data)  # Removing the header\n",
    "    data = array([row.strip().split(\",\") for row in data], dtype=float32)\n",
    "    data = transpose(data)"
   ]
  },
  {
   "cell_type": "markdown",
   "metadata": {},
   "source": [
    "So for just modelling the troposphere I will want to set things up so that I have a differential equation where $f(x) = e^{x^{8}}$ is the rate of change. I will then use `scipy.optimize.minimize()` to minimize a loss function with respect to the solution of the ode as determined by the `return` of `ode.odeint`. "
   ]
  },
  {
   "cell_type": "markdown",
   "metadata": {},
   "source": [
    "So I am going to assume that based on `y0` the system is in equilibrium. Thus I will add a constant term to `production` that is based on `y0` times the `decay constant. Ahh so the problem is that there is a rapid outflow to the connected cells in the carbon box model. I can just add some multiple factor `OUTFLOW` which acts on the difference between the current troposphere value and `y0`"
   ]
  },
  {
   "cell_type": "code",
   "execution_count": 277,
   "metadata": {},
   "outputs": [],
   "source": [
    "def dydx(y, t, *params, y0=None):\n",
    "    out_flow, *prod_params = params\n",
    "    def production(t, *prod_params):\n",
    "        peak, span, height = prod_params  # Loading parameters\n",
    "        gauss = height * exp(-((t - peak) / (span / 2)) ** 2)   # Gaussian pulse\n",
    "        return gauss\n",
    "    return - out_flow * (y - y0) + production(t, *prod_params)"
   ]
  },
  {
   "cell_type": "code",
   "execution_count": null,
   "metadata": {},
   "outputs": [],
   "source": [
    "y0 = mean(data[DC14][:4])\n",
    "dydx = partial(dydx, y0=y0)\n",
    "attempt = odeint(\n",
    "    func=dydx, \n",
    "    y0=mean(data[DC14][:4]), \n",
    "    t=data[YEAR], \n",
    "    args=(0.05, 775,2,10),\n",
    "    rtol=1e-10,\n",
    "    atol=1e-10,\n",
    "    tcrit=array([775])\n",
    ")"
   ]
  },
  {
   "cell_type": "code",
   "execution_count": 278,
   "metadata": {},
   "outputs": [],
   "source": [
    "def loss(params=()):\n",
    "    y0 = mean(data[DC14][:4])\n",
    "    dydx = partial(dydx, y0=y0)\n",
    "    attempt = odeint(\n",
    "        func=dydx, \n",
    "        y0=mean(data[DC14][:4]), \n",
    "        t=data[YEAR], \n",
    "        args=(0.05, 775,2,10),\n",
    "        rtol=1e-10,\n",
    "        atol=1e-10,\n",
    "        tcrit=array([775])\n",
    "    )\n",
    "    \n"
   ]
  },
  {
   "cell_type": "code",
   "execution_count": 275,
   "metadata": {},
   "outputs": [],
   "source": []
  },
  {
   "cell_type": "code",
   "execution_count": 276,
   "metadata": {},
   "outputs": [
    {
     "data": {
      "image/png": "[encoded data removed]",
      "text/plain": [
       "<Figure size 640x480 with 1 Axes>"
      ]
     },
     "metadata": {},
     "output_type": "display_data"
    },
    {
     "data": {
      "text/plain": [
       "<ggplot: (8735288260377)>"
      ]
     },
     "execution_count": 276,
     "metadata": {},
     "output_type": "execute_result"
    }
   ],
   "source": [
    "(ggplot()\n",
    "    + geom_line(\n",
    "        aes(x=data[YEAR], y=attempt)\n",
    "    ) + geom_point(\n",
    "        aes(x=data[YEAR], y=data[DC14])\n",
    "    )\n",
    ")"
   ]
  },
  {
   "cell_type": "markdown",
   "metadata": {},
   "source": [
    "`pandas.read_csv`: 1.02 ms ± 65.6 µs\n",
    "\n",
    "`list` with `append`: 57.5 µs ± 3.6 µs\n",
    "\n",
    "`ndarray` with `append`: 668 µs ± 60.6 µs \n",
    "\n",
    "`ndarray` with `map`, `numpy.append`: 38.2 µs ± 4.07 µs\n",
    "\n",
    "`ndarray` with `map`, `add_row`: 17.7 µs ± 1.34 µs \n",
    "\n",
    "`list` with `numpy.array` conversion at the end: 53.7 µs ± 3.14 µs"
   ]
  }
 ],
 "metadata": {
  "interpreter": {
   "hash": "0c4d728f571dc14aecd61e9c5a335d0795680d56501238c7b0344daa2ef0c43f"
  },
  "kernelspec": {
   "display_name": "Python 3.8.12 64-bit ('ticktack': conda)",
   "language": "python",
   "name": "python3"
  },
  "language_info": {
   "codemirror_mode": {
    "name": "ipython",
    "version": 3
   },
   "file_extension": ".py",
   "mimetype": "text/x-python",
   "name": "python",
   "nbconvert_exporter": "python",
   "pygments_lexer": "ipython3",
   "version": "3.8.12"
  },
  "orig_nbformat": 4
 },
 "nbformat": 4,
 "nbformat_minor": 2
}
