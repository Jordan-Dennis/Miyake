{
 "cells": [
  {
   "cell_type": "markdown",
   "metadata": {},
   "source": [
    "# Get_Template: \n",
    "This script constructs a very simple `template` of a miyake event. The sinusoidal component of the production function is ignored resulting in a smooth curve. The template is constructed using the best fitting `model`-`dataset` pair  from the 774AD year. `emcee` is used to fit the parameters of the production function which is then used to generate the `.csv` file containing the `dc14` concentrations over just the event."
   ]
  },
  {
   "cell_type": "code",
   "execution_count": 17,
   "metadata": {},
   "outputs": [],
   "source": [
    "from os import walk, getcwd\n",
    "from ticktack.fitting import SingleFitter\n",
    "from ticktack import load_presaved_model\n",
    "from math import exp"
   ]
  },
  {
   "cell_type": "code",
   "execution_count": 3,
   "metadata": {},
   "outputs": [],
   "source": [
    "models = { # This dictionary contains the units for the fluxes and production function\n",
    "    \"Guttler14\": {  # Units of the Guttler 2014 paper\n",
    "        \"production_rate_units\": \"atoms/cm^2/s\",    # Units of the production rate \n",
    "        \"flow_rate_units\": \"Gt/yr\"                  # Units of the fluxes\n",
    "    }\n",
    "}"
   ]
  },
  {
   "cell_type": "code",
   "execution_count": 6,
   "metadata": {},
   "outputs": [],
   "source": [
    "data_sets = []  # List for storing the data set locations\n",
    "data_sets_directory = f\"{getcwd()}/datasets/775AD\" # Home directory of the data \n",
    "for (root, dirs, files) in walk(data_sets_directory):    # Looping over directories \n",
    "    for file in files:  # Looping through the files \n",
    "        file_path = root + \"/\" + file   # Setting up the path \n",
    "        data_sets.append(file_path)  # Extending the stored directoriess"
   ]
  },
  {
   "cell_type": "code",
   "execution_count": null,
   "metadata": {},
   "outputs": [],
   "source": [
    "def production_function(time, *parameters):\n",
    "    \"\"\"\n",
    "    Given the time and parameters of the production function. Generates the total production of carbon 14 at that time using a linear model and a super-gaussian pulse. \n",
    "    Parameters:\n",
    "        time: float -> The time in years.\n",
    "        parameters: tuple -> The parameters of the production function. In this case, steady state, long term trend, middle, duration and amplitude.\n",
    "    Returns:\n",
    "        float -> The carbon 14 production at time.\n",
    "    \"\"\"\n",
    "    const, lin_coeff, center, duration, amplitude = parameters\n",
    "    super_gaussian = amplitude * exp(((time - center) / (duration / 2)) ** 8)\n",
    "    long_term_trend = const + lin_coeff * time\n",
    "    return super_gaussian + long_term_trend"
   ]
  },
  {
   "cell_type": "code",
   "execution_count": null,
   "metadata": {},
   "outputs": [],
   "source": [
    "def get_model(model: str, datum: str):\n",
    "    \"\"\"\n",
    "    Using a `ticktack.SingleFitter` this function compiles the model and selects the appropriate production function.\n",
    "    \"\"\"\n",
    "    cbm = load_presaved_model( # Generating the CarbobBoxModel using ticktack\n",
    "        model,  # Name of the model as looped from the models dictionary \n",
    "        production_rate_units=models[model][\"production_rate_units\"], \n",
    "        flow_rate_units=models[model][\"flow_rate_units\"])\n",
    "\n",
    "    bayesian_model = SingleFitter(cbm)   # Fitting a model \n",
    "    bayesian_model.prepare_function(production_function)    # Generating the simple sin model\n",
    "    bayesian_model.load_data(datum)   # Loading the data into the model  \n",
    "\n",
    "    return bayesian_model"
   ]
  },
  {
   "cell_type": "code",
   "execution_count": null,
   "metadata": {},
   "outputs": [],
   "source": [
    "def get_production_function(model: SingleFitter):\n",
    "    \"\"\"\n",
    "    Parameters:\n",
    "        model: `str` - The `CarbonBoxModel` that is to be used\n",
    "        data: `str` - The dataset that the production function is to be fitted to (.csv)\n",
    "    Returns:\n",
    "        production: `function` - The ideal production function \n",
    "    \"\"\"\n",
    "    # Return to nedler-mead \n",
    "    # Simulate 50 year \"template/burn in\"\n",
    "    # Fit the miyake data with mcmc including sinusoid. \n",
    "    # Not too comfortable with atmospheric dynamics.\n",
    "        # Stratospheric pull down ? radio carbon\n",
    "        # Pulled down close to the surface at mid-year\n",
    "    # ANU carbon models\n",
    "        # Cameron O'neil\n",
    "    # Sharp-rise (Late rise) 774 AD datasets\n",
    "\n",
    "    # The template that I want to pick removes the sinuspoid but uses the event parameters that were fitted with the sinusoid. Using some measure like MLE or mean. That way we are isolating the event. Save this to a file and evaluate on a 50 year grid with the event happening in the middle. \n",
    "\n",
    "    # So split the file into get_template.ipynb -> Run once and save the output onto a 50 year grid. \n",
    "    initial_parameters = array([model.time_data[len(model.time_data) // 2], 1./12, pi/2., 81./12])\n",
    "    # Guess the initial parameters by hand.\n",
    "\n",
    "    # emcee is an implementation of affine invariant ensamble mcmc. Metropolis hastings is the vanilla that has one walker and each evaluation is a step/not step of the walker. You can also do parallel tempering (MH). Ensamble mcmc is something different, you take a hundred points and propose a dist based on the stretch move. The stretch move draws lines between the points and takes a step along the line (from some dist). This results in the thing being affine, which is a generalisation of linear. This is provably optimal for doing mcmc on a multivariate gaussian.\n",
    "\n",
    "    # Need to initialise the parameters as a multi-dimensional gaussian noise, to stetch the lines. This is what the condition number means. The condition number is the ratio of the smallest and largest eigenvalue.\n",
    "\n",
    "    # DFM's website demonstrates how to do this \n",
    "    sampler = emcee.EnsembleSampler(4, 4, model.log_likelihood)\n",
    "\n",
    "    print(\"Running burn-in...\")\n",
    "    p0, _, _ = sampler.run_mcmc(initial_parameters, 200, progress=True);\n",
    "\n",
    "    print(\"Running production...\")\n",
    "    sampler.reset()\n",
    "    sampler.run_mcmc(p0, model.simple_sinusoid, progress=True);\n",
    "    samples = sampler.flatchain\n",
    "\n",
    "    parameters = {  # A dictionary of the model parameters for the `simple_sinusoid`\n",
    "        \"Start Date (yr)\": None,    # The year that the event began \n",
    "        \"Duration (yr)\": None,      # Number of years that the event occured over \n",
    "        \"Phase (yr)\": None,         # The phase shift of the sinusoidal production function \n",
    "        \"Area\": None               #? What are the units?\n",
    "    } \n",
    "\n",
    "    for i, parameter in enumerate(parameters):  # Looping through the parameters \n",
    "        parameters[parameter] = {   # Nested dictionary to store statistical information\n",
    "            \"mean\": mean(samples[:, i]),    # Storing the mean of the samples produced by mcmc\n",
    "            \"median\": median(samples[:, i]),# Storing the median in addition to the mean \n",
    "            \"variance\": var(samples[:, i])  # Storing the variance of the parameter\n",
    "        }\n",
    "    parameters[\"Steady Production\"] = model.steady_state_production   \n",
    "    \n",
    "    return parameters"
   ]
  }
 ],
 "metadata": {
  "interpreter": {
   "hash": "0c4d728f571dc14aecd61e9c5a335d0795680d56501238c7b0344daa2ef0c43f"
  },
  "kernelspec": {
   "display_name": "Python 3.8.12 64-bit ('ticktack': conda)",
   "language": "python",
   "name": "python3"
  },
  "language_info": {
   "codemirror_mode": {
    "name": "ipython",
    "version": 3
   },
   "file_extension": ".py",
   "mimetype": "text/x-python",
   "name": "python",
   "nbconvert_exporter": "python",
   "pygments_lexer": "ipython3",
   "version": "3.8.12"
  },
  "orig_nbformat": 4
 },
 "nbformat": 4,
 "nbformat_minor": 2
}
