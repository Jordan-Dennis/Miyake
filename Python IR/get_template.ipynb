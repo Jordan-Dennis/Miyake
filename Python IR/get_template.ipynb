{
 "cells": [
  {
   "cell_type": "markdown",
   "metadata": {},
   "source": [
    "# Get_Template: \n",
    "This script constructs a very simple `template` of a miyake event. The sinusoidal component of the production function is ignored resulting in a smooth curve. The template is constructed using the best fitting `model`-`dataset` pair  from the 774AD year. `emcee` is used to fit the parameters of the production function which is then used to generate the `.csv` file containing the `dc14` concentrations over just the event."
   ]
  },
  {
   "cell_type": "code",
   "execution_count": 47,
   "metadata": {},
   "outputs": [],
   "source": [
    "from os import getcwd\n",
    "from ticktack.fitting import SingleFitter\n",
    "from ticktack import load_presaved_model\n",
    "from jax.numpy import array, pi, mean"
   ]
  },
  {
   "cell_type": "code",
   "execution_count": null,
   "metadata": {},
   "outputs": [],
   "source": [
    "def get_template_parameters(carbon_box_model):\n",
    "    bayesian_model = SingleFitter(carbon_box_model)   # Fitting a model \n",
    "    bayesian_model.prepare_function(model=\"simple_sinusoid\") # Generating the simple sin model\n",
    "    bayesian_model.load_data(f\"{getcwd()}/datasets/775AD/NH/Miyake12_Cedar.csv\")   \n",
    "\n",
    "    mcmc_samples = bayesian_model.MarkovChainSampler(\n",
    "        array([775., 1./12, pi/2., 81./12]),    # Initial guess of the parameters\n",
    "        likelihood=bayesian_model.log_joint_simple_sinusoid,    \n",
    "        args=(array([770., 0., -pi, 0.]), array([780., 5., pi, 15.])) # Upper and lower bounds\n",
    "    )   \n",
    "\n",
    "    return  mean(mcmc_samples, axis=0)  # Return the distribution means"
   ]
  },
  {
   "cell_type": "code",
   "execution_count": null,
   "metadata": {},
   "outputs": [],
   "source": [
    "carbon_box_model = load_presaved_model(     # Generating the CarbobBoxModel using ticktack\n",
    "    \"Guttler14\",                            # Selecting an arbitrary model \n",
    "    production_rate_units=\"atoms/cm^2/s\"    # Units of the model\n",
    ")"
   ]
  },
  {
   "cell_type": "code",
   "execution_count": null,
   "metadata": {},
   "outputs": [],
   "source": [
    "carbon_box_model.run(arange())"
   ]
  }
 ],
 "metadata": {
  "interpreter": {
   "hash": "0c4d728f571dc14aecd61e9c5a335d0795680d56501238c7b0344daa2ef0c43f"
  },
  "kernelspec": {
   "display_name": "Python 3.8.12 64-bit ('ticktack': conda)",
   "language": "python",
   "name": "python3"
  },
  "language_info": {
   "codemirror_mode": {
    "name": "ipython",
    "version": 3
   },
   "file_extension": ".py",
   "mimetype": "text/x-python",
   "name": "python",
   "nbconvert_exporter": "python",
   "pygments_lexer": "ipython3",
   "version": "3.8.12"
  },
  "orig_nbformat": 4
 },
 "nbformat": 4,
 "nbformat_minor": 2
}
