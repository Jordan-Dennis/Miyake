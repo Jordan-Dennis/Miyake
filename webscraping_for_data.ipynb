{
 "cells": [
  {
   "cell_type": "code",
   "execution_count": 14,
   "metadata": {},
   "outputs": [],
   "source": [
    "import requests\n",
    "import os\n",
    "import bs4 "
   ]
  },
  {
   "cell_type": "code",
   "execution_count": 34,
   "metadata": {},
   "outputs": [],
   "source": [
    "http_request = requests.get(\"https://github.com/SharmaLlama/ticktack/tree/main/src/data/datasets\") \n",
    "html_parser = bs4.BeautifulSoup(http_request.text, \"html.parser\")\n",
    "github_repo = html_parser.find_all(\"a\", class_=\"js-navigation-open Link--primary\")"
   ]
  },
  {
   "cell_type": "code",
   "execution_count": 40,
   "metadata": {},
   "outputs": [
    {
     "data": {
      "text/plain": [
       "<a class=\"js-navigation-open Link--primary\" data-pjax=\"#repo-content-pjax-container\" href=\"/SharmaLlama/ticktack/tree/main/src/data/datasets/5259BCE/NH\" title=\"This path skips through empty directories\"><span class=\"color-fg-muted\">5259BCE/</span>NH</a>"
      ]
     },
     "execution_count": 40,
     "metadata": {},
     "output_type": "execute_result"
    }
   ],
   "source": [
    "for  in test "
   ]
  },
  {
   "cell_type": "code",
   "execution_count": 47,
   "metadata": {},
   "outputs": [
    {
     "name": "stdout",
     "output_type": "stream",
     "text": [
      "/SharmaLlama/ticktack/tree/main/src/data/datasets/5259BCE/NH\n"
     ]
    }
   ],
   "source": [
    "for js_string in str(test[0]).split('\"'):\n",
    "    if js_string.startswith(\"/\"):\n",
    "        print(js_string)"
   ]
  }
 ],
 "metadata": {
  "interpreter": {
   "hash": "0c4d728f571dc14aecd61e9c5a335d0795680d56501238c7b0344daa2ef0c43f"
  },
  "kernelspec": {
   "display_name": "Python 3.8.12 64-bit ('ticktack': conda)",
   "language": "python",
   "name": "python3"
  },
  "language_info": {
   "codemirror_mode": {
    "name": "ipython",
    "version": 3
   },
   "file_extension": ".py",
   "mimetype": "text/x-python",
   "name": "python",
   "nbconvert_exporter": "python",
   "pygments_lexer": "ipython3",
   "version": "3.8.12"
  },
  "orig_nbformat": 4
 },
 "nbformat": 4,
 "nbformat_minor": 2
}
