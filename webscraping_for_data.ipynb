{
 "cells": [
  {
   "cell_type": "code",
   "execution_count": 14,
   "metadata": {},
   "outputs": [],
   "source": [
    "import requests\n",
    "import os\n",
    "import bs4 "
   ]
  },
  {
   "cell_type": "code",
   "execution_count": 29,
   "metadata": {},
   "outputs": [],
   "source": [
    "test = requests.get(\"https://github.com/SharmaLlama/ticktack/tree/main/src/data/datasets\") \n",
    "test = bs4.BeautifulSoup(test.text, \"html.parser\")"
   ]
  },
  {
   "cell_type": "code",
   "execution_count": 32,
   "metadata": {},
   "outputs": [
    {
     "data": {
      "text/plain": [
       "[<a class=\"js-navigation-open Link--primary\" data-pjax=\"#repo-content-pjax-container\" href=\"/SharmaLlama/ticktack/tree/main/src/data/datasets/5259BCE/NH\" title=\"This path skips through empty directories\"><span class=\"color-fg-muted\">5259BCE/</span>NH</a>,\n",
       " <a class=\"js-navigation-open Link--primary\" data-pjax=\"#repo-content-pjax-container\" href=\"/SharmaLlama/ticktack/tree/main/src/data/datasets/5410BCE/NH\" title=\"This path skips through empty directories\"><span class=\"color-fg-muted\">5410BCE/</span>NH</a>,\n",
       " <a class=\"js-navigation-open Link--primary\" data-pjax=\"#repo-content-pjax-container\" href=\"/SharmaLlama/ticktack/tree/main/src/data/datasets/660BCE/NH\" title=\"This path skips through empty directories\"><span class=\"color-fg-muted\">660BCE/</span>NH</a>,\n",
       " <a class=\"js-navigation-open Link--primary\" data-pjax=\"#repo-content-pjax-container\" href=\"/SharmaLlama/ticktack/tree/main/src/data/datasets/7176BCE/NH\" title=\"This path skips through empty directories\"><span class=\"color-fg-muted\">7176BCE/</span>NH</a>,\n",
       " <a class=\"js-navigation-open Link--primary\" data-pjax=\"#repo-content-pjax-container\" href=\"/SharmaLlama/ticktack/tree/main/src/data/datasets/775AD\" title=\"775AD\">775AD</a>,\n",
       " <a class=\"js-navigation-open Link--primary\" data-pjax=\"#repo-content-pjax-container\" href=\"/SharmaLlama/ticktack/tree/main/src/data/datasets/993AD\" title=\"993AD\">993AD</a>]"
      ]
     },
     "execution_count": 32,
     "metadata": {},
     "output_type": "execute_result"
    }
   ],
   "source": [
    "test.find_all(\"a\", class_=\"js-navigation-open Link--primary\")\n"
   ]
  }
 ],
 "metadata": {
  "interpreter": {
   "hash": "0c4d728f571dc14aecd61e9c5a335d0795680d56501238c7b0344daa2ef0c43f"
  },
  "kernelspec": {
   "display_name": "Python 3.8.12 64-bit ('ticktack': conda)",
   "language": "python",
   "name": "python3"
  },
  "language_info": {
   "codemirror_mode": {
    "name": "ipython",
    "version": 3
   },
   "file_extension": ".py",
   "mimetype": "text/x-python",
   "name": "python",
   "nbconvert_exporter": "python",
   "pygments_lexer": "ipython3",
   "version": "3.8.12"
  },
  "orig_nbformat": 4
 },
 "nbformat": 4,
 "nbformat_minor": 2
}
