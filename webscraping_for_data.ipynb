{
 "cells": [
  {
   "cell_type": "code",
   "execution_count": 1,
   "metadata": {},
   "outputs": [],
   "source": [
    "import requests\n",
    "import os\n",
    "import bs4 \n",
    "from time import sleep"
   ]
  },
  {
   "cell_type": "code",
   "execution_count": 2,
   "metadata": {},
   "outputs": [],
   "source": [
    "def get_directories(passed_html):\n",
    "    sub_directories = passed_html.find_all(\"a\", class_=\"js-navigation-open Link--primary\")\n",
    "\n",
    "    repositories = []\n",
    "    for sub_directory in sub_directories:\n",
    "        for js_string in str(sub_directory).split('\"'):\n",
    "            if js_string.startswith(\"/\"):\n",
    "                repositories.append(\"\".join([\"https://github.com\", js_string]))\n",
    "\n",
    "    return repositories"
   ]
  },
  {
   "cell_type": "code",
   "execution_count": 3,
   "metadata": {},
   "outputs": [],
   "source": [
    "http_request = requests.get(\"https://github.com/SharmaLlama/ticktack/tree/main/src/data/datasets\") \n",
    "html_parser = bs4.BeautifulSoup(http_request.text, \"html.parser\")"
   ]
  },
  {
   "cell_type": "code",
   "execution_count": 4,
   "metadata": {},
   "outputs": [],
   "source": [
    "data_sets = []\n",
    "for dir in get_directories(html_parser):\n",
    "    data_set = requests.get(dir)\n",
    "    passed_data = bs4.BeautifulSoup(data_set.text, \"html.parser\")\n",
    "\n",
    "    data_sets.append(get_directories(passed_data))"
   ]
  },
  {
   "cell_type": "code",
   "execution_count": 9,
   "metadata": {},
   "outputs": [],
   "source": [
    "for i, directory_data_sets in enumerate(data_sets):\n",
    "    for data_set_url in directory_data_sets:\n",
    "        if data_set_url.find(\"csv\") == -1:\n",
    "            data_set = requests.get(data_set_url)\n",
    "            passed_data = bs4.BeautifulSoup(data_set.text, \"html.parser\")\n",
    "            data_sets[i] = get_directories(passed_data)"
   ]
  },
  {
   "cell_type": "code",
   "execution_count": 13,
   "metadata": {},
   "outputs": [],
   "source": [
    "for data_directory in data_sets:\n",
    "    for data_url in data_directory:\n",
    "        data_set = requests.get(data_url)\n",
    "        data_set = bs4.BeautifulSoup(data_set.text, \"html.parser\")"
   ]
  }
 ],
 "metadata": {
  "interpreter": {
   "hash": "0c4d728f571dc14aecd61e9c5a335d0795680d56501238c7b0344daa2ef0c43f"
  },
  "kernelspec": {
   "display_name": "Python 3.8.12 64-bit ('ticktack': conda)",
   "language": "python",
   "name": "python3"
  },
  "language_info": {
   "codemirror_mode": {
    "name": "ipython",
    "version": 3
   },
   "file_extension": ".py",
   "mimetype": "text/x-python",
   "name": "python",
   "nbconvert_exporter": "python",
   "pygments_lexer": "ipython3",
   "version": "3.8.12"
  },
  "orig_nbformat": 4
 },
 "nbformat": 4,
 "nbformat_minor": 2
}
