{
 "cells": [
  {
   "cell_type": "code",
   "execution_count": 69,
   "metadata": {},
   "outputs": [],
   "source": [
    "import ticktack                 # For the compilation of the model\n",
    "import ode                      # As a method of solving the odes\n",
    "import numpy as np              # For the basic functions that need to be written\n",
    "from jax import numpy as jnp    # annoying shit that I wish I didn't hav to deal with \n",
    "import jax.experimental.ode as jax  # Jax odeint \n",
    "import scipy.integrate as sci   # Scipy odeint \n",
    "import pandas as pd             # Becuase I want to \n",
    "from time import process_time   # For timing the different ode implementations"
   ]
  },
  {
   "cell_type": "code",
   "execution_count": 5,
   "metadata": {},
   "outputs": [],
   "source": [
    "parameters = np.zeros(6)            # Empty array to hold the parameters of the prodcution function \n",
    "parameters[0] = 7.044873503263437   # Mean of the sinusoidal production \n",
    "parameters[1] = 0.18                # Amplitude of the sinusoidal production \n",
    "parameters[2] = 11.0                # Period of the sinusoidal production \n",
    "parameters[3] = 1.25                # Phase of the sinusoidal production \n",
    "parameters[4] = 120.05769867244142  # Height of the super-gaussian \n",
    "parameters[5] = 12.0                # Width of the super-gaussian "
   ]
  },
  {
   "cell_type": "code",
   "execution_count": 6,
   "metadata": {},
   "outputs": [],
   "source": [
    "projection = np.zeros(11)   # An array to hold the projection of the production function \n",
    "projection[0] = 0.7         # Proportion projection into the stratosphere       \n",
    "projection[1] = 0.3         # Proportion projection into the troposphere"
   ]
  },
  {
   "cell_type": "code",
   "execution_count": 7,
   "metadata": {},
   "outputs": [],
   "source": [
    "def production(t):    \n",
    "    \"\"\"\n",
    "    The production function defined as the sum of sinusoidal and super-gaussian terms \n",
    "    \"\"\"\n",
    "    return parameters[0] * (1 + parameters[1] * \\\n",
    "        jnp.sin(2 * jnp.pi / parameters[2] * t + parameters[3])) + \\\n",
    "        parameters[4] * jnp.exp(- (parameters[5] * (t - 775)) ** 16)"
   ]
  },
  {
   "cell_type": "code",
   "execution_count": 8,
   "metadata": {},
   "outputs": [
    {
     "name": "stderr",
     "output_type": "stream",
     "text": [
      "WARNING:absl:No GPU/TPU found, falling back to CPU. (Set TF_CPP_MIN_LOG_LEVEL=0 and rerun for more info.)\n"
     ]
    }
   ],
   "source": [
    "cbm = ticktack.load_presaved_model(\"Guttler14\", production_rate_units=\"atoms/cm^2/s\")\n",
    "cbm.compile()   # Constructing the transfer operator "
   ]
  },
  {
   "cell_type": "code",
   "execution_count": 9,
   "metadata": {},
   "outputs": [],
   "source": [
    "u0 = np.array([135.76261605786132, 709.7591911307035,\n",
    "    1191.489526709938, 3.97158546945107, 45158.65854589925,\n",
    "    155.54703228960028, 634.290736403387, 423.5954241095565,\n",
    "    1808.3343542055652, 665.933052175064, 7348.751626918585])"
   ]
  },
  {
   "cell_type": "code",
   "execution_count": 10,
   "metadata": {},
   "outputs": [],
   "source": [
    "def dydx(y, t):\n",
    "    \"\"\"\n",
    "    The gradient of the carbon box model.\n",
    "    \"\"\"\n",
    "    return cbm._matrix @ y + production(t) * projection"
   ]
  },
  {
   "cell_type": "markdown",
   "metadata": {},
   "source": [
    "So the plan is to profile all of the ode solvers using a loop through the different namespaces that provide the ode implementations. Basically, ode_namespace = [sci, jax, ode]. I can then use a pandas data frame to store the results in what is basically a fancy dictionary."
   ]
  },
  {
   "cell_type": "code",
   "execution_count": 108,
   "metadata": {},
   "outputs": [],
   "source": [
    "odes = {ode: np.NaN, sci: np.NaN, jax: np.NaN}  # For the storage of the profiles \n",
    "\n",
    "for namespace in odes:      # Iterating through the namespaces that provide the odeint function \n",
    "    timer = process_time()  # starting a timer \n",
    "    C14 = namespace.odeint(dydx, u0, np.arange(760.0, 790.0, 1))    # runner the model \n",
    "    timer = process_time() - timer  # Stopping the timer \n",
    "    odes[namespace] = C14[:, 2] # Storing the result\n"
   ]
  },
  {
   "cell_type": "code",
   "execution_count": null,
   "metadata": {},
   "outputs": [],
   "source": [
    "import matplotlib.pyplot as plt # Plotting library for visualisations\n",
    "\n",
    "plt.plot(np.arange(760.0, 790.0, 1), troposphere) # Plotting the entire data \n",
    "plt.show()                      # Showing the plot "
   ]
  }
 ],
 "metadata": {
  "interpreter": {
   "hash": "0c4d728f571dc14aecd61e9c5a335d0795680d56501238c7b0344daa2ef0c43f"
  },
  "kernelspec": {
   "display_name": "Python 3.8.12 64-bit ('ticktack': conda)",
   "language": "python",
   "name": "python3"
  },
  "language_info": {
   "codemirror_mode": {
    "name": "ipython",
    "version": 3
   },
   "file_extension": ".py",
   "mimetype": "text/x-python",
   "name": "python",
   "nbconvert_exporter": "python",
   "pygments_lexer": "ipython3",
   "version": "3.8.12"
  },
  "orig_nbformat": 4
 },
 "nbformat": 4,
 "nbformat_minor": 2
}
