{
 "cells": [
  {
   "cell_type": "code",
   "execution_count": 444,
   "metadata": {},
   "outputs": [],
   "source": [
    "import ticktack # For the compilation of the model\n",
    "import ode      # As a method of solving the odes\n",
    "\n",
    "from jax import jacfwd, jacrev          # Forward and reverse mode the autodiff\n",
    "from jax import numpy as np             # Importing the jax numpy \n",
    "import jax.experimental.ode as jax_ode  # Jax odeint \n",
    "\n",
    "import pandas as pd             # Becuase I want to \n",
    "from time import process_time   # For timing the different ode implementations\n",
    "import matplotlib.pyplot as plt # Plotting library for visualisations\n",
    "plt.style.use(\"dark_background\")# Because dark mpde"
   ]
  },
  {
   "cell_type": "code",
   "execution_count": 445,
   "metadata": {},
   "outputs": [],
   "source": [
    "#! Fix scope name shadowing \n",
    "parameters = np.array([ # Empty array to hold the parameters of the prodcution function \n",
    "    7.044873503263437,  # Mean of the sinusoidal production \n",
    "    0.18,               # Amplitude of the sinusoidal production \n",
    "    11.0,               # Period of the sinusoidal production \n",
    "    1.25,               # Phase of the sinusoidal production \n",
    "    120.05769867244142, # Height of the super-gaussian \n",
    "    12.0                # Width of the super-gaussian \n",
    "], dtype=np.float64)"
   ]
  },
  {
   "cell_type": "code",
   "execution_count": 446,
   "metadata": {},
   "outputs": [],
   "source": [
    "projection = np.array([ # An array to hold the projection of the production function \n",
    "    0.7,    # Projection into the stratosphere \n",
    "    0.3,    # Projection into the troposphere \n",
    "    0.0, 0.0, 0.0, 0.0, 0.0, 0.0, 0.0, 0.0, 0.0 \n",
    "], dtype=np.float64)   "
   ]
  },
  {
   "cell_type": "code",
   "execution_count": 447,
   "metadata": {},
   "outputs": [],
   "source": [
    "#! Type hints\n",
    "def production(t, parameters):    \n",
    "    \"\"\"\n",
    "    The production function defined as the sum of sinusoidal and super-gaussian terms \n",
    "    \"\"\"\n",
    "    return parameters[0] * (1 + parameters[1] * \\\n",
    "        np.sin(2 * np.pi / parameters[2] * t + parameters[3])) + \\\n",
    "        parameters[4] * np.exp(- (parameters[5] * (t - 775)) ** 16)"
   ]
  },
  {
   "cell_type": "code",
   "execution_count": 448,
   "metadata": {},
   "outputs": [],
   "source": [
    "cbm = ticktack.load_presaved_model(\"Guttler14\", production_rate_units=\"atoms/cm^2/s\")\n",
    "cbm.compile()   # Constructing the transfer operator "
   ]
  },
  {
   "cell_type": "code",
   "execution_count": 449,
   "metadata": {},
   "outputs": [],
   "source": [
    "u0 = np.array([   # Housing the initial C14 concentr    ations \n",
    "    135.76261605786132, # Initial stratosphere concentration\n",
    "    709.7591911307035,  # Initial troposphere concentration\n",
    "    1191.489526709938,  # Initial surface ocean concentration\n",
    "    3.97158546945107,   # Initial surface biota concentration \n",
    "    45158.65854589925,  # Initial deep ocean concentration\n",
    "    155.54703228960028, # Initial short-lived biota concentration\n",
    "    634.290736403387,   # Initial long-lived biota concentration\n",
    "    423.5954241095565,  # Initial litter concentration\n",
    "    1808.3343542055652, # Initial soil concentration \n",
    "    665.933052175064,   # Initial peat concentration\n",
    "    7348.751626918585   # Initial sedimentary sink concentration \n",
    "], dtype=np.float64)"
   ]
  },
  {
   "cell_type": "code",
   "execution_count": 450,
   "metadata": {},
   "outputs": [],
   "source": [
    "#! Need to improve the doc strings here\n",
    "#? Look into jit compilation \n",
    "def dydx(y, t, p):\n",
    "    \"\"\"\n",
    "    The gradient of the carbon box model.\n",
    "    \"\"\"\n",
    "    return cbm._matrix @ y + production(t, p) * projection"
   ]
  },
  {
   "cell_type": "code",
   "execution_count": 452,
   "metadata": {},
   "outputs": [],
   "source": [
    "def loss_function(odeint, args):\n",
    "    \"\"\"\n",
    "    The bayesian error of the loss function. \n",
    "    \"\"\"\n",
    "    mask = np.array([0, 0, 0, 1, 1, 1, 1, 1, 1, 0, 0, 0])   # Months of the year to select \n",
    "    mask = np.hstack((mask for i in range(30)))             # Mask values for the run period (years)\n",
    "\n",
    "    simulation = odeint(*args)[:, 2]    # Running the simulation \n",
    "\n",
    "    simulation = np.where(mask, x=simulation, y=np.zeros(30 * 12))  # Selecting intersting values\n",
    "    simulation = np.take(simulation, np.nonzero(simulation)[0])     # Getting the nonzero elements\n",
    "    simulation = np.reshape(simulation, (30, 6))                    # Shaping for the correct means \n",
    "    simulation = np.mean(simulation, axis=1)[0:28]                  # Yearly mean via axis \n",
    "    simulation = 1000 * (simulation - u0[2]) / u0[2]                # Deviations from initial \n",
    "    \n",
    "    miyake = pd.read_csv(\"Miyake12.csv\", sep=\" \")               # Importing the miyake data\n",
    "    DC14 = np.array([*miyake.d14c], dtype=np.float64)           # JAX array for manipulation\n",
    "    SDC14 = np.array([*miyake.sig_d14c], dtype=np.float64)      # JAx array for manipulation \n",
    "    simulation += np.mean(DC14[1:4])                            # Adding the offset \n",
    "    return - 0.5 * np.sum(((DC14 - simulation) / SDC14) ** 2)   # Log likelhood as chi-squared "
   ]
  },
  {
   "cell_type": "code",
   "execution_count": 453,
   "metadata": {},
   "outputs": [],
   "source": [
    "def profile(func, args=[]) -> tuple:\n",
    "    \"\"\"\n",
    "    Profiles the function, func, with the arguments, args, returning the speed and the variance of the speed.\n",
    "    \"\"\"\n",
    "    time_sample = np.zeros(10)  # Storing the trials\n",
    "    \n",
    "    for i in range(10):\n",
    "        timer = process_time()                          # starting a timer \n",
    "        func(*args).block_until_ready()                                     # Running the model \n",
    "        time_sample = time_sample.at[i].set(process_time() - timer)   # Stopping the timer and storing \n",
    "\n",
    "    return np.mean(time_sample), np.var(time_sample)"
   ]
  },
  {
   "cell_type": "code",
   "execution_count": 543,
   "metadata": {},
   "outputs": [],
   "source": [
    "results = {    # Storing the data using a dictionary \n",
    "    \"function\" : [\"odeint\", \"gradient\", \"hessian\"], # The function that was getting profiled \n",
    "    \"ode\" : [],                                     # The mean run time of 10 trials \n",
    "    \"jax\" : []                                      # The variance of the run time of 10 trials\n",
    "}\n",
    "\n",
    "namespaces = {ode : \"ode\", jax_ode : \"jax\"} # For translation from string to module \n",
    "\n",
    "for namespace in namespaces:# Iterating through the namespaces of odeint function \n",
    "    mean, variance = profile(\n",
    "        namespace.odeint, \n",
    "        [dydx, u0, np.arange(760.0, 790.0, 1/12), parameters]\n",
    "    )   # Profiling the speed\n",
    "    results[namespaces[namespace]].append(mean)\n",
    "\n",
    "    loss = lambda p: loss_function(\n",
    "        namespace.odeint, \n",
    "        [dydx, u0, np.arange(760.0, 790.0, 1/12), p]\n",
    "    )\n",
    "\n",
    "    #* The gradients exist below \n",
    "    def gradient(p): \n",
    "        if namespaces[namespace] == \"ode\":\n",
    "            return jacfwd(loss)(p)         # Calculating the gradient \n",
    "        else:\n",
    "            return jacrev(loss)(p)\n",
    "\n",
    "    mean, variance = profile(gradient, [parameters])\n",
    "    results[namespaces[namespace]].append(mean)\n",
    "\n",
    "    def hessians(p): \n",
    "        if namespaces[namespace] == \"ode\":\n",
    "            return jacfwd(jacfwd(loss))(p) # Calculating the hessian \n",
    "        else:\n",
    "            return jacrev(jacrev(loss))(p)\n",
    "\n",
    "    mean, variance = profile(hessians, [parameters])\n",
    "    results[namespaces[namespace]].append(mean)"
   ]
  },
  {
   "cell_type": "code",
   "execution_count": 544,
   "metadata": {},
   "outputs": [],
   "source": [
    "results = pd.DataFrame(results, index=results[\"function\"])  # Switching to a pandas data frame\n",
    "results.ode = 1000 * np.array([*results.ode])   # Moving everything into millisceonds\n",
    "results.jax = 1000 * np.array([*results.jax])   # Moving into the domain of milliseconds"
   ]
  },
  {
   "cell_type": "code",
   "execution_count": 556,
   "metadata": {},
   "outputs": [
    {
     "data": {
      "text/plain": [
       "Text(0.5, 0, 'Function')"
      ]
     },
     "execution_count": 556,
     "metadata": {},
     "output_type": "execute_result"
    },
    {
     "data": {
      "image/png": "[encoded data removed]",
      "text/plain": [
       "<Figure size 1152x576 with 1 Axes>"
      ]
     },
     "metadata": {},
     "output_type": "display_data"
    }
   ],
   "source": [
    "visual = results.plot.bar()  # Showing the plot \n",
    "visual.set_yscale(\"log\")\n",
    "visual.set_title(\"Comparison of ODE Implementations\")\n",
    "visual.set_ylabel(\"Time (ms)\")\n",
    "visual.set_xlabel(\"Function\")"
   ]
  }
 ],
 "metadata": {
  "interpreter": {
   "hash": "0c4d728f571dc14aecd61e9c5a335d0795680d56501238c7b0344daa2ef0c43f"
  },
  "kernelspec": {
   "display_name": "Python 3.8.12 64-bit ('ticktack': conda)",
   "language": "python",
   "name": "python3"
  },
  "language_info": {
   "codemirror_mode": {
    "name": "ipython",
    "version": 3
   },
   "file_extension": ".py",
   "mimetype": "text/x-python",
   "name": "python",
   "nbconvert_exporter": "python",
   "pygments_lexer": "ipython3",
   "version": "3.8.12"
  },
  "orig_nbformat": 4
 },
 "nbformat": 4,
 "nbformat_minor": 2
}
