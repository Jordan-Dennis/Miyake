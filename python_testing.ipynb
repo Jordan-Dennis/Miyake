{
 "cells": [
  {
   "cell_type": "code",
   "execution_count": 1,
   "metadata": {},
   "outputs": [],
   "source": [
    "import ticktack                 # For the compilation of the model\n",
    "import ode                      # As a method of solving the odes\n",
    "import numpy as np              # For the basic functions that need to be written\n",
    "from jax import numpy as jnp    # annoying shit that I wish I didn't hav to deal with \n",
    "import jax.experimental.ode as jax  # Jax odeint \n",
    "import pandas as pd             # Becuase I want to \n",
    "from time import process_time   # For timing the different ode implementations"
   ]
  },
  {
   "cell_type": "code",
   "execution_count": 2,
   "metadata": {},
   "outputs": [],
   "source": [
    "parameters = np.zeros(6)            # Empty array to hold the parameters of the prodcution function \n",
    "parameters[0] = 7.044873503263437   # Mean of the sinusoidal production \n",
    "parameters[1] = 0.18                # Amplitude of the sinusoidal production \n",
    "parameters[2] = 11.0                # Period of the sinusoidal production \n",
    "parameters[3] = 1.25                # Phase of the sinusoidal production \n",
    "parameters[4] = 120.05769867244142  # Height of the super-gaussian \n",
    "parameters[5] = 12.0                # Width of the super-gaussian "
   ]
  },
  {
   "cell_type": "code",
   "execution_count": 3,
   "metadata": {},
   "outputs": [],
   "source": [
    "projection = np.zeros(11)   # An array to hold the projection of the production function \n",
    "projection[0] = 0.7         # Proportion projection into the stratosphere       \n",
    "projection[1] = 0.3         # Proportion projection into the troposphere"
   ]
  },
  {
   "cell_type": "code",
   "execution_count": 4,
   "metadata": {},
   "outputs": [],
   "source": [
    "def production(t):    \n",
    "    \"\"\"\n",
    "    The production function defined as the sum of sinusoidal and super-gaussian terms \n",
    "    \"\"\"\n",
    "    return parameters[0] * (1 + parameters[1] * \\\n",
    "        jnp.sin(2 * jnp.pi / parameters[2] * t + parameters[3])) + \\\n",
    "        parameters[4] * jnp.exp(- (parameters[5] * (t - 775)) ** 16)"
   ]
  },
  {
   "cell_type": "code",
   "execution_count": 5,
   "metadata": {},
   "outputs": [
    {
     "name": "stderr",
     "output_type": "stream",
     "text": [
      "WARNING:absl:No GPU/TPU found, falling back to CPU. (Set TF_CPP_MIN_LOG_LEVEL=0 and rerun for more info.)\n"
     ]
    }
   ],
   "source": [
    "cbm = ticktack.load_presaved_model(\"Guttler14\", production_rate_units=\"atoms/cm^2/s\")\n",
    "cbm.compile()   # Constructing the transfer operator "
   ]
  },
  {
   "cell_type": "code",
   "execution_count": 6,
   "metadata": {},
   "outputs": [],
   "source": [
    "u0 = np.array([135.76261605786132, 709.7591911307035,\n",
    "    1191.489526709938, 3.97158546945107, 45158.65854589925,\n",
    "    155.54703228960028, 634.290736403387, 423.5954241095565,\n",
    "    1808.3343542055652, 665.933052175064, 7348.751626918585])"
   ]
  },
  {
   "cell_type": "code",
   "execution_count": 7,
   "metadata": {},
   "outputs": [],
   "source": [
    "def dydx(y, t):\n",
    "    \"\"\"\n",
    "    The gradient of the carbon box model.\n",
    "    \"\"\"\n",
    "    return cbm._matrix @ y + production(t) * projection"
   ]
  },
  {
   "cell_type": "markdown",
   "metadata": {},
   "source": [
    "This is going very very well. I need to go plumbing again though. this means that I can look through the depths of the ode implementation and destroy the extra return improving my ability to do things\n",
    "\n",
    "The code below is quite rough. I need to remove the global variable using returns from the profile function as a tuple."
   ]
  },
  {
   "cell_type": "code",
   "execution_count": 46,
   "metadata": {},
   "outputs": [
    {
     "ename": "SyntaxError",
     "evalue": "unmatched ')' (<ipython-input-46-c1c4cb502e76>, line 26)",
     "output_type": "error",
     "traceback": [
      "\u001b[0;36m  File \u001b[0;32m\"<ipython-input-46-c1c4cb502e76>\"\u001b[0;36m, line \u001b[0;32m26\u001b[0m\n\u001b[0;31m    results[\"time\"].append(mean))        # Storing the mean run time\u001b[0m\n\u001b[0m                                ^\u001b[0m\n\u001b[0;31mSyntaxError\u001b[0m\u001b[0;31m:\u001b[0m unmatched ')'\n"
     ]
    }
   ],
   "source": [
    "results = {    # Storing the data using a dictionary \n",
    "    \"solver\" : [],              # The library containing the solver \n",
    "    \"function\" : [],            # The function that was getting profiled \n",
    "    \"time\" : [],                # The mean run time of 10 trials \n",
    "    \"time variance\" : []       # The variance of the run time of 10 trials\n",
    "}\n",
    "\n",
    "def profile(func, args=[]):\n",
    "    time_sample = np.zeros(10)  # Storing the trials\n",
    "    \n",
    "    for i in range(10):\n",
    "        timer = process_time()                  # starting a timer \n",
    "        func(*args)                             # Running the model \n",
    "        time_sample[i] = process_time() - timer # Stopping the timer and storing \n",
    "\n",
    "    return np.mean(time_sample), np.var(time_sample)\n",
    "\n",
    "namespaces = {ode : \"ode\", jax : \"jax\"} # For translation from string to module \n",
    "\n",
    "for namespace in namespaces:# Iterating through the namespaces of odeint function \n",
    "    mean, variance = profile(\n",
    "        namespace.odeint, [dydx, u0, np.arange(760.0, 790.0, 1)])   # Profiling the speed\n",
    "\n",
    "    results[\"function\"].append(\"odeint\") # The function that was profiled \n",
    "    results[\"solver\"].append(namespaces[namespace]) # Stroing implementation \n",
    "    results[\"time\"].append(mean)        # Storing the mean run time \n",
    "    results[\"time variance\"].append(variance)# Storing the variance of the mean\n",
    "\n",
    "    # profile()\n"
   ]
  },
  {
   "cell_type": "code",
   "execution_count": 36,
   "metadata": {},
   "outputs": [
    {
     "data": {
      "text/html": [
       "<div>\n",
       "<style scoped>\n",
       "    .dataframe tbody tr th:only-of-type {\n",
       "        vertical-align: middle;\n",
       "    }\n",
       "\n",
       "    .dataframe tbody tr th {\n",
       "        vertical-align: top;\n",
       "    }\n",
       "\n",
       "    .dataframe thead th {\n",
       "        text-align: right;\n",
       "    }\n",
       "</style>\n",
       "<table border=\"1\" class=\"dataframe\">\n",
       "  <thead>\n",
       "    <tr style=\"text-align: right;\">\n",
       "      <th></th>\n",
       "      <th>solver</th>\n",
       "      <th>function</th>\n",
       "      <th>time</th>\n",
       "      <th>time variance</th>\n",
       "    </tr>\n",
       "  </thead>\n",
       "  <tbody>\n",
       "    <tr>\n",
       "      <th>0</th>\n",
       "      <td>ode</td>\n",
       "      <td>odeint</td>\n",
       "      <td>0.001006</td>\n",
       "      <td>1.067806e-07</td>\n",
       "    </tr>\n",
       "    <tr>\n",
       "      <th>1</th>\n",
       "      <td>jax</td>\n",
       "      <td>odeint</td>\n",
       "      <td>0.000425</td>\n",
       "      <td>6.939772e-08</td>\n",
       "    </tr>\n",
       "  </tbody>\n",
       "</table>\n",
       "</div>"
      ],
      "text/plain": [
       "  solver function      time  time variance\n",
       "0    ode   odeint  0.001006   1.067806e-07\n",
       "1    jax   odeint  0.000425   6.939772e-08"
      ]
     },
     "execution_count": 36,
     "metadata": {},
     "output_type": "execute_result"
    }
   ],
   "source": [
    "results = pd.DataFrame(results) # Switching to a pandas data frame\n",
    "results"
   ]
  },
  {
   "cell_type": "code",
   "execution_count": 45,
   "metadata": {},
   "outputs": [
    {
     "data": {
      "text/plain": [
       "(DeviceArray(1.2246468e-16, dtype=float64, weak_type=True),\n",
       " DeviceArray(-1., dtype=float64, weak_type=True))"
      ]
     },
     "execution_count": 45,
     "metadata": {},
     "output_type": "execute_result"
    }
   ],
   "source": [
    "from jax import jvp, grad\n",
    "import jax.numpy as np\n",
    "\n",
    "jvp(np.sin, (np.pi,), (1.0,))\n",
    "# cos = grad(np.sin)\n",
    "# cos(3.14159)"
   ]
  },
  {
   "cell_type": "code",
   "execution_count": null,
   "metadata": {},
   "outputs": [],
   "source": [
    "import matplotlib.pyplot as plt # Plotting library for visualisations\n",
    "plt.style.use(\"dark_background\")\n",
    "\n",
    "time_space = np.arange(760.0, 790.0)    # times of the sampling \n",
    "\n",
    "jax_solution = jax.odeint(dydx, u0, np.arange(760.0, 790.0))[:, 2]\n",
    "ode_solution = ode.odeint(dydx, u0, np.arange(760.0, 790.0))[0][:, 2]\n",
    "\n",
    "#! I'm not sure that this is the best way to go about it\n",
    "# jax_solution = (jax_solution - np.median(jax_solution)) / jax_solution\n",
    "# ode_solution = (ode_solution - np.median(ode_solution)) / ode_solution\n",
    "\n",
    "plt.plot(time_space, jax_solution, label=\"jax\") # Plotting the entire data \n",
    "plt.plot(time_space, ode_solution, label=\"ode\")\n",
    "plt.legend()\n",
    "plt.show()                      # Showing the plot "
   ]
  }
 ],
 "metadata": {
  "interpreter": {
   "hash": "0c4d728f571dc14aecd61e9c5a335d0795680d56501238c7b0344daa2ef0c43f"
  },
  "kernelspec": {
   "display_name": "Python 3.8.12 64-bit ('ticktack': conda)",
   "language": "python",
   "name": "python3"
  },
  "language_info": {
   "codemirror_mode": {
    "name": "ipython",
    "version": 3
   },
   "file_extension": ".py",
   "mimetype": "text/x-python",
   "name": "python",
   "nbconvert_exporter": "python",
   "pygments_lexer": "ipython3",
   "version": "3.8.12"
  },
  "orig_nbformat": 4
 },
 "nbformat": 4,
 "nbformat_minor": 2
}
