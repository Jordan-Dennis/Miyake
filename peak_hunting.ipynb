{
 "cells": [
  {
   "cell_type": "code",
   "execution_count": 374,
   "metadata": {},
   "outputs": [],
   "source": [
    "import ticktack\n",
    "import pandas\n",
    "from jax.numpy import arange, sin, pi, array, mean, greater, less, equal, where\n",
    "from scipy.optimize import minimize\n",
    "import matplotlib.pyplot as plt"
   ]
  },
  {
   "cell_type": "markdown",
   "metadata": {},
   "source": [
    "The basic question is what is the probability of detecting consecutive events based on the distribution of the data. The first step then will be to determine the distribution of the data. This will be done be resampling the points after the event has been removed."
   ]
  },
  {
   "cell_type": "code",
   "execution_count": 404,
   "metadata": {},
   "outputs": [],
   "source": [
    "def sine(t, p):\n",
    "    \"\"\"\n",
    "    Generates a simple sinusoidal production function. p is an array containing the amplitude of the production sinusoid and the phase of the sinusoid.\n",
    "    \"\"\"\n",
    "    return 1.88 + p[0] * 1.88 * sin(2 * pi / 11 * t + p[1])\n",
    "\n",
    "def rect(t, p):\n",
    "    \"\"\"\n",
    "    Generates a rectangular miyake event. p is an array that contains the start and end times as well as the height of the production function \n",
    "    \"\"\"\n",
    "    condition = equal(greater(t, p[0]), less(t, p[1]))\n",
    "    return where(condition, p[3], 0.0)\n",
    "\n",
    "def prod(t, *args):\n",
    "    amplitude, phase, start, end, height = args\n",
    "    sine_params = array([amplitude, phase])\n",
    "    rect_params = array([start, end, height])\n",
    "    return sine(t, sine_params) + rect(t, rect_params)"
   ]
  },
  {
   "cell_type": "code",
   "execution_count": 405,
   "metadata": {},
   "outputs": [],
   "source": [
    "annual_samples = 48                  # 4 samples per month\n",
    "sample_times = arange(-360.0, 790.0)  # Times at which to collect samples\n",
    "growth_bools = array([0.0, 0.0, 0.0, 1.0, 1.0, 1.0, 1.0, 1.0, 1.0, 0.0, 0.0, 0.0])\n",
    "params = (1.0, 1.25, 774, 775, 20.0)"
   ]
  },
  {
   "cell_type": "code",
   "execution_count": 406,
   "metadata": {},
   "outputs": [],
   "source": [
    "cbm = ticktack.load_presaved_model(\"Guttler14\", production_rate_units=\"atoms/cm^2/s\")\n",
    "cbm.compile()\n",
    "model, steady_state = cbm.run(sample_times, annual_samples, \n",
    "    production=prod, steady_state_production=1.88, args=params)"
   ]
  },
  {
   "cell_type": "code",
   "execution_count": 407,
   "metadata": {},
   "outputs": [],
   "source": [
    "troposphere = cbm.bin_data( # Bins the data into annual values\n",
    "    model[:, 2],   # Selecting only the years that I have data for \n",
    "    annual_samples,                         # Number of samples per year \n",
    "    sample_times,                           # Times to return the binned values for \n",
    "    growth_bools                            # Boolean mask of growth seasons\n",
    ")"
   ]
  },
  {
   "cell_type": "code",
   "execution_count": null,
   "metadata": {},
   "outputs": [],
   "source": [
    "miyake = pandas.read_csv(\"Miyake12.csv\", sep=\" \")\n",
    "\n",
    "troposphere = 1000 * (troposphere - steady_state[2]) / steady_state[2]\n",
    "troposphere = troposphere + mean(array([*miyake[\"d14c\"][0:4]]))\n",
    "\n",
    "plt.figure(\"Model\")\n",
    "plt.plot(sample_times[-31:-1], troposphere[-31:-1])\n",
    "plt.scatter(miyake[\"year\"], miyake[\"d14c\"])"
   ]
  },
  {
   "cell_type": "code",
   "execution_count": null,
   "metadata": {},
   "outputs": [],
   "source": [
    "times = arange(760.0, 790.0, 0.01)  # The times that are sampled\n",
    "production = prod(times, *params)   # Production that is sampled \n",
    "\n",
    "plt.plot(times, production)         # A visualisation."
   ]
  },
  {
   "cell_type": "code",
   "execution_count": null,
   "metadata": {},
   "outputs": [],
   "source": [
    "def log_likelhood():\n",
    "    return - 0.5 * sum(((DC14 - simulation) / SDC14) ** 2)   # Log likelhood as chi-squared"
   ]
  },
  {
   "cell_type": "code",
   "execution_count": 414,
   "metadata": {},
   "outputs": [],
   "source": [
    "import emcee"
   ]
  },
  {
   "cell_type": "code",
   "execution_count": null,
   "metadata": {},
   "outputs": [],
   "source": [
    "emcee.EnsembleSampler(10, 5, )"
   ]
  },
  {
   "cell_type": "markdown",
   "metadata": {},
   "source": [
    "So I guess that I need to move a whole lot of this into the loss function as I had done in the previous implementatioin. This is ok. I'm really just rehashing what I have already done for the profiling but this time I am relying on ticktack more. Fuck I hate ticktack."
   ]
  }
 ],
 "metadata": {
  "interpreter": {
   "hash": "0c4d728f571dc14aecd61e9c5a335d0795680d56501238c7b0344daa2ef0c43f"
  },
  "kernelspec": {
   "display_name": "Python 3.8.12 64-bit ('ticktack': conda)",
   "language": "python",
   "name": "python3"
  },
  "language_info": {
   "codemirror_mode": {
    "name": "ipython",
    "version": 3
   },
   "file_extension": ".py",
   "mimetype": "text/x-python",
   "name": "python",
   "nbconvert_exporter": "python",
   "pygments_lexer": "ipython3",
   "version": "3.8.12"
  },
  "orig_nbformat": 4
 },
 "nbformat": 4,
 "nbformat_minor": 2
}
