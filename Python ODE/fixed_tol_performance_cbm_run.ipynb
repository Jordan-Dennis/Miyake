{
 "cells": [
  {
   "cell_type": "code",
   "execution_count": 1,
   "metadata": {},
   "outputs": [
    {
     "name": "stderr",
     "output_type": "stream",
     "text": [
      "/home/jordan/anaconda3/envs/beyondticktack/lib/python3.9/site-packages/ticktacktoe-0.1.3.2-py3.9.egg/ticktacktoe/fitting.py:359: SyntaxWarning: \"is\" with a literal. Did you mean \"==\"?\n",
      "  if self.hemisphere is 'north':\n"
     ]
    }
   ],
   "source": [
    "import ticktacktoe\n",
    "import ticktack\n",
    "from ticktacktoe.fitting import SingleFitter as Fit\n",
    "from jax.numpy import arange, array\n",
    "from time import process_time\n",
    "from plotnine import ggplot, geom_col, aes, scale_y_log10\n",
    "from pandas import DataFrame"
   ]
  },
  {
   "cell_type": "code",
   "execution_count": 2,
   "metadata": {},
   "outputs": [],
   "source": [
    "MODULES = {\n",
    "    \"ticktack\": {\n",
    "        \"pointer\": ticktack,\n",
    "        \"tolerance\": 1e-15\n",
    "    }, \n",
    "    \"ticktacktoe\": {\n",
    "        \"pointer\": ticktacktoe,\n",
    "        \"tolerance\": 1e-5\n",
    "    }\n",
    "}"
   ]
  },
  {
   "cell_type": "code",
   "execution_count": 3,
   "metadata": {},
   "outputs": [],
   "source": [
    "module_times = {\"module\": [], \"time\": [], \"run\": []}"
   ]
  },
  {
   "cell_type": "code",
   "execution_count": 4,
   "metadata": {},
   "outputs": [
    {
     "name": "stderr",
     "output_type": "stream",
     "text": [
      "INFO[2022-01-16 13:38:22,914]: Unable to initialize backend 'tpu_driver': Not found: Unable to find driver in registry given worker: \n",
      "INFO[2022-01-16 13:38:22,915]: Unable to initialize backend 'gpu': Not found: Could not find registered platform with name: \"cuda\". Available platform names are: Interpreter Host\n",
      "INFO[2022-01-16 13:38:22,916]: Unable to initialize backend 'tpu': Invalid argument: TpuPlatform is not available.\n",
      "WARNING[2022-01-16 13:38:22,917]: No GPU/TPU found, falling back to CPU. (Set TF_CPP_MIN_LOG_LEVEL=0 and rerun for more info.)\n"
     ]
    }
   ],
   "source": [
    "for module in MODULES:\n",
    "    carbon_box_model = MODULES[module][\"pointer\"].load_presaved_model(\n",
    "        \"Guttler14\", production_rate_units=\"atoms/cm^2/s\")\n",
    "    carbon_box_model.compile()\n",
    "\n",
    "    production_function = Fit(carbon_box_model, \"Guttler14\").simple_sinusoid\n",
    "\n",
    "    for run in range(10):\n",
    "        timer = process_time()\n",
    "        carbon_box_model.run(\n",
    "            time_out=arange(0, 800), \n",
    "            oversample=108, \n",
    "            production=production_function,\n",
    "            args=array([774.86, 0.25, 0.8, 6.44]),\n",
    "            steady_state_production=1.76,\n",
    "            rtol=MODULES[module][\"tolerance\"],\n",
    "            atol=MODULES[module][\"tolerance\"]\n",
    "        )\n",
    "        timer = process_time() - timer\n",
    "\n",
    "        module_times[\"module\"].append(module)\n",
    "        module_times[\"time\"].append(timer)\n",
    "        module_times[\"run\"].append(run)"
   ]
  },
  {
   "cell_type": "code",
   "execution_count": 5,
   "metadata": {},
   "outputs": [],
   "source": [
    "module_times = DataFrame(module_times)"
   ]
  },
  {
   "cell_type": "code",
   "execution_count": 6,
   "metadata": {},
   "outputs": [
    {
     "data": {
      "image/png": "[encoded data removed]",
      "text/plain": [
       "<Figure size 640x480 with 1 Axes>"
      ]
     },
     "metadata": {},
     "output_type": "display_data"
    },
    {
     "data": {
      "text/plain": [
       "<ggplot: (8769505348572)>"
      ]
     },
     "execution_count": 6,
     "metadata": {},
     "output_type": "execute_result"
    }
   ],
   "source": [
    "(ggplot(module_times, aes(x=\"run\", y=\"time\", fill=\"module\"))\n",
    "    + geom_col(position=\"dodge\"))"
   ]
  }
 ],
 "metadata": {
  "interpreter": {
   "hash": "1d489e25830f53b6f889a54709355290897709fcf1a8ece815ede8be939a3fac"
  },
  "kernelspec": {
   "display_name": "Python 3.9.7 64-bit ('beyondticktack': conda)",
   "language": "python",
   "name": "python3"
  },
  "language_info": {
   "codemirror_mode": {
    "name": "ipython",
    "version": 3
   },
   "file_extension": ".py",
   "mimetype": "text/x-python",
   "name": "python",
   "nbconvert_exporter": "python",
   "pygments_lexer": "ipython3",
   "version": "3.9.7"
  },
  "orig_nbformat": 4
 },
 "nbformat": 4,
 "nbformat_minor": 2
}
