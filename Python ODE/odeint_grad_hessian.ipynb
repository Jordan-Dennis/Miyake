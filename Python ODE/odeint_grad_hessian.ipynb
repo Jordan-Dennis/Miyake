{
 "cells": [
  {
   "cell_type": "code",
   "execution_count": null,
   "metadata": {},
   "outputs": [],
   "source": [
    "from jax.numpy import float64, zeros, mean, var \n",
    "from jax.experimental.ode import odeint as DP5\n",
    "from ode import odeint as BS3\n",
    "from pandas import read_csv\n",
    "from time import process_time\n",
    "from os import getcwd\n",
    "from ticktack import load_presaved_model\n",
    "from ticktack.fitting import SingleFitter"
   ]
  },
  {
   "cell_type": "code",
   "execution_count": null,
   "metadata": {},
   "outputs": [],
   "source": [
    "carbon_box_model = load_presaved_model(\"Guttler14\", production_rate_units=\"atoms/cm^2/s\")\n",
    "fitting_object = SingleFitter(carbon_box_model, \"Guttler14\")"
   ]
  },
  {
   "cell_type": "code",
   "execution_count": null,
   "metadata": {},
   "outputs": [],
   "source": [
    "def odeint_linear(derivative, y0, timesteps, *args, **kwargs):\n",
    "    step_size = timesteps[1] - timesteps[0]\n",
    "\n",
    "    def step(y, time_value, step_size=None, derivative=None):\n",
    "        next_time_value = y + derivative(y, time_value) * step_size\n",
    "        return next_time_value, next_time_value\n",
    "\n",
    "    step = partial(step, derivative=derivative, step_size=step_size)\n",
    "    step = jit(step)\n",
    "\n",
    "    _, y_values = scan(f=step, init=y0, xs=timesteps) \n",
    "    return y_values"
   ]
  },
  {
   "cell_type": "code",
   "execution_count": null,
   "metadata": {},
   "outputs": [],
   "source": [
    "def profile(func, args=[]) -> tuple:\n",
    "    \"\"\"\n",
    "    Profiles the function, func, with the arguments, args, returning the speed and the variance of the speed.\n",
    "    \"\"\"\n",
    "    time_sample = zeros(10)  # Storing the trials\n",
    "    \n",
    "    for i in range(10):\n",
    "        timer = process_time()                          # starting a timer \n",
    "        func(*args).block_until_ready()                                     # Running the model \n",
    "        time_sample = time_sample.at[i].set(process_time() - timer)   # Stopping the timer and storing \n",
    "\n",
    "    return mean(time_sample), var(time_sample)"
   ]
  },
  {
   "cell_type": "code",
   "execution_count": null,
   "metadata": {},
   "outputs": [],
   "source": [
    "results = {\n",
    "    \"module\": [],\n",
    "    \"time\": [],\n",
    "    \"type\": []\n",
    "}\n",
    "\n",
    "odeints = {BS3 : \"ode\", DP5 : \"jax\", odeint_linear: \"linear\"} # For translation from string to module \n",
    "\n",
    "dataset = read_csv(f\"{getcwd()}/datasets/775AD/NH/Miyake12_Cedar.csv\") # Importing the miyake data\n",
    "\n",
    "for namespace in odeints:# Iterating through the namespaces of odeint function \n",
    "    mean, variance = profile(carbon_box_model.run, [time_out, 100, \\\n",
    "                production, odeint[solver], y_initial, parameters, \\\n",
    "                PRODUCTION_RATE * UNIT_FACTOR]) )  # Profiling the speed\n",
    "    results[\"module\"].append(odeints[namespace])\n",
    "    results[\"time\"].append(float(mean) * 1000)\n",
    "    results[\"type\"].append(\"odeint\")\n",
    "\n",
    "    # Single variable function \n",
    "    loss = partial(loss_function, namespace.odeint, dataset, dydx, u0)\n",
    "\n",
    "    # The gradients exist below \n",
    "    def gradient(p): \n",
    "        if namespaces[namespace] == \"ode\":\n",
    "            return jacfwd(loss)(p)         # Calculating the gradient \n",
    "        else:\n",
    "            return jacrev(loss)(p)\n",
    "\n",
    "    mean, variance = profile(gradient, [parameters])\n",
    "\n",
    "    results[\"module\"].append(namespaces[namespace])\n",
    "    results[\"time\"].append(float(mean) * 1000)\n",
    "    results[\"type\"].append(\"gradient\")\n",
    "\n",
    "    def hessians(p): \n",
    "        if namespaces[namespace] == \"ode\":\n",
    "            return jacfwd(jacfwd(loss))(p) # Calculating the hessian \n",
    "        else:\n",
    "            return jacrev(jacrev(loss))(p)\n",
    "\n",
    "    mean, variance = profile(hessians, [parameters])\n",
    "\n",
    "    results[\"module\"].append(namespaces[namespace])\n",
    "    results[\"time\"].append(float(mean) * 1000)\n",
    "    results[\"type\"].append(\"hessian\")"
   ]
  }
 ],
 "metadata": {
  "interpreter": {
   "hash": "1d489e25830f53b6f889a54709355290897709fcf1a8ece815ede8be939a3fac"
  },
  "kernelspec": {
   "display_name": "Python 3.9.7 64-bit ('beyondticktack': conda)",
   "language": "python",
   "name": "python3"
  },
  "language_info": {
   "name": "python",
   "version": "3.9.7"
  },
  "orig_nbformat": 4
 },
 "nbformat": 4,
 "nbformat_minor": 2
}
