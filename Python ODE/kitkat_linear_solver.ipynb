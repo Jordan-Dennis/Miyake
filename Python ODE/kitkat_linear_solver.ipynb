{
 "cells": [
  {
   "cell_type": "code",
   "execution_count": 58,
   "metadata": {},
   "outputs": [],
   "source": [
    "from jax.numpy import zeros, arange, exp, sin, array, pi\n",
    "from ticktack import load_presaved_model"
   ]
  },
  {
   "cell_type": "code",
   "execution_count": 59,
   "metadata": {},
   "outputs": [],
   "source": [
    "UNIT_FACTOR = 14.003242 / 6.022 * 5.11 * 31536. / 1.e5\n",
    "PRODUCTION_RATE = 1.76"
   ]
  },
  {
   "cell_type": "markdown",
   "metadata": {},
   "source": [
    "`jax.lax.scan` will let me make the most of the notes."
   ]
  },
  {
   "cell_type": "code",
   "execution_count": 60,
   "metadata": {},
   "outputs": [],
   "source": [
    "def odeint_linear(derivative, y0, timesteps, *args, **kwargs):\n",
    "    step_size = timesteps[1] - timesteps[0]\n",
    "    output = zeros((y0.shape[0], timesteps.shape[0]))\n",
    "    output[:, 0].scan(y0)   #! JAX from here.\n",
    "    # scan will scip the for loop\n",
    "    for j, step in enumerate(timesteps[:-1]):\n",
    "        output.at[:, j+1].set(output[:, j] + step_size * derivative(output[:, j], timesteps[j]))\n",
    "    return output "
   ]
  },
  {
   "cell_type": "code",
   "execution_count": 61,
   "metadata": {},
   "outputs": [],
   "source": [
    "def production(t, *args, steady_state=PRODUCTION_RATE):\n",
    "    start, duration, phase, area = array(list(args)).reshape(-1)\n",
    "\n",
    "    middle = start + duration / 2.\n",
    "    height = area / duration\n",
    "    gaussian = height * exp(- ((t - middle) / (duration / 2)) ** 16.)\n",
    "    sinusoid = 0.18 * steady_state * sin(2 * pi / 11 * t + phase)\n",
    "    production = gaussian + sinusoid + steady_state\n",
    "    \n",
    "    return UNIT_FACTOR * production"
   ]
  },
  {
   "cell_type": "code",
   "execution_count": 62,
   "metadata": {},
   "outputs": [],
   "source": [
    "carbon_box_model = load_presaved_model(\"Guttler14\", production_rate_units=\"atoms/cm^2/s\")\n",
    "carbon_box_model.compile()"
   ]
  },
  {
   "cell_type": "code",
   "execution_count": 63,
   "metadata": {},
   "outputs": [],
   "source": [
    "time_out = arange(-500, 775)\n",
    "oversample = 1008\n",
    "parameters = (774.86, 0.25, 0.8, 6.44)\n",
    "growth_season = array([0, 0, 0, 1, 1, 1, 1, 1, 1, 0, 0, 0])"
   ]
  },
  {
   "cell_type": "code",
   "execution_count": 64,
   "metadata": {},
   "outputs": [],
   "source": [
    "odeint_sample, ode_next_y0 = carbon_box_model.run(time_out, oversample, \\\n",
    "    production, args=parameters, steady_state_production=PRODUCTION_RATE * UNIT_FACTOR)\n",
    "lin_ode_sample, lin_next_y0 = carbon_box_model.run(time_out, oversample, \\\n",
    "    production, args=parameters, steady_state_production=PRODUCTION_RATE * UNIT_FACTOR)"
   ]
  },
  {
   "cell_type": "code",
   "execution_count": 65,
   "metadata": {},
   "outputs": [],
   "source": [
    "import matplotlib.pyplot as plt"
   ]
  },
  {
   "cell_type": "code",
   "execution_count": null,
   "metadata": {},
   "outputs": [],
   "source": [
    "plt.plot(time_out, odeint_sample)\n",
    "plt.plot(time_out, lin_ode_sample)\n",
    "plt.xlim(650, 700)"
   ]
  },
  {
   "cell_type": "code",
   "execution_count": null,
   "metadata": {},
   "outputs": [],
   "source": [
    "time_out = arange(750, 800)\n",
    "oversample = 10"
   ]
  },
  {
   "cell_type": "code",
   "execution_count": null,
   "metadata": {},
   "outputs": [],
   "source": [
    "odeint_sample_1, _ = carbon_box_model.run(time_out, oversample, \\\n",
    "    production, y0=ode_next_y0, args=parameters, \\\n",
    "    steady_state_production=PRODUCTION_RATE * UNIT_FACTOR)\n",
    "\n",
    "lin_ode_sample_1, _ = carbon_box_model.run(time_out, oversample, \\\n",
    "    production, solver=odeint_linear, y0=lin_next_y0, args=parameters, \\\n",
    "    steady_state_production=PRODUCTION_RATE * UNIT_FACTOR)"
   ]
  },
  {
   "cell_type": "code",
   "execution_count": null,
   "metadata": {},
   "outputs": [
    {
     "data": {
      "text/plain": [
       "[<matplotlib.lines.Line2D at 0x7f1b6821d3a0>]"
      ]
     },
     "execution_count": 56,
     "metadata": {},
     "output_type": "execute_result"
    },
    {
     "data": {
      "image/png": "[encoded data removed]",
      "text/plain": [
       "<Figure size 432x288 with 1 Axes>"
      ]
     },
     "metadata": {
      "needs_background": "light"
     },
     "output_type": "display_data"
    }
   ],
   "source": [
    "plt.plot(odeint_sample_1[:, 1])\n",
    "plt.plot(lin_ode_sample_1[:, 1])"
   ]
  },
  {
   "cell_type": "code",
   "execution_count": null,
   "metadata": {},
   "outputs": [],
   "source": []
  }
 ],
 "metadata": {
  "interpreter": {
   "hash": "1d489e25830f53b6f889a54709355290897709fcf1a8ece815ede8be939a3fac"
  },
  "kernelspec": {
   "display_name": "Python 3.9.7 64-bit ('beyondticktack': conda)",
   "language": "python",
   "name": "python3"
  },
  "language_info": {
   "codemirror_mode": {
    "name": "ipython",
    "version": 3
   },
   "file_extension": ".py",
   "mimetype": "text/x-python",
   "name": "python",
   "nbconvert_exporter": "python",
   "pygments_lexer": "ipython3",
   "version": "3.9.0"
  },
  "orig_nbformat": 4
 },
 "nbformat": 4,
 "nbformat_minor": 2
}
