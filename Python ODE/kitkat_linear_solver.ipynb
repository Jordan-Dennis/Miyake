{
 "cells": [
  {
   "cell_type": "code",
   "execution_count": null,
   "metadata": {},
   "outputs": [],
   "source": [
    "from jax.numpy import zeros"
   ]
  },
  {
   "cell_type": "code",
   "execution_count": null,
   "metadata": {},
   "outputs": [],
   "source": [
    "def odeint_linear(y0, derivative, timesteps, parameters=()):\n",
    "    step_size = timesteps[1] - timesteps[0]\n",
    "    output = zeros((y0.shape[0], timesteps.shape[0]))\n",
    "    output[:, 0] = y0\n",
    "    for j, step in enumerate(timesteps[:-1]):\n",
    "        output[:, j+1] = output[:, j] + step_size * \\\n",
    "            derivative(output[:, j], step, *parameters)\n",
    "    return output "
   ]
  },
  {
   "cell_type": "code",
   "execution_count": null,
   "metadata": {},
   "outputs": [],
   "source": []
  }
 ],
 "metadata": {
  "interpreter": {
   "hash": "1d489e25830f53b6f889a54709355290897709fcf1a8ece815ede8be939a3fac"
  },
  "kernelspec": {
   "display_name": "Python 3.9.7 64-bit ('beyondticktack': conda)",
   "language": "python",
   "name": "python3"
  },
  "language_info": {
   "name": "python",
   "version": "3.9.7"
  },
  "orig_nbformat": 4
 },
 "nbformat": 4,
 "nbformat_minor": 2
}
