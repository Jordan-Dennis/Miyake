{
 "cells": [
  {
   "cell_type": "code",
   "execution_count": 3,
   "metadata": {},
   "outputs": [],
   "source": [
    "from jax.numpy import zeros, arange, exp, sin, array, pi\n",
    "from ticktack import load_presaved_model"
   ]
  },
  {
   "cell_type": "code",
   "execution_count": 4,
   "metadata": {},
   "outputs": [],
   "source": [
    "UNIT_FACTOR = 14.003242 / 6.022 * 5.11 * 31536. / 1.e5\n",
    "PRODUCTION_RATE = 1.76"
   ]
  },
  {
   "cell_type": "markdown",
   "metadata": {},
   "source": [
    "`jax.lax.scan` will let me make the most of the notes."
   ]
  },
  {
   "cell_type": "code",
   "execution_count": 5,
   "metadata": {},
   "outputs": [],
   "source": [
    "from jax.lax import scan \n",
    "from functools import partial "
   ]
  },
  {
   "cell_type": "code",
   "execution_count": 30,
   "metadata": {},
   "outputs": [],
   "source": [
    "def odeint_linear(derivative, y0, timesteps, *args, **kwargs):\n",
    "    step_size = timesteps[1] - timesteps[0]\n",
    "\n",
    "    def step(y, time_value, step_size=None, derivative=None, ):\n",
    "        next_time_value = y + derivative(y, time_value) * step_size\n",
    "        return next_time_value, next_time_value\n",
    "\n",
    "    step = partial(step, derivative=derivative, step_size=step_size)\n",
    "\n",
    "    _, y_values = scan(f=step, init=y0, xs=timesteps) \n",
    "    return y_values"
   ]
  },
  {
   "cell_type": "code",
   "execution_count": 7,
   "metadata": {},
   "outputs": [],
   "source": [
    "def production(t, *args, steady_state=PRODUCTION_RATE):\n",
    "    start, duration, phase, area = array(list(args)).reshape(-1)\n",
    "\n",
    "    middle = start + duration / 2.\n",
    "    height = area / duration\n",
    "    gaussian = height * exp(- ((t - middle) / (duration / 2)) ** 16.)\n",
    "    sinusoid = 0.18 * steady_state * sin(2 * pi / 11 * t + phase)\n",
    "    production = gaussian + sinusoid + steady_state\n",
    "    \n",
    "    return UNIT_FACTOR * production"
   ]
  },
  {
   "cell_type": "code",
   "execution_count": 8,
   "metadata": {},
   "outputs": [
    {
     "name": "stderr",
     "output_type": "stream",
     "text": [
      "WARNING:absl:No GPU/TPU found, falling back to CPU. (Set TF_CPP_MIN_LOG_LEVEL=0 and rerun for more info.)\n"
     ]
    }
   ],
   "source": [
    "carbon_box_model = load_presaved_model(\"Guttler14\", production_rate_units=\"atoms/cm^2/s\")\n",
    "carbon_box_model.compile()"
   ]
  },
  {
   "cell_type": "code",
   "execution_count": 9,
   "metadata": {},
   "outputs": [],
   "source": [
    "time_out = arange(-225, 775)\n",
    "oversample = 1008\n",
    "parameters = (774.86, 0.25, 0.8, 6.44)\n",
    "growth_season = array([0, 0, 0, 1, 1, 1, 1, 1, 1, 0, 0, 0])"
   ]
  },
  {
   "cell_type": "code",
   "execution_count": 35,
   "metadata": {},
   "outputs": [],
   "source": [
    "_, y_initial = carbon_box_model.run(time_out, oversample, \\\n",
    "    production, args=parameters, steady_state_production=PRODUCTION_RATE * UNIT_FACTOR)"
   ]
  },
  {
   "cell_type": "code",
   "execution_count": 11,
   "metadata": {},
   "outputs": [],
   "source": [
    "import matplotlib.pyplot as plt"
   ]
  },
  {
   "cell_type": "code",
   "execution_count": 39,
   "metadata": {},
   "outputs": [],
   "source": [
    "time_out = arange(750, 800)\n",
    "oversample = 10"
   ]
  },
  {
   "cell_type": "code",
   "execution_count": 40,
   "metadata": {},
   "outputs": [],
   "source": [
    "odeint_sample_1, _ = carbon_box_model.run(time_out, oversample, \\\n",
    "    production, y0=ode_next_y0, args=parameters, \\\n",
    "    steady_state_production=PRODUCTION_RATE * UNIT_FACTOR)\n",
    "\n",
    "lin_ode_sample_1, _ = carbon_box_model.run(time_out, oversample, \\\n",
    "    production, solver=odeint_linear, y0=lin_next_y0, args=parameters, \\\n",
    "    steady_state_production=PRODUCTION_RATE * UNIT_FACTOR)"
   ]
  },
  {
   "cell_type": "code",
   "execution_count": 49,
   "metadata": {},
   "outputs": [
    {
     "data": {
      "text/plain": [
       "Text(0.5, 1.0, '10 Samples per year')"
      ]
     },
     "execution_count": 49,
     "metadata": {},
     "output_type": "execute_result"
    },
    {
     "data": {
      "image/png": "[encoded data removed]",
      "text/plain": [
       "<Figure size 432x288 with 1 Axes>"
      ]
     },
     "metadata": {
      "needs_background": "light"
     },
     "output_type": "display_data"
    }
   ],
   "source": [
    "plt.plot(odeint_sample_1[:, 1])\n",
    "plt.plot(lin_ode_sample_1[:, 1])\n",
    "plt.legend([\"$4^{th}$ Order (DP5)\", \"Linear\"])\n",
    "plt.title(\"10 Samples per year\")"
   ]
  },
  {
   "cell_type": "code",
   "execution_count": null,
   "metadata": {},
   "outputs": [],
   "source": []
  }
 ],
 "metadata": {
  "interpreter": {
   "hash": "1d489e25830f53b6f889a54709355290897709fcf1a8ece815ede8be939a3fac"
  },
  "kernelspec": {
   "display_name": "Python 3.9.7 64-bit ('beyondticktack': conda)",
   "language": "python",
   "name": "python3"
  },
  "language_info": {
   "codemirror_mode": {
    "name": "ipython",
    "version": 3
   },
   "file_extension": ".py",
   "mimetype": "text/x-python",
   "name": "python",
   "nbconvert_exporter": "python",
   "pygments_lexer": "ipython3",
   "version": "3.9.0"
  },
  "orig_nbformat": 4
 },
 "nbformat": 4,
 "nbformat_minor": 2
}
