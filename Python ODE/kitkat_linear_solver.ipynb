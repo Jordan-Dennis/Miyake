{
 "cells": [
  {
   "cell_type": "code",
   "execution_count": 31,
   "metadata": {},
   "outputs": [],
   "source": [
    "# Numerical\n",
    "from jax.numpy import exp, sin, pi, mean    # Arithematic\n",
    "from jax.numpy import arange, array # Array creation routines\n",
    "from jax.lax import scan \n",
    "\n",
    "# Miscellaneous\n",
    "from functools import partial \n",
    "from ticktack import load_presaved_model\n",
    "\n",
    "# ODEINTs\n",
    "from ode import odeint as BS3\n",
    "from jax.experimental.ode import odeint as DP5\n",
    "from time import process_time\n",
    "\n",
    "# Visualisation\n",
    "from panda import DataFrame\n",
    "from plotnine import ggplot, aes, theme_bw, geom_point"
   ]
  },
  {
   "cell_type": "code",
   "execution_count": 32,
   "metadata": {},
   "outputs": [],
   "source": [
    "UNIT_FACTOR = 14.003242 / 6.022 * 5.11 * 31536. / 1.e5\n",
    "PRODUCTION_RATE = 1.76"
   ]
  },
  {
   "cell_type": "code",
   "execution_count": 33,
   "metadata": {},
   "outputs": [],
   "source": [
    "def odeint_linear(derivative, y0, timesteps, *args, **kwargs):\n",
    "    step_size = timesteps[1] - timesteps[0]\n",
    "\n",
    "    def step(y, time_value, step_size=None, derivative=None):\n",
    "        next_time_value = y + derivative(y, time_value) * step_size\n",
    "        return next_time_value, next_time_value\n",
    "\n",
    "    step = partial(step, derivative=derivative, step_size=step_size)\n",
    "\n",
    "    _, y_values = scan(f=step, init=y0, xs=timesteps) \n",
    "    return y_values"
   ]
  },
  {
   "cell_type": "code",
   "execution_count": 34,
   "metadata": {},
   "outputs": [],
   "source": [
    "def production(t, *args, steady_state=PRODUCTION_RATE):\n",
    "    start, duration, phase, area = array(list(args)).reshape(-1)\n",
    "\n",
    "    middle = start + duration / 2.\n",
    "    height = area / duration\n",
    "    gaussian = height * exp(- ((t - middle) / (duration / 2)) ** 16.)\n",
    "    sinusoid = 0.18 * steady_state * sin(2 * pi / 11 * t + phase)\n",
    "    production = gaussian + sinusoid + steady_state\n",
    "    \n",
    "    return UNIT_FACTOR * production"
   ]
  },
  {
   "cell_type": "code",
   "execution_count": 35,
   "metadata": {},
   "outputs": [],
   "source": [
    "carbon_box_model = load_presaved_model(\"Guttler14\", production_rate_units=\"atoms/cm^2/s\")\n",
    "carbon_box_model.compile()"
   ]
  },
  {
   "cell_type": "code",
   "execution_count": 36,
   "metadata": {},
   "outputs": [],
   "source": [
    "burn_in_time_out = arange(-225, 775)\n",
    "burn_in_oversample = 1000\n",
    "parameters = (774.86, 0.25, 0.8, 6.44)\n",
    "growth_season = array([0, 0, 0, 1, 1, 1, 1, 1, 1, 0, 0, 0])"
   ]
  },
  {
   "cell_type": "code",
   "execution_count": 37,
   "metadata": {},
   "outputs": [],
   "source": [
    "# Running the burn-in\n",
    "_, y_initial = carbon_box_model.run(burn_in_time_out, burn_in_oversample, \\\n",
    "    production, args=parameters, steady_state_production=PRODUCTION_RATE * UNIT_FACTOR)"
   ]
  },
  {
   "cell_type": "code",
   "execution_count": 38,
   "metadata": {},
   "outputs": [],
   "source": [
    "time_out = arange(750, 800)"
   ]
  },
  {
   "cell_type": "code",
   "execution_count": 39,
   "metadata": {},
   "outputs": [],
   "source": [
    "true_values, _ = carbon_box_model.run(time_out, burn_in_oversample, production,\\\n",
    "    y0=y_initial, args=parameters, steady_state_production=PRODUCTION_RATE * UNIT_FACTOR)\n",
    "true_values = true_values[:, 1] # Selecting the troposphere"
   ]
  },
  {
   "cell_type": "code",
   "execution_count": null,
   "metadata": {},
   "outputs": [],
   "source": [
    "odeint = {\"BS3\": BS3, \"DP5\": DP5, \"Linear\": odeint_linear}"
   ]
  },
  {
   "cell_type": "code",
   "execution_count": 41,
   "metadata": {},
   "outputs": [],
   "source": [
    "odeint_oversample_resids = {\n",
    "    \"Solver\": [],\n",
    "    \"Oversample\": [],\n",
    "    \"Time (s)\": [],\n",
    "    \"Accuracy\": []\n",
    "}"
   ]
  },
  {
   "cell_type": "code",
   "execution_count": 42,
   "metadata": {},
   "outputs": [
    {
     "ename": "AttributeError",
     "evalue": "'tuple' object has no attribute 'block_until_ready'",
     "output_type": "error",
     "traceback": [
      "\u001b[0;31m---------------------------------------------------------------------------\u001b[0m",
      "\u001b[0;31mAttributeError\u001b[0m                            Traceback (most recent call last)",
      "\u001b[0;32m/tmp/ipykernel_5042/719768639.py\u001b[0m in \u001b[0;36m<module>\u001b[0;34m\u001b[0m\n\u001b[1;32m      1\u001b[0m \u001b[0;32mfor\u001b[0m \u001b[0msolver\u001b[0m \u001b[0;32min\u001b[0m \u001b[0modeint_oversample\u001b[0m\u001b[0;34m:\u001b[0m\u001b[0;34m\u001b[0m\u001b[0;34m\u001b[0m\u001b[0m\n\u001b[1;32m      2\u001b[0m     \u001b[0;32mfor\u001b[0m \u001b[0moversample\u001b[0m \u001b[0;32min\u001b[0m \u001b[0modeint_oversample\u001b[0m\u001b[0;34m[\u001b[0m\u001b[0msolver\u001b[0m\u001b[0;34m]\u001b[0m\u001b[0;34m:\u001b[0m\u001b[0;34m\u001b[0m\u001b[0;34m\u001b[0m\u001b[0m\n\u001b[0;32m----> 3\u001b[0;31m         sol, _ = carbon_box_model.run(time_out, oversample, \\\n\u001b[0m\u001b[1;32m      4\u001b[0m             \u001b[0mproduction\u001b[0m\u001b[0;34m,\u001b[0m \u001b[0msolver\u001b[0m\u001b[0;34m=\u001b[0m\u001b[0modeint\u001b[0m\u001b[0;34m[\u001b[0m\u001b[0msolver\u001b[0m\u001b[0;34m]\u001b[0m\u001b[0;34m,\u001b[0m \u001b[0my0\u001b[0m\u001b[0;34m=\u001b[0m\u001b[0my_initial\u001b[0m\u001b[0;34m,\u001b[0m \u001b[0margs\u001b[0m\u001b[0;34m=\u001b[0m\u001b[0mparameters\u001b[0m\u001b[0;34m,\u001b[0m\u001b[0;31m \u001b[0m\u001b[0;31m\\\u001b[0m\u001b[0;34m\u001b[0m\u001b[0;34m\u001b[0m\u001b[0m\n\u001b[1;32m      5\u001b[0m             steady_state_production=PRODUCTION_RATE * UNIT_FACTOR).block_until_ready()\n",
      "\u001b[0;31mAttributeError\u001b[0m: 'tuple' object has no attribute 'block_until_ready'"
     ]
    }
   ],
   "source": [
    "for solver in odeint:\n",
    "    for oversample in range(10, 100, 10):\n",
    "        timer = process_time()\n",
    "        solution, _ = carbon_box_model.run(time_out, oversample, \\\n",
    "            production, solver=odeint[solver], y0=y_initial, args=parameters, \\\n",
    "            steady_state_production=PRODUCTION_RATE * UNIT_FACTOR)\n",
    "        timer = process_time() - timer\n",
    "\n",
    "        # Calculating the residuals\n",
    "        solution = solution[:, 1] # Selecting the troposphere values\n",
    "        oversample_ratio = int(burn_in_oversample / oversample) # For finding comparative index\n",
    "        local_true_value = true_values.at[::oversample_ratio]\n",
    "        residuals = solution - oversample_ratio\n",
    "        accuracy = mean(residuals)\n",
    "\n",
    "        del solution\n",
    "        del local_true_value\n",
    "        del oversample_ratio\n",
    "        del residuals\n",
    "\n",
    "        odeint_oversample_resids[\"Solver\"] = solver\n",
    "        odeint_oversample_resids[\"Oversample\"] = oversample\n",
    "        odeint_oversample_resids[\"Time (s)\"] = timer\n",
    "        odeint_oversample_resids[\"Accuracy\"] = accuracy"
   ]
  },
  {
   "cell_type": "code",
   "execution_count": null,
   "metadata": {},
   "outputs": [],
   "source": [
    "odeint_oversample_resids = DataFrame(odeint_oversample_resids)\n",
    "(ggplot(odeint_oversample_resids, \n",
    "    aes(x=\"Time (s)\", y=\"Accuracy\", color=\"Oversample\", group=\"Solver\"))\n",
    "    + theme_bw()\n",
    "    + geom_point())"
   ]
  }
 ],
 "metadata": {
  "interpreter": {
   "hash": "1d489e25830f53b6f889a54709355290897709fcf1a8ece815ede8be939a3fac"
  },
  "kernelspec": {
   "display_name": "Python 3.9.7 64-bit ('beyondticktack': conda)",
   "language": "python",
   "name": "python3"
  },
  "language_info": {
   "codemirror_mode": {
    "name": "ipython",
    "version": 3
   },
   "file_extension": ".py",
   "mimetype": "text/x-python",
   "name": "python",
   "nbconvert_exporter": "python",
   "pygments_lexer": "ipython3",
   "version": "3.9.0"
  },
  "orig_nbformat": 4
 },
 "nbformat": 4,
 "nbformat_minor": 2
}
