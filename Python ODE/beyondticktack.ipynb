{
 "cells": [
  {
   "cell_type": "code",
   "execution_count": 1,
   "metadata": {},
   "outputs": [],
   "source": [
    "import ticktack\n",
    "from ticktack import fitting as ticktackfit\n",
    "import ticktacktoe\n",
    "from ticktacktoe import fitting as ticktacktoefit\n",
    "from time import process_time\n",
    "from os import getcwd"
   ]
  },
  {
   "cell_type": "code",
   "execution_count": 4,
   "metadata": {},
   "outputs": [],
   "source": [
    "carbon_box_model = ticktacktoe.load_presaved_model(\n",
    "    \"Guttler14\", production_rate_units=\"atoms/cm^2/s\")\n",
    "\n",
    "fitting_object = ticktacktoefit.SingleFitter(\n",
    "    carbon_box_model, cbm_model=\"Guttler14\")\n",
    "fitting_object.load_data(f\"{getcwd()}/datasets/775AD/NH/Miyake12_Cedar.csv\")\n",
    "fitting_object.prepare_function(model=\"simple_sinusoid\")"
   ]
  },
  {
   "cell_type": "code",
   "execution_count": 5,
   "metadata": {},
   "outputs": [
    {
     "ename": "ValueError",
     "evalue": "Non-hashable static arguments are not supported, as this can lead to unexpected cache-misses. Static argument (index 1) of type <class 'jax.interpreters.partial_eval.DynamicJaxprTracer'> for function _odeint_wrapper is non-hashable.",
     "output_type": "error",
     "traceback": [
      "\u001b[0;31m---------------------------------------------------------------------------\u001b[0m",
      "\u001b[0;31mTypeError\u001b[0m                                 Traceback (most recent call last)",
      "\u001b[0;32m~/anaconda3/envs/beyondticktack/lib/python3.9/site-packages/jax-0.2.25-py3.9.egg/jax/_src/api_util.py\u001b[0m in \u001b[0;36margnums_partial_except\u001b[0;34m(f, static_argnums, args, allow_invalid)\u001b[0m\n\u001b[1;32m    154\u001b[0m     \u001b[0;32mtry\u001b[0m\u001b[0;34m:\u001b[0m\u001b[0;34m\u001b[0m\u001b[0;34m\u001b[0m\u001b[0m\n\u001b[0;32m--> 155\u001b[0;31m       \u001b[0mhash\u001b[0m\u001b[0;34m(\u001b[0m\u001b[0mstatic_arg\u001b[0m\u001b[0;34m)\u001b[0m\u001b[0;34m\u001b[0m\u001b[0;34m\u001b[0m\u001b[0m\n\u001b[0m\u001b[1;32m    156\u001b[0m     \u001b[0;32mexcept\u001b[0m \u001b[0mTypeError\u001b[0m\u001b[0;34m:\u001b[0m\u001b[0;34m\u001b[0m\u001b[0;34m\u001b[0m\u001b[0m\n",
      "\u001b[0;31mTypeError\u001b[0m: unhashable type: 'DynamicJaxprTracer'",
      "\nDuring handling of the above exception, another exception occurred:\n",
      "\u001b[0;31mValueError\u001b[0m                                Traceback (most recent call last)",
      "\u001b[0;32m<ipython-input-5-03ce64069780>\u001b[0m in \u001b[0;36m<module>\u001b[0;34m\u001b[0m\n\u001b[1;32m      3\u001b[0m \u001b[0;32mfor\u001b[0m \u001b[0matol\u001b[0m \u001b[0;32min\u001b[0m \u001b[0mtoleracne_range\u001b[0m\u001b[0;34m:\u001b[0m\u001b[0;34m\u001b[0m\u001b[0;34m\u001b[0m\u001b[0m\n\u001b[1;32m      4\u001b[0m     \u001b[0;32mfor\u001b[0m \u001b[0mrtol\u001b[0m \u001b[0;32min\u001b[0m \u001b[0mtoleracne_range\u001b[0m\u001b[0;34m:\u001b[0m\u001b[0;34m\u001b[0m\u001b[0;34m\u001b[0m\u001b[0m\n\u001b[0;32m----> 5\u001b[0;31m         fit_array = fitting_object.dc14(\n\u001b[0m\u001b[1;32m      6\u001b[0m             params=(774.86, 0.25, 0.8, 6.44), rtol=rtol, atol=atol)\n\u001b[1;32m      7\u001b[0m         \u001b[0mfit_shape\u001b[0m \u001b[0;34m=\u001b[0m \u001b[0mlen\u001b[0m\u001b[0;34m(\u001b[0m\u001b[0mfit_array\u001b[0m\u001b[0;34m)\u001b[0m\u001b[0;34m\u001b[0m\u001b[0;34m\u001b[0m\u001b[0m\n",
      "    \u001b[0;31m[... skipping hidden 13 frame]\u001b[0m\n",
      "\u001b[0;32m~/anaconda3/envs/beyondticktack/lib/python3.9/site-packages/ticktacktoe-0.1.3.2-py3.9.egg/ticktacktoe/fitting.py\u001b[0m in \u001b[0;36mdc14\u001b[0;34m(self, params, rtol, atol)\u001b[0m\n\u001b[1;32m    554\u001b[0m             \u001b[0mPredicted\u001b[0m \u001b[0md14c\u001b[0m \u001b[0mvalue\u001b[0m\u001b[0;34m\u001b[0m\u001b[0;34m\u001b[0m\u001b[0m\n\u001b[1;32m    555\u001b[0m         \"\"\"\n\u001b[0;32m--> 556\u001b[0;31m         \u001b[0mburnin\u001b[0m \u001b[0;34m=\u001b[0m \u001b[0mself\u001b[0m\u001b[0;34m.\u001b[0m\u001b[0mrun_burnin\u001b[0m\u001b[0;34m(\u001b[0m\u001b[0my0\u001b[0m\u001b[0;34m=\u001b[0m\u001b[0mself\u001b[0m\u001b[0;34m.\u001b[0m\u001b[0msteady_state_y0\u001b[0m\u001b[0;34m,\u001b[0m \u001b[0mparams\u001b[0m\u001b[0;34m=\u001b[0m\u001b[0mparams\u001b[0m\u001b[0;34m)\u001b[0m\u001b[0;34m\u001b[0m\u001b[0;34m\u001b[0m\u001b[0m\n\u001b[0m\u001b[1;32m    557\u001b[0m         \u001b[0mevent\u001b[0m \u001b[0;34m=\u001b[0m \u001b[0mself\u001b[0m\u001b[0;34m.\u001b[0m\u001b[0mrun_event\u001b[0m\u001b[0;34m(\u001b[0m\u001b[0my0\u001b[0m\u001b[0;34m=\u001b[0m\u001b[0mburnin\u001b[0m\u001b[0;34m[\u001b[0m\u001b[0;34m-\u001b[0m\u001b[0;36m1\u001b[0m\u001b[0;34m,\u001b[0m \u001b[0;34m:\u001b[0m\u001b[0;34m]\u001b[0m\u001b[0;34m,\u001b[0m \u001b[0mparams\u001b[0m\u001b[0;34m=\u001b[0m\u001b[0mparams\u001b[0m\u001b[0;34m)\u001b[0m\u001b[0;34m\u001b[0m\u001b[0;34m\u001b[0m\u001b[0m\n\u001b[1;32m    558\u001b[0m         \u001b[0mbinned_data\u001b[0m \u001b[0;34m=\u001b[0m \u001b[0mself\u001b[0m\u001b[0;34m.\u001b[0m\u001b[0mcbm\u001b[0m\u001b[0;34m.\u001b[0m\u001b[0mbin_data\u001b[0m\u001b[0;34m(\u001b[0m\u001b[0mevent\u001b[0m\u001b[0;34m[\u001b[0m\u001b[0;34m:\u001b[0m\u001b[0;34m,\u001b[0m \u001b[0mself\u001b[0m\u001b[0;34m.\u001b[0m\u001b[0mbox_idx\u001b[0m\u001b[0;34m]\u001b[0m\u001b[0;34m,\u001b[0m \u001b[0mself\u001b[0m\u001b[0;34m.\u001b[0m\u001b[0moversample\u001b[0m\u001b[0;34m,\u001b[0m \u001b[0mself\u001b[0m\u001b[0;34m.\u001b[0m\u001b[0mannual\u001b[0m\u001b[0;34m,\u001b[0m \u001b[0mgrowth\u001b[0m\u001b[0;34m=\u001b[0m\u001b[0mself\u001b[0m\u001b[0;34m.\u001b[0m\u001b[0mgrowth\u001b[0m\u001b[0;34m)\u001b[0m\u001b[0;34m\u001b[0m\u001b[0;34m\u001b[0m\u001b[0m\n",
      "    \u001b[0;31m[... skipping hidden 8 frame]\u001b[0m\n",
      "\u001b[0;32m~/anaconda3/envs/beyondticktack/lib/python3.9/site-packages/ticktacktoe-0.1.3.2-py3.9.egg/ticktacktoe/fitting.py\u001b[0m in \u001b[0;36mrun_burnin\u001b[0;34m(self, y0, params, rtol, atol)\u001b[0m\n\u001b[1;32m    516\u001b[0m             \u001b[0;32mfor\u001b[0m \u001b[0mthe\u001b[0m \u001b[0msystem\u001b[0m\u001b[0;34m\u001b[0m\u001b[0;34m\u001b[0m\u001b[0m\n\u001b[1;32m    517\u001b[0m         \"\"\"\n\u001b[0;32m--> 518\u001b[0;31m         box_values, _ = self.cbm.run(self.burn_in_time, self.burnin_oversample, self.production, y0=y0, args=params,\n\u001b[0m\u001b[1;32m    519\u001b[0m         \trtol=1e-15, atol=1e-15)\n\u001b[1;32m    520\u001b[0m         \u001b[0;32mreturn\u001b[0m \u001b[0mbox_values\u001b[0m\u001b[0;34m\u001b[0m\u001b[0;34m\u001b[0m\u001b[0m\n",
      "    \u001b[0;31m[... skipping hidden 8 frame]\u001b[0m\n",
      "\u001b[0;32m~/anaconda3/envs/beyondticktack/lib/python3.9/site-packages/ticktacktoe-0.1.3.2-py3.9.egg/ticktacktoe/ticktacktoe.py\u001b[0m in \u001b[0;36mrun\u001b[0;34m(self, time_out, oversample, production, y0, args, target_C_14, steady_state_production, atol, rtol)\u001b[0m\n\u001b[1;32m    537\u001b[0m             \u001b[0;32mraise\u001b[0m \u001b[0mValueError\u001b[0m\u001b[0;34m(\u001b[0m\u001b[0;34m\"incorrect object type for production\"\u001b[0m\u001b[0;34m)\u001b[0m\u001b[0;34m\u001b[0m\u001b[0;34m\u001b[0m\u001b[0m\n\u001b[1;32m    538\u001b[0m \u001b[0;34m\u001b[0m\u001b[0m\n\u001b[0;32m--> 539\u001b[0;31m         \u001b[0mstates\u001b[0m \u001b[0;34m=\u001b[0m \u001b[0modeint\u001b[0m\u001b[0;34m(\u001b[0m\u001b[0mderivative\u001b[0m\u001b[0;34m,\u001b[0m \u001b[0my_initial\u001b[0m\u001b[0;34m,\u001b[0m \u001b[0mtime_values\u001b[0m\u001b[0;34m,\u001b[0m  \u001b[0matol\u001b[0m\u001b[0;34m=\u001b[0m\u001b[0matol\u001b[0m\u001b[0;34m,\u001b[0m \u001b[0mrtol\u001b[0m\u001b[0;34m=\u001b[0m\u001b[0mrtol\u001b[0m\u001b[0;34m)\u001b[0m\u001b[0;34m\u001b[0m\u001b[0;34m\u001b[0m\u001b[0m\n\u001b[0m\u001b[1;32m    540\u001b[0m         \u001b[0;32mreturn\u001b[0m \u001b[0mstates\u001b[0m\u001b[0;34m,\u001b[0m \u001b[0msolution\u001b[0m\u001b[0;34m\u001b[0m\u001b[0;34m\u001b[0m\u001b[0m\n\u001b[1;32m    541\u001b[0m \u001b[0;34m\u001b[0m\u001b[0m\n",
      "\u001b[0;32m~/Documents/Introductory_Julia/Python ODE/ode.py\u001b[0m in \u001b[0;36modeint\u001b[0;34m(func, y0, t, rtol, atol, mxstep, *args)\u001b[0m\n\u001b[1;32m    140\u001b[0m     \u001b[0mshape\u001b[0m\u001b[0;34m/\u001b[0m\u001b[0mstructure\u001b[0m \u001b[0;32mas\u001b[0m\u001b[0;31m \u001b[0m\u001b[0;31m`\u001b[0m\u001b[0my0\u001b[0m\u001b[0;31m`\u001b[0m \u001b[0;32mexcept\u001b[0m \u001b[0;32mwith\u001b[0m \u001b[0ma\u001b[0m \u001b[0mnew\u001b[0m \u001b[0mleading\u001b[0m \u001b[0maxis\u001b[0m \u001b[0mof\u001b[0m \u001b[0mlength\u001b[0m\u001b[0;31m \u001b[0m\u001b[0;31m`\u001b[0m\u001b[0mlen\u001b[0m\u001b[0;34m(\u001b[0m\u001b[0mt\u001b[0m\u001b[0;34m)\u001b[0m\u001b[0;31m`\u001b[0m\u001b[0;34m.\u001b[0m\u001b[0;34m\u001b[0m\u001b[0;34m\u001b[0m\u001b[0m\n\u001b[1;32m    141\u001b[0m   \"\"\"\n\u001b[0;32m--> 142\u001b[0;31m   \u001b[0;32mreturn\u001b[0m \u001b[0m_odeint_wrapper\u001b[0m\u001b[0;34m(\u001b[0m\u001b[0mfunc\u001b[0m\u001b[0;34m,\u001b[0m \u001b[0mrtol\u001b[0m\u001b[0;34m,\u001b[0m \u001b[0matol\u001b[0m\u001b[0;34m,\u001b[0m \u001b[0mmxstep\u001b[0m\u001b[0;34m,\u001b[0m \u001b[0my0\u001b[0m\u001b[0;34m,\u001b[0m \u001b[0mt\u001b[0m\u001b[0;34m,\u001b[0m \u001b[0;34m*\u001b[0m\u001b[0margs\u001b[0m\u001b[0;34m)\u001b[0m\u001b[0;34m\u001b[0m\u001b[0;34m\u001b[0m\u001b[0m\n\u001b[0m\u001b[1;32m    143\u001b[0m \u001b[0;34m\u001b[0m\u001b[0m\n\u001b[1;32m    144\u001b[0m \u001b[0;34m@\u001b[0m\u001b[0mpartial\u001b[0m\u001b[0;34m(\u001b[0m\u001b[0mjax\u001b[0m\u001b[0;34m.\u001b[0m\u001b[0mjit\u001b[0m\u001b[0;34m,\u001b[0m \u001b[0mstatic_argnums\u001b[0m\u001b[0;34m=\u001b[0m\u001b[0;34m(\u001b[0m\u001b[0;36m0\u001b[0m\u001b[0;34m,\u001b[0m \u001b[0;36m1\u001b[0m\u001b[0;34m,\u001b[0m \u001b[0;36m2\u001b[0m\u001b[0;34m,\u001b[0m \u001b[0;36m3\u001b[0m\u001b[0;34m)\u001b[0m\u001b[0;34m)\u001b[0m\u001b[0;34m\u001b[0m\u001b[0;34m\u001b[0m\u001b[0m\n",
      "    \u001b[0;31m[... skipping hidden 3 frame]\u001b[0m\n",
      "\u001b[0;32m~/anaconda3/envs/beyondticktack/lib/python3.9/site-packages/jax-0.2.25-py3.9.egg/jax/_src/api_util.py\u001b[0m in \u001b[0;36margnums_partial_except\u001b[0;34m(f, static_argnums, args, allow_invalid)\u001b[0m\n\u001b[1;32m    155\u001b[0m       \u001b[0mhash\u001b[0m\u001b[0;34m(\u001b[0m\u001b[0mstatic_arg\u001b[0m\u001b[0;34m)\u001b[0m\u001b[0;34m\u001b[0m\u001b[0;34m\u001b[0m\u001b[0m\n\u001b[1;32m    156\u001b[0m     \u001b[0;32mexcept\u001b[0m \u001b[0mTypeError\u001b[0m\u001b[0;34m:\u001b[0m\u001b[0;34m\u001b[0m\u001b[0;34m\u001b[0m\u001b[0m\n\u001b[0;32m--> 157\u001b[0;31m       raise ValueError(\n\u001b[0m\u001b[1;32m    158\u001b[0m           \u001b[0;34m\"Non-hashable static arguments are not supported, as this can lead \"\u001b[0m\u001b[0;34m\u001b[0m\u001b[0;34m\u001b[0m\u001b[0m\n\u001b[1;32m    159\u001b[0m           \u001b[0;34mf\"to unexpected cache-misses. Static argument (index {i}) of type \"\u001b[0m\u001b[0;34m\u001b[0m\u001b[0;34m\u001b[0m\u001b[0m\n",
      "\u001b[0;31mValueError\u001b[0m: Non-hashable static arguments are not supported, as this can lead to unexpected cache-misses. Static argument (index 1) of type <class 'jax.interpreters.partial_eval.DynamicJaxprTracer'> for function _odeint_wrapper is non-hashable."
     ]
    }
   ],
   "source": [
    "tolerance_frame = {\"rtol\": [], \"atol\": [], \"dc14\": []}\n",
    "toleracne_range = [1e-5, 1e-6, 1e-7, 1e-8, 1e-9, 1e-10]\n",
    "for atol in toleracne_range:\n",
    "    for rtol in toleracne_range:\n",
    "        fit_array = fitting_object.dc14(\n",
    "            params=(774.86, 0.25, 0.8, 6.44), rtol=rtol, atol=atol)\n",
    "        fit_shape = len(fit_array)\n",
    "        tolerance_frame[\"rtol\"].extend([rtol for _ in range(fit_shape)])\n",
    "        tolerance_frame[\"atol\"].extend([atol for _ in range(fit_shape)])"
   ]
  },
  {
   "cell_type": "code",
   "execution_count": 25,
   "metadata": {},
   "outputs": [],
   "source": [
    "MODULES = {\n",
    "    \"ticktack\": [ticktack, ticktackfit], \n",
    "    \"ticktacktoe\": [ticktacktoe, ticktacktoefit]\n",
    "}"
   ]
  },
  {
   "cell_type": "code",
   "execution_count": 42,
   "metadata": {},
   "outputs": [],
   "source": [
    "module_profiles = {\"ticktack\": [], \"ticktacktoe\": []}\n",
    "for module in MODULES:\n",
    "    carbon_box_model = MODULES[module][0].load_presaved_model(\n",
    "        \"Guttler14\", production_rate_units=\"atoms/cm^2/s\")\n",
    "        \n",
    "    fitting_object = MODULES[module][1].SingleFitter(\n",
    "        carbon_box_model, cbm_model=\"Guttler14\")\n",
    "    fitting_object.load_data(f\"{getcwd()}/datasets/775AD/NH/Miyake12_Cedar.csv\")\n",
    "    fitting_object.prepare_function(model=\"simple_sinusoid\")\n",
    "\n",
    "    timer = process_time()\n",
    "    \n",
    "    timer = process_time() - timer\n",
    "    module_profiles[module].append(timer)\n"
   ]
  },
  {
   "cell_type": "code",
   "execution_count": 43,
   "metadata": {},
   "outputs": [
    {
     "data": {
      "text/plain": [
       "{'ticktack': [2.669819313000005], 'ticktacktoe': [7.332135637]}"
      ]
     },
     "execution_count": 43,
     "metadata": {},
     "output_type": "execute_result"
    }
   ],
   "source": [
    "module_profiles"
   ]
  },
  {
   "cell_type": "code",
   "execution_count": null,
   "metadata": {},
   "outputs": [],
   "source": []
  }
 ],
 "metadata": {
  "interpreter": {
   "hash": "1d489e25830f53b6f889a54709355290897709fcf1a8ece815ede8be939a3fac"
  },
  "kernelspec": {
   "display_name": "Python 3.9.7 64-bit ('beyondticktack': conda)",
   "language": "python",
   "name": "python3"
  },
  "language_info": {
   "codemirror_mode": {
    "name": "ipython",
    "version": 3
   },
   "file_extension": ".py",
   "mimetype": "text/x-python",
   "name": "python",
   "nbconvert_exporter": "python",
   "pygments_lexer": "ipython3",
   "version": "3.9.7"
  },
  "orig_nbformat": 4
 },
 "nbformat": 4,
 "nbformat_minor": 2
}
