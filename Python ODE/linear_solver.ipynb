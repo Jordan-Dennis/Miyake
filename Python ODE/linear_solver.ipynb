{
 "cells": [
  {
   "cell_type": "markdown",
   "metadata": {},
   "source": [
    "So I could choose to use the inbuilt `compile` method. Alternatively I could pursue my own fun and form of quaility."
   ]
  },
  {
   "cell_type": "code",
   "execution_count": 47,
   "metadata": {},
   "outputs": [],
   "source": [
    "from h5py import File\n",
    "from os import getcwd\n",
    "\n",
    "from numpy import array, diag   # Array manipulation \n",
    "from numpy import log   # Mathematical operations\n",
    "from numpy import float32 # Types"
   ]
  },
  {
   "cell_type": "code",
   "execution_count": 45,
   "metadata": {},
   "outputs": [
    {
     "name": "stdout",
     "output_type": "stream",
     "text": [
      "3.74 ms ± 484 µs per loop (mean ± std. dev. of 7 runs, 100 loops each)\n"
     ]
    }
   ],
   "source": [
    "model = File(f\"{getcwd()}/models/Guttler14.hd5\")\n",
    "model = {key: array([*value]) for key, value in model.items()}"
   ]
  },
  {
   "cell_type": "code",
   "execution_count": 62,
   "metadata": {},
   "outputs": [
    {
     "name": "stdout",
     "output_type": "stream",
     "text": [
      "26.3 µs ± 2.21 µs per loop (mean ± std. dev. of 7 runs, 10000 loops each)\n"
     ]
    }
   ],
   "source": [
    "%%timeit\n",
    "decay_matrix = diag([log(2) / 5730 for _ in model[\"fluxes\"]])"
   ]
  },
  {
   "cell_type": "code",
   "execution_count": 68,
   "metadata": {},
   "outputs": [],
   "source": [
    "from itertools import repeat"
   ]
  },
  {
   "cell_type": "code",
   "execution_count": 74,
   "metadata": {},
   "outputs": [
    {
     "name": "stdout",
     "output_type": "stream",
     "text": [
      "5.81 µs ± 291 ns per loop (mean ± std. dev. of 7 runs, 100000 loops each)\n"
     ]
    }
   ],
   "source": [
    "%%timeit\n",
    "decay_matrix = diag(list(repeat(log(2) / 5730, len(model[\"fluxes\"]))))"
   ]
  },
  {
   "cell_type": "code",
   "execution_count": 78,
   "metadata": {},
   "outputs": [
    {
     "name": "stdout",
     "output_type": "stream",
     "text": [
      "5.84 µs ± 184 ns per loop (mean ± std. dev. of 7 runs, 100000 loops each)\n"
     ]
    }
   ],
   "source": [
    "%%timeit\n",
    "decay_matrix = diag([log(2) / 5730] * len(model[\"fluxes\"]))"
   ]
  },
  {
   "cell_type": "code",
   "execution_count": 44,
   "metadata": {},
   "outputs": [
    {
     "data": {
      "text/plain": [
       "{'fluxes': array([[  0. ,  45. ,   0. ,   0. ,   0. ,   0. ,   0. ,   0. ,   0. ,\n",
       "           0. ,   0. ],\n",
       "        [ 45. ,   0. ,  60.5,   0. ,   0. , 115. ,   0. ,   0. ,   0. ,\n",
       "           0. ,   0. ],\n",
       "        [  0. ,  61. ,   0. ,  40. ,  38.2,   0. ,   0. ,   0. ,   0. ,\n",
       "           0. ,   0.3],\n",
       "        [  0. ,   0. ,  36. ,   0. ,   4. ,   0. ,   0. ,   0. ,   0. ,\n",
       "           0. ,   0. ],\n",
       "        [  0. ,   0. ,  42. ,   0. ,   0. ,   0. ,   0. ,   0. ,   0. ,\n",
       "           0. ,   0.2],\n",
       "        [  0. ,  60. ,   0. ,   0. ,   0. ,   0. ,  15. ,  40. ,   0. ,\n",
       "           0. ,   0. ],\n",
       "        [  0. ,   0. ,   0. ,   0. ,   0. ,   0. ,   0. ,  15. ,   0. ,\n",
       "           0. ,   0. ],\n",
       "        [  0. ,  50. ,   1. ,   0. ,   0. ,   0. ,   0. ,   0. ,   3. ,\n",
       "           1. ,   0. ],\n",
       "        [  0. ,   3. ,   0. ,   0. ,   0. ,   0. ,   0. ,   0. ,   0. ,\n",
       "           0. ,   0. ],\n",
       "        [  0. ,   0.8,   0. ,   0. ,   0. ,   0. ,   0. ,   0. ,   0. ,\n",
       "           0. ,   0.2],\n",
       "        [  0. ,   0.7,   0. ,   0. ,   0. ,   0. ,   0. ,   0. ,   0. ,\n",
       "           0. ,   0. ]]),\n",
       " 'hemispheres': array([b'None', b'None', b'None', b'None', b'None', b'None', b'None',\n",
       "        b'None', b'None', b'None', b'None'], dtype='|S4'),\n",
       " 'nodes': array([b'Stratosphere', b'Troposphere', b'Surface Water',\n",
       "        b'Surface Biota', b'Intermediate & Deep water',\n",
       "        b'Short-lived biota', b'Long-lived Biota', b'Litter', b'Soil',\n",
       "        b'Peat', b'Sedimentary Sink'], dtype='|S25'),\n",
       " 'production coefficients': array([0.7, 0.3, 0. , 0. , 0. , 0. , 0. , 0. , 0. , 0. , 0. ]),\n",
       " 'reservoir content': array([[8.850e+01, 5.015e+02, 9.000e+02, 3.000e+00, 3.780e+04, 1.100e+02,\n",
       "         4.500e+02, 3.000e+02, 1.350e+03, 5.000e+02, 3.780e+05]])}"
      ]
     },
     "execution_count": 44,
     "metadata": {},
     "output_type": "execute_result"
    }
   ],
   "source": [
    "self._decay_matrix = jnp.diag(jnp.array([self._decay_constant] * self._n_nodes))\n",
    "c_14_fluxes = self._corrected_fluxes / jnp.transpose(self._reservoir_content)\n",
    "new_c_14_fluxes = jnp.diag(jnp.sum(c_14_fluxes, axis=1))"
   ]
  },
  {
   "cell_type": "code",
   "execution_count": null,
   "metadata": {},
   "outputs": [],
   "source": []
  }
 ],
 "metadata": {
  "interpreter": {
   "hash": "1d489e25830f53b6f889a54709355290897709fcf1a8ece815ede8be939a3fac"
  },
  "kernelspec": {
   "display_name": "Python 3.9.7 64-bit ('beyondticktack': conda)",
   "language": "python",
   "name": "python3"
  },
  "language_info": {
   "codemirror_mode": {
    "name": "ipython",
    "version": 3
   },
   "file_extension": ".py",
   "mimetype": "text/x-python",
   "name": "python",
   "nbconvert_exporter": "python",
   "pygments_lexer": "ipython3",
   "version": "3.8.12"
  },
  "orig_nbformat": 4
 },
 "nbformat": 4,
 "nbformat_minor": 2
}
