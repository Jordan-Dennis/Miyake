{
 "cells": [
  {
   "cell_type": "markdown",
   "metadata": {},
   "source": [
    "So I could choose to use the inbuilt `compile` method. Alternatively I could pursue my own fun and form of quaility."
   ]
  },
  {
   "cell_type": "code",
   "execution_count": 123,
   "metadata": {},
   "outputs": [],
   "source": [
    "from h5py import File\n",
    "from os import getcwd\n",
    "\n",
    "from numpy import array, diag, transpose, zeros, arange, vstack   # Array manipulation \n",
    "from numpy import log, sum, exp, sin, pi, mod, floor, mean   # Mathematical operations\n",
    "from numpy import float32 # Types\n",
    "from numpy import vectorize\n",
    "\n",
    "from numpy.linalg import solve  # For the equilibriation\n",
    "\n",
    "from matplotlib.pyplot import plot\n",
    "\n",
    "from functools import partial\n",
    "from itertools import compress, groupby"
   ]
  },
  {
   "cell_type": "code",
   "execution_count": 46,
   "metadata": {},
   "outputs": [],
   "source": [
    "UNIT_FACTOR = 14.003242 / 6.022 * 5.11 * 31536. / 1.e5\n",
    "PRODUCTION_RATE = 1.76"
   ]
  },
  {
   "cell_type": "code",
   "execution_count": 47,
   "metadata": {},
   "outputs": [],
   "source": [
    "model = File(f\"{getcwd()}/models/Guttler14.hd5\")\n",
    "model = {key: array([*value]) for key, value in model.items()}"
   ]
  },
  {
   "cell_type": "code",
   "execution_count": 48,
   "metadata": {},
   "outputs": [],
   "source": [
    "decay = diag([log(2) / 5730] * len(model[\"fluxes\"]))\n",
    "fluxes = model[\"fluxes\"] / transpose(model[\"reservoir content\"])\n",
    "balance = diag(sum(fluxes, axis=1))\n",
    "transfer = transpose(fluxes) - balance - decay\n",
    "projection = model[\"production coefficients\"]\n",
    "steady_state = solve(transfer, - projection * PRODUCTION_RATE)"
   ]
  },
  {
   "cell_type": "code",
   "execution_count": 50,
   "metadata": {},
   "outputs": [],
   "source": [
    "def production(t, *args, steady_state=PRODUCTION_RATE):\n",
    "    start, duration, phase, area = args\n",
    "\n",
    "    middle = start + duration / 2.\n",
    "    height = area / duration\n",
    "    gaussian = height * exp(- ((t - middle) / (duration / 2)) ** 16.)\n",
    "    sinusoid = 0.18 * steady_state * sin(2 * pi / 11 * t + phase)\n",
    "    production = gaussian + sinusoid + steady_state\n",
    "    \n",
    "    return UNIT_FACTOR * production"
   ]
  },
  {
   "cell_type": "code",
   "execution_count": 51,
   "metadata": {},
   "outputs": [],
   "source": [
    "def dydx(y, t, *args):\n",
    "    return transfer @ y + production(t, *args) * projection"
   ]
  },
  {
   "cell_type": "code",
   "execution_count": 52,
   "metadata": {},
   "outputs": [],
   "source": [
    "def odeint_linear(y0, derivative, timesteps, parameters=()):\n",
    "    step_size = timesteps[1] - timesteps[0]\n",
    "    output = zeros((y0.shape[0], timesteps.shape[0]))\n",
    "    output[:, 0] = y0\n",
    "    for j, step in enumerate(timesteps[:-1]):\n",
    "        output[:, j+1] = output[:, j] + step_size * \\\n",
    "            derivative(output[:, j], step, *parameters)\n",
    "    return output "
   ]
  },
  {
   "cell_type": "code",
   "execution_count": 39,
   "metadata": {},
   "outputs": [],
   "source": [
    "growth_season = [False, False, False, True, True, True, True, True, True, False, False, False]\n",
    "time_out = 754.4567"
   ]
  },
  {
   "cell_type": "code",
   "execution_count": 25,
   "metadata": {},
   "outputs": [],
   "source": [
    "def bin_data(carbon_14, time_out, growth_season):\n",
    "    \n",
    "    carbon_14 = groupby(zip(floor(time_out), time_out, transpose(test))), lambda x: x[0])\n",
    "    \n",
    "    @partial(growth_season=growth_season)\n",
    "    def in_growth_season(time, growth_season):\n",
    "        month = int(floor((time - floor(time)) * 12))\n",
    "        return growth_season[month]\n",
    "\n",
    "    mask = map(in_growth_season, time_out)\n",
    "    compress(carbon_14, mask)\n",
    "    return mask"
   ]
  },
  {
   "cell_type": "code",
   "execution_count": 109,
   "metadata": {},
   "outputs": [
    {
     "data": {
      "text/plain": [
       "[<matplotlib.lines.Line2D at 0x7fea113dac40>]"
      ]
     },
     "execution_count": 109,
     "metadata": {},
     "output_type": "execute_result"
    },
    {
     "data": {
      "image/png": "[encoded data removed]",
      "text/plain": [
       "<Figure size 432x288 with 1 Axes>"
      ]
     },
     "metadata": {
      "needs_background": "light"
     },
     "output_type": "display_data"
    }
   ],
   "source": [
    "time_out = arange(-225, 775, 0.1)\n",
    "test = odeint_linear(steady_state, dydx, time_out, parameters=(774.86, 0.25, 0.8, 6.44))\n",
    "plot(time_out, test[1, :])"
   ]
  },
  {
   "cell_type": "code",
   "execution_count": null,
   "metadata": {},
   "outputs": [],
   "source": [
    "from ticktack import load_presaved_model\n",
    "from ticktack.fitting import SingleFitter"
   ]
  },
  {
   "cell_type": "code",
   "execution_count": null,
   "metadata": {},
   "outputs": [
    {
     "data": {
      "text/plain": [
       "DeviceArray([-16.23879236, -16.2310565 , -16.22331509, ..., -13.40276013,\n",
       "             -13.41207219, -13.42138503], dtype=float64)"
      ]
     },
     "execution_count": 98,
     "metadata": {},
     "output_type": "execute_result"
    }
   ],
   "source": [
    "carbon_box_model = load_presaved_model(\"Guttler14\", production_rate_units=\"atoms/cm^2/s\")\n",
    "fitting_object = SingleFitter(carbon_box_model)\n",
    "fitting_object.prepare_function(model=\"simple_sinusoid\")\n",
    "fitting_object.load_data(f\"{getcwd()}/datasets/775AD/NH/Miyake12_Cedar.csv\")\n",
    "fitting_object.dc14_fine((774.86, 0.25, 0.8, 6.44))"
   ]
  },
  {
   "cell_type": "code",
   "execution_count": null,
   "metadata": {},
   "outputs": [],
   "source": []
  },
  {
   "cell_type": "code",
   "execution_count": null,
   "metadata": {},
   "outputs": [],
   "source": []
  }
 ],
 "metadata": {
  "interpreter": {
   "hash": "1d489e25830f53b6f889a54709355290897709fcf1a8ece815ede8be939a3fac"
  },
  "kernelspec": {
   "display_name": "Python 3.9.7 64-bit ('beyondticktack': conda)",
   "language": "python",
   "name": "python3"
  },
  "language_info": {
   "codemirror_mode": {
    "name": "ipython",
    "version": 3
   },
   "file_extension": ".py",
   "mimetype": "text/x-python",
   "name": "python",
   "nbconvert_exporter": "python",
   "pygments_lexer": "ipython3",
   "version": "3.8.12"
  },
  "orig_nbformat": 4
 },
 "nbformat": 4,
 "nbformat_minor": 2
}
