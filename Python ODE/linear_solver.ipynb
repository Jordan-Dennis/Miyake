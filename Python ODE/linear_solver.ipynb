{
 "cells": [
  {
   "cell_type": "markdown",
   "metadata": {},
   "source": [
    "So I could choose to use the inbuilt `compile` method. Alternatively I could pursue my own fun and form of quaility."
   ]
  },
  {
   "cell_type": "code",
   "execution_count": 76,
   "metadata": {},
   "outputs": [],
   "source": [
    "from h5py import File\n",
    "from os import getcwd\n",
    "\n",
    "from numpy import array, diag, transpose, zeros, arange   # Array manipulation \n",
    "from numpy import log, sum, exp, sin, pi   # Mathematical operations\n",
    "from numpy import float32 # Types\n",
    "\n",
    "from matplotlib.pyplot import plot"
   ]
  },
  {
   "cell_type": "code",
   "execution_count": 77,
   "metadata": {},
   "outputs": [],
   "source": [
    "UNIT_FACTOR = 14.003242 / 6.022 * 5.11 * 31536. / 1.e5"
   ]
  },
  {
   "cell_type": "code",
   "execution_count": 78,
   "metadata": {},
   "outputs": [],
   "source": [
    "model = File(f\"{getcwd()}/models/Guttler14.hd5\")\n",
    "model = {key: array([*value]) for key, value in model.items()}"
   ]
  },
  {
   "cell_type": "code",
   "execution_count": 79,
   "metadata": {},
   "outputs": [],
   "source": [
    "decay = diag([log(2) / 5730] * len(model[\"fluxes\"]))\n",
    "yinitial = model[\"reservoir content\"]\n",
    "fluxes = model[\"fluxes\"] / transpose(yinitial)\n",
    "balance = diag(sum(fluxes, axis=1))\n",
    "transfer = transpose(fluxes) - balance - decay\n",
    "projection = model[\"production coefficients\"]"
   ]
  },
  {
   "cell_type": "code",
   "execution_count": 80,
   "metadata": {},
   "outputs": [],
   "source": [
    "def production(t, *args, steady_state=1.86):\n",
    "    start, duration, phase, area = args\n",
    "\n",
    "    middle = start + duration / 2.\n",
    "    height = area / duration\n",
    "    gaussian = height * exp(- ((t - middle) / (duration / 2)) ** 16.)\n",
    "    sinusoid = 0.18 * steady_state * sin(2 * pi / 11 * t + phase)\n",
    "    production = gaussian + sinusoid + steady_state\n",
    "    \n",
    "    return UNIT_FACTOR * production"
   ]
  },
  {
   "cell_type": "code",
   "execution_count": 81,
   "metadata": {},
   "outputs": [],
   "source": [
    "def dydx(y, t, *args):\n",
    "    return transfer @ y + production(t, *args) * projection"
   ]
  },
  {
   "cell_type": "code",
   "execution_count": 82,
   "metadata": {},
   "outputs": [],
   "source": [
    "def odeint_linear(y0, derivative, timesteps, parameters=()):\n",
    "    step_size = timesteps[1] - timesteps[0]\n",
    "    output = zeros((y0.shape[1], timesteps.shape[0]))\n",
    "    output[:, 0] = y0\n",
    "    for j, step in enumerate(timesteps[:-1]):\n",
    "        output[:, j+1] = output[:, j] + step_size * \\\n",
    "            derivative(output[:, j], step, *parameters)\n",
    "    return output "
   ]
  },
  {
   "cell_type": "code",
   "execution_count": 83,
   "metadata": {},
   "outputs": [],
   "source": [
    "time_out = arange(-225, 775, 0.1)"
   ]
  },
  {
   "cell_type": "code",
   "execution_count": null,
   "metadata": {},
   "outputs": [],
   "source": [
    "test = odeint_linear(yinitial, dydx, time_out, parameters=(774.86, 0.25, 0.8, 6.44))"
   ]
  },
  {
   "cell_type": "code",
   "execution_count": 85,
   "metadata": {},
   "outputs": [],
   "source": []
  },
  {
   "cell_type": "code",
   "execution_count": 86,
   "metadata": {},
   "outputs": [
    {
     "data": {
      "text/plain": [
       "[<matplotlib.lines.Line2D at 0x7f6904872550>,\n",
       " <matplotlib.lines.Line2D at 0x7f69048725b0>,\n",
       " <matplotlib.lines.Line2D at 0x7f69048726d0>,\n",
       " <matplotlib.lines.Line2D at 0x7f69048727f0>,\n",
       " <matplotlib.lines.Line2D at 0x7f6904872910>,\n",
       " <matplotlib.lines.Line2D at 0x7f6904872a30>,\n",
       " <matplotlib.lines.Line2D at 0x7f6904872b50>,\n",
       " <matplotlib.lines.Line2D at 0x7f6904872c70>,\n",
       " <matplotlib.lines.Line2D at 0x7f6904872d90>,\n",
       " <matplotlib.lines.Line2D at 0x7f6904872eb0>,\n",
       " <matplotlib.lines.Line2D at 0x7f6904872fd0>]"
      ]
     },
     "execution_count": 86,
     "metadata": {},
     "output_type": "execute_result"
    },
    {
     "data": {
      "image/png": "[encoded data removed]",
      "text/plain": [
       "<Figure size 432x288 with 1 Axes>"
      ]
     },
     "metadata": {
      "needs_background": "light"
     },
     "output_type": "display_data"
    }
   ],
   "source": [
    "plot(time_out, transpose(test))"
   ]
  }
 ],
 "metadata": {
  "interpreter": {
   "hash": "1d489e25830f53b6f889a54709355290897709fcf1a8ece815ede8be939a3fac"
  },
  "kernelspec": {
   "display_name": "Python 3.9.7 64-bit ('beyondticktack': conda)",
   "language": "python",
   "name": "python3"
  },
  "language_info": {
   "codemirror_mode": {
    "name": "ipython",
    "version": 3
   },
   "file_extension": ".py",
   "mimetype": "text/x-python",
   "name": "python",
   "nbconvert_exporter": "python",
   "pygments_lexer": "ipython3",
   "version": "3.8.12"
  },
  "orig_nbformat": 4
 },
 "nbformat": 4,
 "nbformat_minor": 2
}
