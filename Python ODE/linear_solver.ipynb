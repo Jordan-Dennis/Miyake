{
 "cells": [
  {
   "cell_type": "markdown",
   "metadata": {},
   "source": [
    "So I could choose to use the inbuilt `compile` method. Alternatively I could pursue my own fun and form of quaility."
   ]
  },
  {
   "cell_type": "code",
   "execution_count": 88,
   "metadata": {},
   "outputs": [],
   "source": [
    "from h5py import File\n",
    "from os import getcwd\n",
    "\n",
    "from numpy import array, diag, transpose   # Array manipulation \n",
    "from numpy import log, sum, exp   # Mathematical operations\n",
    "from numpy import float32 # Types"
   ]
  },
  {
   "cell_type": "code",
   "execution_count": 99,
   "metadata": {},
   "outputs": [],
   "source": [
    "model = File(f\"{getcwd()}/models/Guttler14.hd5\")\n",
    "model = {key: array([*value]) for key, value in model.items()}"
   ]
  },
  {
   "cell_type": "code",
   "execution_count": 100,
   "metadata": {},
   "outputs": [],
   "source": [
    "decay = diag([log(2) / 5730] * len(model[\"fluxes\"]))\n",
    "fluxes = model[\"fluxes\"] / transpose(model[\"reservoir content\"])\n",
    "balance = diag(sum(fluxes, axis=1))\n",
    "transfer = transpose(fluxes) - balance - decay\n",
    "projection = model[\"production coefficients\"]"
   ]
  },
  {
   "cell_type": "code",
   "execution_count": null,
   "metadata": {},
   "outputs": [],
   "source": []
  },
  {
   "cell_type": "code",
   "execution_count": null,
   "metadata": {},
   "outputs": [],
   "source": [
    "def production(t, *args):\n",
    "    start, duration, phase, area = args\n",
    "\n",
    "    middle = start + duration / 2.\n",
    "    height = area / duration\n",
    "    gaussian = height * exp(- ((t - middle) / (duration / 2)) ** 16.)\n",
    "    \n",
    "    production = steady_state_production + 0.18 * steady_state_production * sin(\n",
    "        2 * pi / 11 * t + phase) + height\n",
    "    return production"
   ]
  },
  {
   "cell_type": "code",
   "execution_count": 97,
   "metadata": {},
   "outputs": [],
   "source": [
    "def dydx(y, t, *args):\n",
    "    return transfer @ y + production(t, *args) * projection"
   ]
  }
 ],
 "metadata": {
  "interpreter": {
   "hash": "1d489e25830f53b6f889a54709355290897709fcf1a8ece815ede8be939a3fac"
  },
  "kernelspec": {
   "display_name": "Python 3.9.7 64-bit ('beyondticktack': conda)",
   "language": "python",
   "name": "python3"
  },
  "language_info": {
   "codemirror_mode": {
    "name": "ipython",
    "version": 3
   },
   "file_extension": ".py",
   "mimetype": "text/x-python",
   "name": "python",
   "nbconvert_exporter": "python",
   "pygments_lexer": "ipython3",
   "version": "3.8.12"
  },
  "orig_nbformat": 4
 },
 "nbformat": 4,
 "nbformat_minor": 2
}
