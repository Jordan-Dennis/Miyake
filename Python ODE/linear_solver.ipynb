{
 "cells": [
  {
   "cell_type": "markdown",
   "metadata": {},
   "source": [
    "So I could choose to use the inbuilt `compile` method. Alternatively I could pursue my own fun and form of quaility."
   ]
  },
  {
   "cell_type": "code",
   "execution_count": 76,
   "metadata": {},
   "outputs": [],
   "source": [
    "from h5py import File\n",
    "from os import getcwd\n",
    "\n",
    "from numpy import array, diag, transpose, zeros, arange   # Array manipulation \n",
    "from numpy import log, sum, exp, sin, pi   # Mathematical operations\n",
    "from numpy import float32 # Types\n",
    "\n",
    "from matplotlib.pyplot import plot"
   ]
  },
  {
   "cell_type": "code",
   "execution_count": 77,
   "metadata": {},
   "outputs": [],
   "source": [
    "UNIT_FACTOR = 14.003242 / 6.022 * 5.11 * 31536. / 1.e5"
   ]
  },
  {
   "cell_type": "code",
   "execution_count": 78,
   "metadata": {},
   "outputs": [],
   "source": [
    "model = File(f\"{getcwd()}/models/Guttler14.hd5\")\n",
    "model = {key: array([*value]) for key, value in model.items()}"
   ]
  },
  {
   "cell_type": "code",
   "execution_count": 79,
   "metadata": {},
   "outputs": [],
   "source": [
    "decay = diag([log(2) / 5730] * len(model[\"fluxes\"]))\n",
    "yinitial = model[\"reservoir content\"]\n",
    "fluxes = model[\"fluxes\"] / transpose(yinitial)\n",
    "balance = diag(sum(fluxes, axis=1))\n",
    "transfer = transpose(fluxes) - balance - decay\n",
    "projection = model[\"production coefficients\"]"
   ]
  },
  {
   "cell_type": "code",
   "execution_count": 80,
   "metadata": {},
   "outputs": [],
   "source": [
    "def production(t, *args, steady_state=1.86):\n",
    "    start, duration, phase, area = args\n",
    "\n",
    "    middle = start + duration / 2.\n",
    "    height = area / duration\n",
    "    gaussian = height * exp(- ((t - middle) / (duration / 2)) ** 16.)\n",
    "    sinusoid = 0.18 * steady_state * sin(2 * pi / 11 * t + phase)\n",
    "    production = gaussian + sinusoid + steady_state\n",
    "    \n",
    "    return UNIT_FACTOR * production"
   ]
  },
  {
   "cell_type": "code",
   "execution_count": 81,
   "metadata": {},
   "outputs": [],
   "source": [
    "def dydx(y, t, *args):\n",
    "    return transfer @ y + production(t, *args) * projection"
   ]
  },
  {
   "cell_type": "code",
   "execution_count": 82,
   "metadata": {},
   "outputs": [],
   "source": [
    "def odeint_linear(y0, derivative, timesteps, parameters=()):\n",
    "    step_size = timesteps[1] - timesteps[0]\n",
    "    output = zeros((y0.shape[1], timesteps.shape[0]))\n",
    "    output[:, 0] = y0\n",
    "    for j, step in enumerate(timesteps[:-1]):\n",
    "        output[:, j+1] = output[:, j] + step_size * \\\n",
    "            derivative(output[:, j], step, *parameters)\n",
    "    return output "
   ]
  },
  {
   "cell_type": "code",
   "execution_count": 83,
   "metadata": {},
   "outputs": [],
   "source": [
    "time_out = arange(-225, 775, 0.1)"
   ]
  },
  {
   "cell_type": "code",
   "execution_count": null,
   "metadata": {},
   "outputs": [],
   "source": [
    "test = odeint_linear(yinitial, dydx, time_out, parameters=(774.86, 0.25, 0.8, 6.44))"
   ]
  },
  {
   "cell_type": "code",
   "execution_count": 88,
   "metadata": {},
   "outputs": [
    {
     "data": {
      "text/plain": [
       "[<matplotlib.lines.Line2D at 0x7f6904757b80>]"
      ]
     },
     "execution_count": 88,
     "metadata": {},
     "output_type": "execute_result"
    },
    {
     "data": {
      "image/png": "[encoded data removed]",
      "text/plain": [
       "<Figure size 432x288 with 1 Axes>"
      ]
     },
     "metadata": {
      "needs_background": "light"
     },
     "output_type": "display_data"
    }
   ],
   "source": [
    "plot(time_out, test[1, :])"
   ]
  },
  {
   "cell_type": "code",
   "execution_count": 92,
   "metadata": {},
   "outputs": [],
   "source": [
    "from ticktack import load_presaved_model\n",
    "from ticktack.fitting import SingleFitter"
   ]
  },
  {
   "cell_type": "code",
   "execution_count": 96,
   "metadata": {},
   "outputs": [
    {
     "ename": "AttributeError",
     "evalue": "'SingleFitter' object has no attribute 'burn_in_time'",
     "output_type": "error",
     "traceback": [
      "\u001b[0;31m---------------------------------------------------------------------------\u001b[0m",
      "\u001b[0;31mAttributeError\u001b[0m                            Traceback (most recent call last)",
      "\u001b[0;32m/tmp/ipykernel_15976/2309511445.py\u001b[0m in \u001b[0;36m<module>\u001b[0;34m\u001b[0m\n\u001b[1;32m      2\u001b[0m \u001b[0mfitting_object\u001b[0m \u001b[0;34m=\u001b[0m \u001b[0mSingleFitter\u001b[0m\u001b[0;34m(\u001b[0m\u001b[0mcarbon_box_model\u001b[0m\u001b[0;34m)\u001b[0m\u001b[0;34m\u001b[0m\u001b[0;34m\u001b[0m\u001b[0m\n\u001b[1;32m      3\u001b[0m \u001b[0mfitting_object\u001b[0m\u001b[0;34m.\u001b[0m\u001b[0mprepare_function\u001b[0m\u001b[0;34m(\u001b[0m\u001b[0mmodel\u001b[0m\u001b[0;34m=\u001b[0m\u001b[0;34m\"simple_sinusoid\"\u001b[0m\u001b[0;34m)\u001b[0m\u001b[0;34m\u001b[0m\u001b[0;34m\u001b[0m\u001b[0m\n\u001b[0;32m----> 4\u001b[0;31m \u001b[0mfitting_object\u001b[0m\u001b[0;34m.\u001b[0m\u001b[0mdc14_fine\u001b[0m\u001b[0;34m(\u001b[0m\u001b[0;34m(\u001b[0m\u001b[0;36m774.86\u001b[0m\u001b[0;34m,\u001b[0m \u001b[0;36m0.25\u001b[0m\u001b[0;34m,\u001b[0m \u001b[0;36m0.8\u001b[0m\u001b[0;34m,\u001b[0m \u001b[0;36m6.44\u001b[0m\u001b[0;34m)\u001b[0m\u001b[0;34m)\u001b[0m\u001b[0;34m\u001b[0m\u001b[0;34m\u001b[0m\u001b[0m\n\u001b[0m",
      "    \u001b[0;31m[... skipping hidden 13 frame]\u001b[0m\n",
      "\u001b[0;32m~/anaconda3/envs/ticktack/lib/python3.8/site-packages/ticktack-0.1.3.2-py3.8.egg/ticktack/fitting.py\u001b[0m in \u001b[0;36mdc14_fine\u001b[0;34m(self, params)\u001b[0m\n\u001b[1;32m    554\u001b[0m             \u001b[0mPredicted\u001b[0m \u001b[0md14c\u001b[0m \u001b[0mvalue\u001b[0m\u001b[0;34m\u001b[0m\u001b[0;34m\u001b[0m\u001b[0m\n\u001b[1;32m    555\u001b[0m         \"\"\"\n\u001b[0;32m--> 556\u001b[0;31m         \u001b[0mburnin\u001b[0m \u001b[0;34m=\u001b[0m \u001b[0mself\u001b[0m\u001b[0;34m.\u001b[0m\u001b[0mrun_burnin\u001b[0m\u001b[0;34m(\u001b[0m\u001b[0my0\u001b[0m\u001b[0;34m=\u001b[0m\u001b[0mself\u001b[0m\u001b[0;34m.\u001b[0m\u001b[0msteady_state_y0\u001b[0m\u001b[0;34m,\u001b[0m \u001b[0mparams\u001b[0m\u001b[0;34m=\u001b[0m\u001b[0mparams\u001b[0m\u001b[0;34m)\u001b[0m\u001b[0;34m\u001b[0m\u001b[0;34m\u001b[0m\u001b[0m\n\u001b[0m\u001b[1;32m    557\u001b[0m         \u001b[0mevent\u001b[0m \u001b[0;34m=\u001b[0m \u001b[0mself\u001b[0m\u001b[0;34m.\u001b[0m\u001b[0mrun_event\u001b[0m\u001b[0;34m(\u001b[0m\u001b[0my0\u001b[0m\u001b[0;34m=\u001b[0m\u001b[0mburnin\u001b[0m\u001b[0;34m[\u001b[0m\u001b[0;34m-\u001b[0m\u001b[0;36m1\u001b[0m\u001b[0;34m,\u001b[0m \u001b[0;34m:\u001b[0m\u001b[0;34m]\u001b[0m\u001b[0;34m,\u001b[0m \u001b[0mparams\u001b[0m\u001b[0;34m=\u001b[0m\u001b[0mparams\u001b[0m\u001b[0;34m)\u001b[0m\u001b[0;34m\u001b[0m\u001b[0;34m\u001b[0m\u001b[0m\n\u001b[1;32m    558\u001b[0m         \u001b[0md14c\u001b[0m \u001b[0;34m=\u001b[0m \u001b[0;34m(\u001b[0m\u001b[0mevent\u001b[0m\u001b[0;34m[\u001b[0m\u001b[0;34m:\u001b[0m\u001b[0;34m,\u001b[0m \u001b[0;36m1\u001b[0m\u001b[0;34m]\u001b[0m \u001b[0;34m-\u001b[0m \u001b[0mself\u001b[0m\u001b[0;34m.\u001b[0m\u001b[0msteady_state_y0\u001b[0m\u001b[0;34m[\u001b[0m\u001b[0;36m1\u001b[0m\u001b[0;34m]\u001b[0m\u001b[0;34m)\u001b[0m \u001b[0;34m/\u001b[0m \u001b[0mself\u001b[0m\u001b[0;34m.\u001b[0m\u001b[0msteady_state_y0\u001b[0m\u001b[0;34m[\u001b[0m\u001b[0;36m1\u001b[0m\u001b[0;34m]\u001b[0m \u001b[0;34m*\u001b[0m \u001b[0;36m1000\u001b[0m\u001b[0;34m\u001b[0m\u001b[0;34m\u001b[0m\u001b[0m\n",
      "    \u001b[0;31m[... skipping hidden 8 frame]\u001b[0m\n",
      "\u001b[0;32m~/anaconda3/envs/ticktack/lib/python3.8/site-packages/ticktack-0.1.3.2-py3.8.egg/ticktack/fitting.py\u001b[0m in \u001b[0;36mrun_burnin\u001b[0;34m(self, y0, params)\u001b[0m\n\u001b[1;32m    498\u001b[0m             \u001b[0;32mfor\u001b[0m \u001b[0mthe\u001b[0m \u001b[0msystem\u001b[0m\u001b[0;34m\u001b[0m\u001b[0;34m\u001b[0m\u001b[0m\n\u001b[1;32m    499\u001b[0m         \"\"\"\n\u001b[0;32m--> 500\u001b[0;31m         \u001b[0mbox_values\u001b[0m\u001b[0;34m,\u001b[0m \u001b[0m_\u001b[0m \u001b[0;34m=\u001b[0m \u001b[0mself\u001b[0m\u001b[0;34m.\u001b[0m\u001b[0mcbm\u001b[0m\u001b[0;34m.\u001b[0m\u001b[0mrun\u001b[0m\u001b[0;34m(\u001b[0m\u001b[0mself\u001b[0m\u001b[0;34m.\u001b[0m\u001b[0mburn_in_time\u001b[0m\u001b[0;34m,\u001b[0m \u001b[0mself\u001b[0m\u001b[0;34m.\u001b[0m\u001b[0moversample\u001b[0m\u001b[0;34m,\u001b[0m \u001b[0mself\u001b[0m\u001b[0;34m.\u001b[0m\u001b[0mproduction\u001b[0m\u001b[0;34m,\u001b[0m \u001b[0my0\u001b[0m\u001b[0;34m=\u001b[0m\u001b[0my0\u001b[0m\u001b[0;34m,\u001b[0m \u001b[0margs\u001b[0m\u001b[0;34m=\u001b[0m\u001b[0mparams\u001b[0m\u001b[0;34m)\u001b[0m\u001b[0;34m\u001b[0m\u001b[0;34m\u001b[0m\u001b[0m\n\u001b[0m\u001b[1;32m    501\u001b[0m         \u001b[0;32mreturn\u001b[0m \u001b[0mbox_values\u001b[0m\u001b[0;34m\u001b[0m\u001b[0;34m\u001b[0m\u001b[0m\n\u001b[1;32m    502\u001b[0m \u001b[0;34m\u001b[0m\u001b[0m\n",
      "\u001b[0;31mAttributeError\u001b[0m: 'SingleFitter' object has no attribute 'burn_in_time'"
     ]
    }
   ],
   "source": [
    "carbon_box_model = load_presaved_model(\"Guttler14\", production_rate_units=\"atoms/cm^2/s\")\n",
    "fitting_object = SingleFitter(carbon_box_model)\n",
    "fitting_object.prepare_function(model=\"simple_sinusoid\")\n",
    "fitting_object.load_data())\n",
    "fitting_object.dc14_fine((774.86, 0.25, 0.8, 6.44))"
   ]
  },
  {
   "cell_type": "code",
   "execution_count": 95,
   "metadata": {},
   "outputs": [],
   "source": []
  },
  {
   "cell_type": "code",
   "execution_count": null,
   "metadata": {},
   "outputs": [],
   "source": []
  }
 ],
 "metadata": {
  "interpreter": {
   "hash": "1d489e25830f53b6f889a54709355290897709fcf1a8ece815ede8be939a3fac"
  },
  "kernelspec": {
   "display_name": "Python 3.9.7 64-bit ('beyondticktack': conda)",
   "language": "python",
   "name": "python3"
  },
  "language_info": {
   "codemirror_mode": {
    "name": "ipython",
    "version": 3
   },
   "file_extension": ".py",
   "mimetype": "text/x-python",
   "name": "python",
   "nbconvert_exporter": "python",
   "pygments_lexer": "ipython3",
   "version": "3.8.12"
  },
  "orig_nbformat": 4
 },
 "nbformat": 4,
 "nbformat_minor": 2
}
